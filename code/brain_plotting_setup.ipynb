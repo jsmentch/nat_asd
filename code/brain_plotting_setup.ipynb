{
 "cells": [
  {
   "cell_type": "code",
   "execution_count": 38,
   "id": "a193e3ca-4c4a-48ce-99c0-573f87561045",
   "metadata": {},
   "outputs": [],
   "source": [
    "import sys\n",
    "# import hcp_utils as hcp\n",
    "import sys\n",
    "from scipy.io import loadmat\n",
    "import numpy as np\n",
    "import matplotlib\n",
    "matplotlib.use('AGG')\n",
    "import glob\n",
    "\n",
    "sys.path.insert(0, '/om2/scratch/tmp/jsmentch/nat_img/code')\n",
    "from matplotlib import pyplot as plt\n",
    "import numpy as np\n",
    "\n",
    "# Import the function from the file\n",
    "import matplotlib.gridspec as gridspec\n",
    "from PIL import Image\n",
    "\n",
    "from analysis import plot_results\n",
    "from analysis import plot_results_medial\n",
    "from analysis import plot_results_medial_midthickness_alpha\n",
    "from analysis import plot_results_medial_midthickness_alpha_ventralflat\n",
    "from analysis import plot_results_inputalpha\n"
   ]
  },
  {
   "cell_type": "code",
   "execution_count": 28,
   "id": "cea06f3c-a068-4c30-a1b2-f5f03364a547",
   "metadata": {},
   "outputs": [],
   "source": [
    "sub='NDARHJ830RXD'\n",
    "feature='cochresnet50pca1'\n",
    "#feature='cochresnet50pca1hrfssfirst'\n",
    "#feature='manual'\n",
    "loaded=np.load(f'../pilot_results/sub-{sub}_roi-all_feat-{feature}_delay-7.npz')\n",
    "#loaded=np.load(f'../good_pilots/sub-{sub}_roi-a4a5_feat-{feature}_delay-0.npz')\n",
    "\n",
    "sub_data=loaded['stacked_r2s']\n"
   ]
  },
  {
   "cell_type": "code",
   "execution_count": 3,
   "id": "1b4f9b14-7036-4668-95ae-03e1d5c591ad",
   "metadata": {},
   "outputs": [],
   "source": [
    "bootstrap_files = glob.glob(f'../pilot_results/sub-NDARHJ830RXD_roi-all_feat-cochresnet50pca1_delay-7_bootstrap-*.npz')\n",
    "bootstrap_data=[]\n",
    "for f in bootstrap_files:\n",
    "    data=np.load(f)\n",
    "    bootstrap_data.append(data['stacked_r2s'])\n",
    "bootstrap_data=np.asanyarray(bootstrap_data)\n",
    "\n",
    "p_vals=[]\n",
    "for i,sub_d in enumerate(sub_data):\n",
    "    bool_arr=bootstrap_data[:,i]>sub_d\n",
    "    count = np.sum(bool_arr)\n",
    "    p_vals.append(count/bootstrap_data.shape[0])\n",
    "\n",
    "#bh_corrected=false_discovery_control(p_vals, method='bh')\n",
    "#sub_data[bh_corrected > 0.05] = 0"
   ]
  },
  {
   "cell_type": "code",
   "execution_count": null,
   "id": "3a7d748d-e056-482b-9c4e-eff2318b6cd0",
   "metadata": {},
   "outputs": [],
   "source": []
  },
  {
   "cell_type": "code",
   "execution_count": null,
   "id": "116d9be2-1e55-49b5-8c9d-2bde4cd07664",
   "metadata": {},
   "outputs": [],
   "source": []
  },
  {
   "cell_type": "code",
   "execution_count": 4,
   "id": "806835de-52d3-4777-abb1-65f2ed24200b",
   "metadata": {},
   "outputs": [],
   "source": [
    "def fdr_correction(p_values):\n",
    "    # Sort the p-values in ascending order\n",
    "    sorted_p_indices = np.argsort(p_values)\n",
    "    sorted_p_values = np.sort(p_values)\n",
    "    \n",
    "    # Calculate the corrected p-values\n",
    "    m = len(p_values)\n",
    "    ranks = np.arange(1, m + 1)\n",
    "    corrected_p_values = sorted_p_values * m / ranks\n",
    "    \n",
    "    # Ensure the corrected p-values are between 0 and 1\n",
    "    corrected_p_values = np.minimum.accumulate(corrected_p_values[::-1])[::-1]\n",
    "    \n",
    "    # Return the corrected p-values in their original order\n",
    "    unsorted_corrected_p_values = np.empty_like(corrected_p_values)\n",
    "    unsorted_corrected_p_values[sorted_p_indices] = corrected_p_values\n",
    "    \n",
    "    return unsorted_corrected_p_values\n",
    "bh_corrected = fdr_correction(p_vals)\n",
    "#bh_corrected=false_discovery_control(p_vals, method='bh')\n",
    "#sub_data[bh_corrected > 0.05] = 0"
   ]
  },
  {
   "cell_type": "code",
   "execution_count": 5,
   "id": "27b9bf9e-8816-4099-920f-7cd24960f1b3",
   "metadata": {},
   "outputs": [],
   "source": [
    "sub_data=np.argmax(loaded['S_average'],axis=1)\n",
    "#sub_data[bh_corrected > 0.05] = -1"
   ]
  },
  {
   "cell_type": "code",
   "execution_count": 7,
   "id": "34037bb3-b79d-49c8-9c4e-e50b73501589",
   "metadata": {},
   "outputs": [
    {
     "name": "stderr",
     "output_type": "stream",
     "text": [
      "/om2/scratch/tmp/jsmentch/nat_img/code/nilearn_plotting_custom.py:184: MatplotlibDeprecationWarning: Axes3D(fig) adding itself to the figure is deprecated since 3.4. Pass the keyword argument auto_add_to_figure=False and use fig.add_axes(ax) to suppress this warning. The default value of auto_add_to_figure will change to False in mpl3.5 and True values will no longer work in 3.6.  This is consistent with other Axes classes.\n",
      "  axes = Axes3D(figure, rect=[0, 0, 1, 1],\n"
     ]
    },
    {
     "name": "stdout",
     "output_type": "stream",
     "text": [
      "[0.    0.125 0.25  0.375 0.5   0.625 0.75  0.875]\n",
      "[0.    0.125 0.25  0.375 0.5   0.625 0.75  0.875]\n",
      "[0.    0.125 0.25  0.375 0.5   0.625 0.75  0.875]\n",
      "[0.    0.125 0.25  0.375 0.5   0.625 0.75  0.875]\n",
      "[0.    0.125 0.25  0.375 0.5   0.625 0.75  0.875]\n",
      "[0.    0.125 0.25  0.375 0.5   0.625 0.75  0.875]\n",
      "[0.    0.125 0.25  0.375 0.5   0.625 0.75  0.875]\n",
      "[0.    0.125 0.25  0.375 0.5   0.625 0.75  0.875]\n",
      "[0.    0.125 0.25  0.375 0.5   0.625 0.75  0.875]\n",
      "[0.    0.125 0.25  0.375 0.5   0.625 0.75  0.875]\n",
      "[0.    0.125 0.25  0.375 0.5   0.625 0.75  0.875]\n",
      "[0.    0.125 0.25  0.375 0.5   0.625 0.75  0.875]\n"
     ]
    }
   ],
   "source": [
    "plot_results(sub_data, 's_average', '32k', None, sub, feature, 'pilot', f'DM_delay-0');\n",
    "plot_results_medial(sub_data, 's_average', '32k', None, sub, feature, 'pilot', f'DM_delay-0_medial');\n",
    "plot_results_medial_midthickness_alpha(sub_data, 's_average', '32k', None, sub, feature, 'pilot', f'DM_delay-0_medial_midthickness');\n"
   ]
  },
  {
   "cell_type": "code",
   "execution_count": 6,
   "id": "0d862640-46a9-4ab9-9dd9-9b66f7fe68fa",
   "metadata": {},
   "outputs": [
    {
     "name": "stderr",
     "output_type": "stream",
     "text": [
      "/om2/scratch/tmp/jsmentch/nat_img/code/nilearn_plotting_custom.py:184: MatplotlibDeprecationWarning: Axes3D(fig) adding itself to the figure is deprecated since 3.4. Pass the keyword argument auto_add_to_figure=False and use fig.add_axes(ax) to suppress this warning. The default value of auto_add_to_figure will change to False in mpl3.5 and True values will no longer work in 3.6.  This is consistent with other Axes classes.\n",
      "  axes = Axes3D(figure, rect=[0, 0, 1, 1],\n"
     ]
    },
    {
     "name": "stdout",
     "output_type": "stream",
     "text": [
      "[0.    0.125 0.25  0.375 0.5   0.625 0.75  0.875]\n",
      "[0.    0.125 0.25  0.375 0.5   0.625 0.75  0.875]\n",
      "[0.    0.125 0.25  0.375 0.5   0.625 0.75  0.875]\n",
      "[0.    0.125 0.25  0.375 0.5   0.625 0.75  0.875]\n",
      "[0.    0.125 0.25  0.375 0.5   0.625 0.75  0.875]\n",
      "[0.    0.125 0.25  0.375 0.5   0.625 0.75  0.875]\n",
      "[0.    0.125 0.25  0.375 0.5   0.625 0.75  0.875]\n",
      "[0.    0.125 0.25  0.375 0.5   0.625 0.75  0.875]\n"
     ]
    }
   ],
   "source": [
    "sub_data=np.argmax(loaded['S_average'],axis=1)\n",
    "sub_alpha=bh_corrected\n",
    "#sub_alpha[bh_corrected > 0.05] = 1\n",
    "sub_alpha=1+(sub_alpha*-1)\n",
    "plot_results_inputalpha(sub_data, sub_alpha, 's_average', '32k', None, sub, feature, 'pilot', f'DM_delay-7_alpha2ZZZ');\n",
    "\n",
    "\n",
    "sub_data=np.argmax(loaded['S_average'],axis=1)\n",
    "sub_alpha=bh_corrected\n",
    "sub_alpha[bh_corrected > 0.05] = 1\n",
    "sub_alpha=1+(sub_alpha*-1)\n",
    "plot_results_inputalpha(sub_data, sub_alpha, 's_average', '32k', None, sub, feature, 'pilot', f'DM_delay-7_alpha1ZZZ');\n",
    "\n"
   ]
  },
  {
   "cell_type": "markdown",
   "id": "af66a3fb-f3f1-4101-bae0-1b510e0007b2",
   "metadata": {},
   "source": [
    "## plot all of the subjects"
   ]
  },
  {
   "cell_type": "code",
   "execution_count": null,
   "id": "01ac6c94-9ec7-4e1c-a14f-6264755b9334",
   "metadata": {},
   "outputs": [],
   "source": [
    "bootstrap_files = glob.glob(f'../pilot_results/sub-NDARHJ830RXD_roi-all_feat-cochresnet50pca1_delay-7_bootstrap-*.npz')\n",
    "bootstrap_data=[]\n",
    "for f in bootstrap_files:\n",
    "    data=np.load(f)\n",
    "    bootstrap_data.append(data['stacked_r2s'])\n",
    "bootstrap_data=np.asanyarray(bootstrap_data)\n",
    "\n",
    "\n",
    "    \n",
    "    \n",
    "    \n",
    "with open('pilots_ru_dm_list.txt', 'r') as file:\n",
    "    sub_list = file.readlines()\n",
    "sub_list = [line.strip() for line in sub_list]\n",
    "\n",
    "for sub in sub_list:\n",
    "    feature='cochresnet50pca1'\n",
    "    #feature='manual'\n",
    "    loaded=np.load(f'../pilot_results/sub-{sub}_roi-all_feat-{feature}_delay-7.npz')\n",
    "    sub_data=loaded['stacked_r2s']\n",
    "    \n",
    "    p_vals=[]\n",
    "    for i,sub_d in enumerate(sub_data):\n",
    "        bool_arr=bootstrap_data[:,i]>sub_d\n",
    "        count = np.sum(bool_arr)\n",
    "        p_vals.append(count/bootstrap_data.shape[0])\n",
    "    bh_corrected = fdr_correction(p_vals)\n",
    "    \n",
    "    \n",
    "    sub_data=np.argmax(loaded['S_average'],axis=1)\n",
    "    sub_alpha=bh_corrected\n",
    "    sub_alpha[bh_corrected > 0.05] = 1\n",
    "    sub_alpha=1+(sub_alpha*-1)\n",
    "    plot_results_inputalpha(sub_data, sub_alpha, 's_average', '32k', None, sub, feature, 'pilot_s', f'DM_delay-7_alpha1');\n",
    "    sub_data=loaded['stacked_r2s']\n",
    "    plot_results_inputalpha(sub_data, sub_alpha, 'r2', '32k', None, sub, feature, 'pilot_r2', f'DM_delay-7_alpha1');\n",
    "    \n"
   ]
  },
  {
   "cell_type": "markdown",
   "id": "9b8fc1d6-1066-4214-bf6f-4a1a6ca7ea99",
   "metadata": {},
   "source": [
    "## make gifs"
   ]
  },
  {
   "cell_type": "code",
   "execution_count": 12,
   "id": "45db4256-7343-4e03-b492-c4bc5a110e8d",
   "metadata": {},
   "outputs": [],
   "source": [
    "#make dem gifs\n",
    "\n",
    "from PIL import Image, ImageDraw, ImageFont\n",
    "import os\n",
    "import numpy as np\n",
    "features=['gif']\n",
    "for feature in features:\n",
    "    filelist=[]\n",
    "    import os\n",
    "    for root, dirs, files in os.walk(f'../outputs/figures/pilot_r2'):\n",
    "        for name in files:\n",
    "            filelist.append(os.path.join(root, name))\n",
    "\n",
    "    append_images=[]\n",
    "    for i,f in enumerate(filelist):\n",
    "        if i==0:\n",
    "            img1 = Image.open(f)\n",
    "        else:\n",
    "            img2 = Image.open(f)\n",
    "            append_images.append(img2)\n",
    "    img1.save(f'../plots/pilots_r2_rough.gif', save_all=True, append_images=append_images, duration=100, loop=0)"
   ]
  },
  {
   "cell_type": "code",
   "execution_count": 13,
   "id": "9877d514-6a5d-4f69-ada4-b440489ef231",
   "metadata": {},
   "outputs": [],
   "source": [
    "#make dem gifs\n",
    "\n",
    "from PIL import Image, ImageDraw, ImageFont\n",
    "import os\n",
    "import numpy as np\n",
    "features=['gif']\n",
    "for feature in features:\n",
    "    filelist=[]\n",
    "    import os\n",
    "    for root, dirs, files in os.walk(f'../outputs/figures/pilot_s'):\n",
    "        for name in files:\n",
    "            filelist.append(os.path.join(root, name))\n",
    "\n",
    "    append_images=[]\n",
    "    for i,f in enumerate(filelist):\n",
    "        if i==0:\n",
    "            img1 = Image.open(f)\n",
    "        else:\n",
    "            img2 = Image.open(f)\n",
    "            append_images.append(img2)\n",
    "    img1.save(f'../plots/pilots_s_rough.gif', save_all=True, append_images=append_images, duration=100, loop=0)"
   ]
  },
  {
   "cell_type": "markdown",
   "id": "ffefdbd7-1afd-4e01-81e6-a0e0617cd997",
   "metadata": {},
   "source": [
    "## plot selected ROIs"
   ]
  },
  {
   "cell_type": "code",
   "execution_count": 30,
   "id": "0ec46cda-8b18-4988-8a26-cd5932fdda1d",
   "metadata": {},
   "outputs": [],
   "source": [
    "\n",
    "sub='NDARHJ830RXD'\n",
    "feature='cochresnet50pca1'\n",
    "#feature='cochresnet50pca1hrfssfirst'\n",
    "#feature='manual'\n",
    "loaded=np.load(f'../good_pilots/sub-02_roi-a4a5_feat-cochresnet50srp05hrffriends_s01e02b_delay-0_friends_yz.npz')\n",
    "#loaded=np.load(f'../good_pilots/sub-{sub}_roi-a4a5_feat-{feature}_delay-0.npz')\n",
    "\n",
    "sub_data=loaded['stacked_r2s']\n"
   ]
  },
  {
   "cell_type": "code",
   "execution_count": 31,
   "id": "c889040a-620d-4fae-bdc9-ed8d6dd1c934",
   "metadata": {
    "jupyter": {
     "source_hidden": true
    },
    "tags": []
   },
   "outputs": [],
   "source": [
    "def load_glasser():\n",
    "    atlas_dlabel='/om2/user/jsmentch/atlases/atlas-Glasser/atlas-Glasser_space-fsLR_den-91k_dseg.dlabel.nii'\n",
    "    img = nb.load(atlas_dlabel)\n",
    "    atlas_data=img.get_fdata()\n",
    "    atlas_data=atlas_data[0,:]\n",
    "    atlas=pd.read_csv('/om2/user/jsmentch/atlases/atlas-Glasser/atlas-Glasser_dseg.tsv', sep='\\t')\n",
    "    return(atlas,atlas_data)\n",
    "\n",
    "def get_parcel_indices(atlas, parcels):\n",
    "    #parcels MUST be a list of strings\n",
    "    patternR = '|'.join(['Right_' + parcel for parcel in parcels])\n",
    "    patternL = '|'.join(['Left_' + parcel for parcel in parcels])\n",
    "    \n",
    "    # get a boolean series where True indicates a match\n",
    "    matches = atlas['label'].str.contains(patternR) | atlas['label'].str.contains(patternL)\n",
    "    \n",
    "    # get the indices that match\n",
    "    atlas_indices = atlas[matches]['index'].tolist()\n",
    "    indices = matches[matches].index.tolist()\n",
    "    parcel_names=atlas[matches]['label'].tolist()\n",
    "    return(atlas_indices,indices,parcel_names)\n",
    "\n",
    "def extract_parcels(parcels):\n",
    "    atlas,atlas_data=load_glasser()\n",
    "    atlas_indices,indices,parcel_names=get_parcel_indices(atlas,parcels)\n",
    "    atlas_indices_indices = np.where(np.isin(atlas_data, atlas_indices))[0]\n",
    "    print(f'loaded parcels {parcels}')\n",
    "    return(atlas_indices_indices)\n",
    "\n",
    "def select_parcels(parcel_selection):\n",
    "    #parcels: auditory, visual, audiovideo, all, custom\n",
    "    if parcel_selection == 'auditory':\n",
    "        parcels=[\n",
    "        'A1',\n",
    "        'LBelt',\n",
    "        'MBelt',\n",
    "        'PBelt',\n",
    "        'A4',\n",
    "        'TA2',\n",
    "        'A5']\n",
    "    elif parcel_selection == 'a4a5':\n",
    "        parcels=[\n",
    "        'A4',\n",
    "        'A5']\n",
    "    elif parcel_selection == 'visual':\n",
    "        parcels=[\n",
    "                'V1',\n",
    "                'V2',\n",
    "                'V3',\n",
    "                'V4',\n",
    "                'MT',\n",
    "                'MST',\n",
    "                'V4t',\n",
    "                'FST',\n",
    "                'FFC',\n",
    "                'V8',\n",
    "                'PIT',\n",
    "                'VVC',\n",
    "                'VMV1',\n",
    "                'VMV2',\n",
    "                'VMV3',\n",
    "                'V3A',\n",
    "                'V3B',\n",
    "                'V6',\n",
    "                'V6A',\n",
    "                'V7']\n",
    "    elif parcel_selection == 'earlyvisual':\n",
    "        parcels=[\n",
    "                'V1',\n",
    "                'V2',\n",
    "                'V3',\n",
    "                'V4',\n",
    "                'MT']\n",
    "\n",
    "    elif parcel_selection == 'ventralvisual':\n",
    "        parcels=[\n",
    "                'FFC',\n",
    "                'V8',\n",
    "                'PIT',\n",
    "                'VVC',\n",
    "                'VMV1',\n",
    "                'VMV2',\n",
    "                'VMV3']\n",
    "    elif parcel_selection == 'audiovisual':\n",
    "        parcels=[\n",
    "                'IPS1',\n",
    "                'IFSa',\n",
    "                'IFSp',\n",
    "                'IFJa',\n",
    "                'IFJp',\n",
    "                'FEF',\n",
    "                'STSvp',\n",
    "                'STSdp',\n",
    "                'STSva',\n",
    "                'STSda',\n",
    "                'STGa',\n",
    "                'STV',\n",
    "                'TPOJ1',\n",
    "                'TPOJ2',\n",
    "                'TPOJ3']\n",
    "    elif parcel_selection == 'all_select':\n",
    "        parcels=[\n",
    "                'V1',\n",
    "                'V2',\n",
    "                'V3',\n",
    "                'V4',\n",
    "                'MT',\n",
    "                'MST',\n",
    "                'V4t',\n",
    "                'FST',\n",
    "                'FFC',\n",
    "                'V8',\n",
    "                'PIT',\n",
    "                'VVC',\n",
    "                'VMV1',\n",
    "                'VMV2',\n",
    "                'VMV3',\n",
    "                'V3A',\n",
    "                'V3B',\n",
    "                'V6',\n",
    "                'V6A',\n",
    "                'V7',\n",
    "                'IPS1',\n",
    "                'IFSa',\n",
    "                'IFSp',\n",
    "                'IFJa',\n",
    "                'IFJp',\n",
    "                'FEF',\n",
    "                'STSvp',\n",
    "                'STSdp',\n",
    "                'STSva',\n",
    "                'STSda',\n",
    "                'STGa',\n",
    "                'STV',\n",
    "                'TPOJ1',\n",
    "                'TPOJ2',\n",
    "                'TPOJ3',\n",
    "                'A1',\n",
    "                'LBelt',\n",
    "                'MBelt',\n",
    "                'PBelt',\n",
    "                'A4',\n",
    "                'TA2',\n",
    "                'A5']\n",
    "    return(parcels)"
   ]
  },
  {
   "cell_type": "code",
   "execution_count": 39,
   "id": "4e59c0b8-6145-4c39-b664-74b69fc10567",
   "metadata": {},
   "outputs": [
    {
     "name": "stdout",
     "output_type": "stream",
     "text": [
      "loaded parcels ['A1', 'LBelt', 'MBelt', 'PBelt', 'A4', 'TA2', 'A5']\n"
     ]
    }
   ],
   "source": [
    "import nibabel as nb\n",
    "import pandas as pd\n",
    "import numpy as np\n",
    "\n",
    "parcels=select_parcels('auditory') # load parcel set\n",
    "atlas_indices_indices=extract_parcels(parcels) # get indices of parcels"
   ]
  },
  {
   "cell_type": "code",
   "execution_count": 33,
   "id": "f83c3950-acfc-4a87-82c5-4be4661a41c2",
   "metadata": {},
   "outputs": [],
   "source": [
    "scores=np.zeros((91282,))\n",
    "scores[atlas_indices_indices]=sub_data"
   ]
  },
  {
   "cell_type": "code",
   "execution_count": null,
   "id": "10a86057-66fa-46ac-8e9e-33fc77ec4ac7",
   "metadata": {},
   "outputs": [],
   "source": [
    "plot_results(scores, 'r2', '32k', None, '02', 'cochresnet50srp05hrffriends', 'pilot', f's01e02b_delay-0');\n"
   ]
  },
  {
   "cell_type": "code",
   "execution_count": null,
   "id": "9ca95a8e-da32-484d-83d2-ec51cb66f7b6",
   "metadata": {},
   "outputs": [],
   "source": [
    "for sub in ['01','02','03','04','05','06']:\n",
    "    loaded=np.load(f'../good_pilots/sub-{sub}_roi-auditory_feat-cochresnet50pca10hrffriends_s01e02b_delay-0_friends.npz')\n",
    "#loaded=np.load(f'../good_pilots/sub-{sub}_roi-a4a5_feat-{feature}_delay-0.npz')\n",
    "\n",
    "    sub_data=loaded['stacked_r2s']\n",
    "    scores=np.zeros((91282,))\n",
    "    scores[atlas_indices_indices]=sub_data\n",
    "    plot_results(scores, 'r2', '32k', None, sub, 'cochresnet50pca10hrffriends', 'pilot', f's01e02b_delay-0');\n"
   ]
  },
  {
   "cell_type": "code",
   "execution_count": 41,
   "id": "168d77de-c3a6-41f7-8be3-43dd729be316",
   "metadata": {},
   "outputs": [
    {
     "name": "stderr",
     "output_type": "stream",
     "text": [
      "/om2/scratch/tmp/jsmentch/nat_img/code/nilearn_plotting_custom.py:184: MatplotlibDeprecationWarning: Axes3D(fig) adding itself to the figure is deprecated since 3.4. Pass the keyword argument auto_add_to_figure=False and use fig.add_axes(ax) to suppress this warning. The default value of auto_add_to_figure will change to False in mpl3.5 and True values will no longer work in 3.6.  This is consistent with other Axes classes.\n",
      "  axes = Axes3D(figure, rect=[0, 0, 1, 1],\n"
     ]
    },
    {
     "name": "stdout",
     "output_type": "stream",
     "text": [
      "[0.    0.125 0.25  0.375 0.5   0.625 0.75  0.875]\n",
      "[0.    0.125 0.25  0.375 0.5   0.625 0.75  0.875]\n",
      "[0.    0.125 0.25  0.375 0.5   0.625 0.75  0.875]\n",
      "[0.    0.125 0.25  0.375 0.5   0.625 0.75  0.875]\n",
      "[0.    0.125 0.25  0.375 0.5   0.625 0.75  0.875]\n",
      "[0.    0.125 0.25  0.375 0.5   0.625 0.75  0.875]\n",
      "[0.    0.125 0.25  0.375 0.5   0.625 0.75  0.875]\n",
      "[0.    0.125 0.25  0.375 0.5   0.625 0.75  0.875]\n",
      "[0.    0.125 0.25  0.375 0.5   0.625 0.75  0.875]\n",
      "[0.    0.25  0.375 0.5   0.625 0.75  0.875]\n",
      "[0.    0.125 0.25  0.375 0.5   0.625 0.75  0.875]\n",
      "[0.    0.25  0.375 0.5   0.625 0.75  0.875]\n",
      "[0.    0.125 0.25  0.375 0.5   0.625 0.75  0.875]\n",
      "[0.    0.125 0.25  0.375 0.5   0.625 0.75  0.875]\n",
      "[0.    0.125 0.25  0.375 0.5   0.625 0.75  0.875]\n",
      "[0.    0.125 0.25  0.375 0.5   0.625 0.75  0.875]\n",
      "[0.    0.125 0.25  0.375 0.5   0.625 0.75  0.875]\n",
      "[0.    0.125 0.25  0.375 0.5   0.625 0.75  0.875]\n",
      "[0.    0.125 0.25  0.375 0.5   0.625 0.75  0.875]\n",
      "[0.    0.125 0.25  0.375 0.5   0.625 0.75  0.875]\n",
      "[0.    0.125 0.25  0.375 0.5   0.625 0.75  0.875]\n",
      "[0.    0.125 0.25  0.375 0.5   0.625 0.75  0.875]\n",
      "[0.    0.125 0.25  0.375 0.5   0.625 0.75  0.875]\n",
      "[0.    0.125 0.25  0.375 0.5   0.625 0.75  0.875]\n"
     ]
    }
   ],
   "source": [
    "for sub in ['01','02','03','04','05','06']:\n",
    "    loaded=np.load(f'../good_pilots/sub-{sub}_roi-auditory_feat-cochresnet50pca10hrffriends_s01e02b_delay-0_friends.npz')\n",
    "#loaded=np.load(f'../good_pilots/sub-{sub}_roi-a4a5_feat-{feature}_delay-0.npz')\n",
    "\n",
    "    sub_data=np.argmax(loaded['S_average'],axis=1)\n",
    "    scores=np.zeros((91282,))\n",
    "    scores[atlas_indices_indices]=sub_data\n",
    "    plot_results(scores, 's_average', '32k', None, sub, 'cochresnet50pca10hrffriends', 'pilot', f's01e02b_delay-0');\n"
   ]
  },
  {
   "cell_type": "code",
   "execution_count": null,
   "id": "33eaf9df-2924-481e-9321-24572b081bf2",
   "metadata": {},
   "outputs": [],
   "source": []
  },
  {
   "cell_type": "code",
   "execution_count": null,
   "id": "7cb8f7f1-8a21-4275-8f82-0bebef04f5f2",
   "metadata": {},
   "outputs": [],
   "source": []
  },
  {
   "cell_type": "code",
   "execution_count": null,
   "id": "979c53b1-4570-402b-a223-02d359aa3250",
   "metadata": {},
   "outputs": [],
   "source": []
  },
  {
   "cell_type": "code",
   "execution_count": null,
   "id": "51622b2f-3348-47ce-a36c-c3d2cc2f97d4",
   "metadata": {},
   "outputs": [],
   "source": [
    "# calculate noise ceiling for a ROI / subject\n",
    "# run encoding model on ROI\n",
    "# plot weights for ROI"
   ]
  }
 ],
 "metadata": {
  "kernelspec": {
   "display_name": "Python 3 (ipykernel)",
   "language": "python",
   "name": "python3"
  },
  "language_info": {
   "codemirror_mode": {
    "name": "ipython",
    "version": 3
   },
   "file_extension": ".py",
   "mimetype": "text/x-python",
   "name": "python",
   "nbconvert_exporter": "python",
   "pygments_lexer": "ipython3",
   "version": "3.8.5"
  }
 },
 "nbformat": 4,
 "nbformat_minor": 5
}
