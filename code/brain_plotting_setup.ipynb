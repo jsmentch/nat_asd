{
 "cells": [
  {
   "cell_type": "code",
   "execution_count": 1,
   "id": "a193e3ca-4c4a-48ce-99c0-573f87561045",
   "metadata": {},
   "outputs": [
    {
     "name": "stderr",
     "output_type": "stream",
     "text": [
      "/opt/miniconda-latest/lib/python3.8/site-packages/nilearn/datasets/__init__.py:87: FutureWarning: Fetchers from the nilearn.datasets module will be updated in version 0.9 to return python strings instead of bytes and Pandas dataframes instead of Numpy arrays.\n",
      "  warn(\"Fetchers from the nilearn.datasets module will be \"\n",
      "pixdim[1,2,3] should be non-zero; setting 0 dims to 1\n",
      "/om2/scratch/tmp/jsmentch/nat_img/code/analysis.py:27: MatplotlibDeprecationWarning: You are modifying the state of a globally registered colormap. This has been deprecated since 3.3 and in 3.6, you will not be able to modify a registered colormap in-place. To remove this warning, you can make a copy of the colormap first. cmap = mpl.cm.get_cmap(\"RdBu\").copy()\n",
      "  cmap.set_bad(color='gray')\n"
     ]
    }
   ],
   "source": [
    "import sys\n",
    "# import hcp_utils as hcp\n",
    "import sys\n",
    "from scipy.io import loadmat\n",
    "import numpy as np\n",
    "import matplotlib\n",
    "matplotlib.use('AGG')\n",
    "import glob\n",
    "\n",
    "sys.path.insert(0, '/om2/scratch/tmp/jsmentch/nat_img/code')\n",
    "from matplotlib import pyplot as plt\n",
    "import numpy as np\n",
    "\n",
    "# Import the function from the file\n",
    "import matplotlib.gridspec as gridspec\n",
    "from PIL import Image\n",
    "\n",
    "from analysis import plot_results\n",
    "from analysis import plot_results_medial\n",
    "from analysis import plot_results_medial_midthickness_alpha\n",
    "from analysis import plot_results_medial_midthickness_alpha_ventralflat\n",
    "from analysis import plot_results_inputalpha\n"
   ]
  },
  {
   "cell_type": "code",
   "execution_count": 2,
   "id": "cea06f3c-a068-4c30-a1b2-f5f03364a547",
   "metadata": {},
   "outputs": [],
   "source": [
    "sub='NDARHJ830RXD'\n",
    "feature='cochresnet50pca1'\n",
    "#feature='manual'\n",
    "loaded=np.load(f'../pilot_results/sub-{sub}_roi-all_feat-{feature}_delay-7.npz')\n",
    "sub_data=loaded['stacked_r2s']\n"
   ]
  },
  {
   "cell_type": "code",
   "execution_count": 3,
   "id": "1b4f9b14-7036-4668-95ae-03e1d5c591ad",
   "metadata": {},
   "outputs": [],
   "source": [
    "bootstrap_files = glob.glob(f'../pilot_results/sub-NDARHJ830RXD_roi-all_feat-cochresnet50pca1_delay-7_bootstrap-*.npz')\n",
    "bootstrap_data=[]\n",
    "for f in bootstrap_files:\n",
    "    data=np.load(f)\n",
    "    bootstrap_data.append(data['stacked_r2s'])\n",
    "bootstrap_data=np.asanyarray(bootstrap_data)\n",
    "\n",
    "p_vals=[]\n",
    "for i,sub_d in enumerate(sub_data):\n",
    "    bool_arr=bootstrap_data[:,i]>sub_d\n",
    "    count = np.sum(bool_arr)\n",
    "    p_vals.append(count/bootstrap_data.shape[0])\n",
    "\n",
    "#bh_corrected=false_discovery_control(p_vals, method='bh')\n",
    "#sub_data[bh_corrected > 0.05] = 0"
   ]
  },
  {
   "cell_type": "code",
   "execution_count": 4,
   "id": "806835de-52d3-4777-abb1-65f2ed24200b",
   "metadata": {},
   "outputs": [],
   "source": [
    "\n",
    "def fdr_correction(p_values):\n",
    "    # Sort the p-values in ascending order\n",
    "    sorted_p_indices = np.argsort(p_values)\n",
    "    sorted_p_values = np.sort(p_values)\n",
    "    \n",
    "    # Calculate the corrected p-values\n",
    "    m = len(p_values)\n",
    "    ranks = np.arange(1, m + 1)\n",
    "    corrected_p_values = sorted_p_values * m / ranks\n",
    "    \n",
    "    # Ensure the corrected p-values are between 0 and 1\n",
    "    corrected_p_values = np.minimum.accumulate(corrected_p_values[::-1])[::-1]\n",
    "    \n",
    "    # Return the corrected p-values in their original order\n",
    "    unsorted_corrected_p_values = np.empty_like(corrected_p_values)\n",
    "    unsorted_corrected_p_values[sorted_p_indices] = corrected_p_values\n",
    "    \n",
    "    return unsorted_corrected_p_values\n",
    "bh_corrected = fdr_correction(p_vals)\n",
    "#bh_corrected=false_discovery_control(p_vals, method='bh')\n",
    "#sub_data[bh_corrected > 0.05] = 0"
   ]
  },
  {
   "cell_type": "code",
   "execution_count": 5,
   "id": "27b9bf9e-8816-4099-920f-7cd24960f1b3",
   "metadata": {},
   "outputs": [],
   "source": [
    "sub_data=np.argmax(loaded['S_average'],axis=1)\n",
    "#sub_data[bh_corrected > 0.05] = -1"
   ]
  },
  {
   "cell_type": "code",
   "execution_count": 18,
   "id": "34037bb3-b79d-49c8-9c4e-e50b73501589",
   "metadata": {},
   "outputs": [
    {
     "name": "stdout",
     "output_type": "stream",
     "text": [
      "[0.    0.125 0.25  0.375 0.5   0.625]\n",
      "[0.    0.125 0.25  0.375 0.5   0.625]\n",
      "[0.    0.125 0.25  0.375 0.5   0.625]\n",
      "[0.    0.125 0.25  0.375 0.5   0.625]\n",
      "[0.    0.125 0.25  0.375 0.5   0.625]\n",
      "[0.    0.125 0.25  0.375 0.5   0.625]\n",
      "[0.    0.125 0.25  0.375 0.5   0.625]\n",
      "[0.    0.125 0.25  0.375 0.5   0.625]\n",
      "[0.    0.125 0.25  0.375 0.5   0.625]\n",
      "[0.    0.125 0.25  0.375 0.5   0.625]\n",
      "[0.    0.125 0.25  0.375 0.5   0.625]\n",
      "[0.    0.125 0.25  0.375 0.5   0.625]\n"
     ]
    }
   ],
   "source": [
    "plot_results(sub_data, 's_average', '32k', None, sub, feature, 'pilot', f'DM_delay-7');\n",
    "plot_results_medial(sub_data, 's_average', '32k', None, sub, feature, 'pilot', f'DM_delay-7_medial');\n",
    "plot_results_medial_midthickness_alpha(sub_data, 's_average', '32k', None, sub, feature, 'pilot', f'DM_delay-7_medial_midthickness');\n"
   ]
  },
  {
   "cell_type": "code",
   "execution_count": 7,
   "id": "0d862640-46a9-4ab9-9dd9-9b66f7fe68fa",
   "metadata": {},
   "outputs": [
    {
     "name": "stderr",
     "output_type": "stream",
     "text": [
      "/om2/scratch/tmp/jsmentch/nat_img/code/nilearn_plotting_custom.py:184: MatplotlibDeprecationWarning: Axes3D(fig) adding itself to the figure is deprecated since 3.4. Pass the keyword argument auto_add_to_figure=False and use fig.add_axes(ax) to suppress this warning. The default value of auto_add_to_figure will change to False in mpl3.5 and True values will no longer work in 3.6.  This is consistent with other Axes classes.\n",
      "  axes = Axes3D(figure, rect=[0, 0, 1, 1],\n"
     ]
    },
    {
     "name": "stdout",
     "output_type": "stream",
     "text": [
      "[0.    0.125 0.25  0.375 0.5   0.625]\n",
      "[0.    0.125 0.25  0.375 0.5   0.625]\n",
      "[0.    0.125 0.25  0.375 0.5   0.625]\n",
      "[0.    0.125 0.25  0.375 0.5   0.625]\n",
      "[0.    0.125 0.25  0.375 0.5   0.625]\n",
      "[0.    0.125 0.25  0.375 0.5   0.625]\n",
      "[0.    0.125 0.25  0.375 0.5   0.625]\n",
      "[0.    0.125 0.25  0.375 0.5   0.625]\n"
     ]
    }
   ],
   "source": [
    "sub_data=np.argmax(loaded['S_average'],axis=1)\n",
    "sub_alpha=bh_corrected\n",
    "#sub_alpha[bh_corrected > 0.05] = 1\n",
    "sub_alpha=1+(sub_alpha*-1)\n",
    "plot_results_inputalpha(sub_data, sub_alpha, 's_average', '32k', None, sub, feature, 'pilot', f'DM_delay-7_alpha2');\n",
    "\n",
    "\n",
    "sub_data=np.argmax(loaded['S_average'],axis=1)\n",
    "sub_alpha=bh_corrected\n",
    "sub_alpha[bh_corrected > 0.05] = 1\n",
    "sub_alpha=1+(sub_alpha*-1)\n",
    "plot_results_inputalpha(sub_data, sub_alpha, 's_average', '32k', None, sub, feature, 'pilot', f'DM_delay-7_alpha1');\n",
    "\n"
   ]
  },
  {
   "cell_type": "markdown",
   "id": "af66a3fb-f3f1-4101-bae0-1b510e0007b2",
   "metadata": {},
   "source": [
    "## plot all of the subjects"
   ]
  },
  {
   "cell_type": "code",
   "execution_count": null,
   "id": "01ac6c94-9ec7-4e1c-a14f-6264755b9334",
   "metadata": {},
   "outputs": [],
   "source": [
    "bootstrap_files = glob.glob(f'../pilot_results/sub-NDARHJ830RXD_roi-all_feat-cochresnet50pca1_delay-7_bootstrap-*.npz')\n",
    "bootstrap_data=[]\n",
    "for f in bootstrap_files:\n",
    "    data=np.load(f)\n",
    "    bootstrap_data.append(data['stacked_r2s'])\n",
    "bootstrap_data=np.asanyarray(bootstrap_data)\n",
    "\n",
    "\n",
    "    \n",
    "    \n",
    "    \n",
    "with open('pilots_ru_dm_list.txt', 'r') as file:\n",
    "    sub_list = file.readlines()\n",
    "sub_list = [line.strip() for line in sub_list]\n",
    "\n",
    "for sub in sub_list:\n",
    "    feature='cochresnet50pca1'\n",
    "    #feature='manual'\n",
    "    loaded=np.load(f'../pilot_results/sub-{sub}_roi-all_feat-{feature}_delay-7.npz')\n",
    "    sub_data=loaded['stacked_r2s']\n",
    "    \n",
    "    p_vals=[]\n",
    "    for i,sub_d in enumerate(sub_data):\n",
    "        bool_arr=bootstrap_data[:,i]>sub_d\n",
    "        count = np.sum(bool_arr)\n",
    "        p_vals.append(count/bootstrap_data.shape[0])\n",
    "    bh_corrected = fdr_correction(p_vals)\n",
    "    \n",
    "    \n",
    "    sub_data=np.argmax(loaded['S_average'],axis=1)\n",
    "    sub_alpha=bh_corrected\n",
    "    sub_alpha[bh_corrected > 0.05] = 1\n",
    "    sub_alpha=1+(sub_alpha*-1)\n",
    "    plot_results_inputalpha(sub_data, sub_alpha, 's_average', '32k', None, sub, feature, 'pilot_s', f'DM_delay-7_alpha1');\n",
    "    sub_data=loaded['stacked_r2s']\n",
    "    plot_results_inputalpha(sub_data, sub_alpha, 'r2', '32k', None, sub, feature, 'pilot_r2', f'DM_delay-7_alpha1');\n",
    "    \n"
   ]
  },
  {
   "cell_type": "code",
   "execution_count": 12,
   "id": "45db4256-7343-4e03-b492-c4bc5a110e8d",
   "metadata": {},
   "outputs": [],
   "source": [
    "#make dem gifs\n",
    "\n",
    "from PIL import Image, ImageDraw, ImageFont\n",
    "import os\n",
    "import numpy as np\n",
    "features=['gif']\n",
    "for feature in features:\n",
    "    filelist=[]\n",
    "    import os\n",
    "    for root, dirs, files in os.walk(f'../outputs/figures/pilot_r2'):\n",
    "        for name in files:\n",
    "            filelist.append(os.path.join(root, name))\n",
    "\n",
    "    append_images=[]\n",
    "    for i,f in enumerate(filelist):\n",
    "        if i==0:\n",
    "            img1 = Image.open(f)\n",
    "        else:\n",
    "            img2 = Image.open(f)\n",
    "            append_images.append(img2)\n",
    "    img1.save(f'../plots/pilots_r2_rough.gif', save_all=True, append_images=append_images, duration=100, loop=0)"
   ]
  },
  {
   "cell_type": "code",
   "execution_count": 13,
   "id": "9877d514-6a5d-4f69-ada4-b440489ef231",
   "metadata": {},
   "outputs": [],
   "source": [
    "#make dem gifs\n",
    "\n",
    "from PIL import Image, ImageDraw, ImageFont\n",
    "import os\n",
    "import numpy as np\n",
    "features=['gif']\n",
    "for feature in features:\n",
    "    filelist=[]\n",
    "    import os\n",
    "    for root, dirs, files in os.walk(f'../outputs/figures/pilot_s'):\n",
    "        for name in files:\n",
    "            filelist.append(os.path.join(root, name))\n",
    "\n",
    "    append_images=[]\n",
    "    for i,f in enumerate(filelist):\n",
    "        if i==0:\n",
    "            img1 = Image.open(f)\n",
    "        else:\n",
    "            img2 = Image.open(f)\n",
    "            append_images.append(img2)\n",
    "    img1.save(f'../plots/pilots_s_rough.gif', save_all=True, append_images=append_images, duration=100, loop=0)"
   ]
  },
  {
   "cell_type": "code",
   "execution_count": null,
   "id": "e97af38a-5173-4f99-bbb5-c0d8aa08e191",
   "metadata": {},
   "outputs": [],
   "source": []
  }
 ],
 "metadata": {
  "kernelspec": {
   "display_name": "Python 3 (ipykernel)",
   "language": "python",
   "name": "python3"
  },
  "language_info": {
   "codemirror_mode": {
    "name": "ipython",
    "version": 3
   },
   "file_extension": ".py",
   "mimetype": "text/x-python",
   "name": "python",
   "nbconvert_exporter": "python",
   "pygments_lexer": "ipython3",
   "version": "3.11.9"
  }
 },
 "nbformat": 4,
 "nbformat_minor": 5
}
