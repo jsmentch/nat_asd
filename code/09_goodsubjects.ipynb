{
 "cells": [
  {
   "cell_type": "code",
   "execution_count": 4,
   "id": "7c78a3a5",
   "metadata": {},
   "outputs": [],
   "source": [
    "goodsubjects=[4,7,11,14,16,23,24,25]\n",
    "\n",
    "with open('pilots_ru_dm_list.txt', 'r') as file:\n",
    "    sub_list = file.readlines()\n",
    "sub_list = [line.strip() for line in sub_list]\n",
    "\n",
    "good_subjects_list=[]\n",
    "for gs in goodsubjects:\n",
    "    good_subjects_list.append(sub_list[gs])\n",
    "\n",
    "with open('good_pilots_ru_dm_list.txt', 'w') as f:\n",
    "    for item in good_subjects_list:\n",
    "        # write each string to the file with a newline character at the end\n",
    "        f.write(\"%s\\n\" % item)"
   ]
  },
  {
   "cell_type": "code",
   "execution_count": 1,
   "id": "8096650f",
   "metadata": {},
   "outputs": [
    {
     "data": {
      "text/plain": [
       "['NDARHJ830RXD',\n",
       " 'NDARVB897AH1',\n",
       " 'NDARFA402LMW',\n",
       " 'NDARUX340FYC',\n",
       " 'NDARJG687YYX',\n",
       " 'NDARVD194JX2',\n",
       " 'NDARVR601FUT',\n",
       " 'NDARUL694GYN']"
      ]
     },
     "execution_count": 1,
     "metadata": {},
     "output_type": "execute_result"
    }
   ],
   "source": [
    "with open('good_pilots_ru_dm_list.txt', 'r') as file:\n",
    "    sub_list = file.readlines()\n",
    "good_subjects_list = [line.strip() for line in sub_list]\n",
    "\n",
    "good_subjects_list"
   ]
  },
  {
   "cell_type": "code",
   "execution_count": null,
   "id": "b7f968ca-ba5c-4fc8-88bd-9cc38d1e3312",
   "metadata": {},
   "outputs": [],
   "source": [
    "# plot what I have"
   ]
  },
  {
   "cell_type": "code",
   "execution_count": null,
   "id": "5134684e-3b53-4867-9eaf-2cc62036be76",
   "metadata": {},
   "outputs": [],
   "source": []
  },
  {
   "cell_type": "code",
   "execution_count": null,
   "id": "8a4a314b-dd20-4465-89eb-b92fe8d9d679",
   "metadata": {},
   "outputs": [],
   "source": [
    "# figure out all runs to run and run them"
   ]
  },
  {
   "cell_type": "code",
   "execution_count": null,
   "id": "f5b8db12-2211-42ea-abd2-57bb01f87312",
   "metadata": {},
   "outputs": [],
   "source": []
  },
  {
   "cell_type": "code",
   "execution_count": null,
   "id": "d19725d8",
   "metadata": {},
   "outputs": [],
   "source": [
    "# set up HRF, prove it is good"
   ]
  },
  {
   "cell_type": "code",
   "execution_count": null,
   "id": "e0c9b275-17be-419f-bfd0-617e136719f2",
   "metadata": {},
   "outputs": [],
   "source": []
  },
  {
   "cell_type": "code",
   "execution_count": null,
   "id": "3da1c2a5",
   "metadata": {},
   "outputs": [],
   "source": [
    "# set up time x time feature"
   ]
  },
  {
   "cell_type": "code",
   "execution_count": null,
   "id": "22096a20",
   "metadata": {},
   "outputs": [],
   "source": []
  },
  {
   "cell_type": "code",
   "execution_count": null,
   "id": "15e9c2d1",
   "metadata": {},
   "outputs": [],
   "source": [
    "# check demographics of bad subjects"
   ]
  },
  {
   "cell_type": "code",
   "execution_count": null,
   "id": "1d04066d",
   "metadata": {},
   "outputs": [],
   "source": []
  },
  {
   "cell_type": "code",
   "execution_count": 5,
   "id": "7ce2e2bf",
   "metadata": {},
   "outputs": [],
   "source": [
    "#set up PCA in other direction feature"
   ]
  },
  {
   "cell_type": "code",
   "execution_count": null,
   "id": "f2d335c9",
   "metadata": {},
   "outputs": [],
   "source": []
  },
  {
   "cell_type": "code",
   "execution_count": null,
   "id": "1e35ceba",
   "metadata": {},
   "outputs": [],
   "source": [
    "#double check PCA is being performed correctly.."
   ]
  }
 ],
 "metadata": {
  "kernelspec": {
   "display_name": "Python 3 (ipykernel)",
   "language": "python",
   "name": "python3"
  },
  "language_info": {
   "codemirror_mode": {
    "name": "ipython",
    "version": 3
   },
   "file_extension": ".py",
   "mimetype": "text/x-python",
   "name": "python",
   "nbconvert_exporter": "python",
   "pygments_lexer": "ipython3",
   "version": "3.11.9"
  }
 },
 "nbformat": 4,
 "nbformat_minor": 5
}
