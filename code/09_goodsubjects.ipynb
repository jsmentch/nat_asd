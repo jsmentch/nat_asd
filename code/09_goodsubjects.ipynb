{
 "cells": [
  {
   "cell_type": "code",
   "execution_count": 4,
   "id": "7c78a3a5",
   "metadata": {},
   "outputs": [],
   "source": [
    "goodsubjects=[4,7,11,14,16,23,24,25]\n",
    "\n",
    "with open('pilots_ru_dm_list.txt', 'r') as file:\n",
    "    sub_list = file.readlines()\n",
    "sub_list = [line.strip() for line in sub_list]\n",
    "\n",
    "good_subjects_list=[]\n",
    "for gs in goodsubjects:\n",
    "    good_subjects_list.append(sub_list[gs])\n",
    "\n",
    "with open('good_pilots_ru_dm_list.txt', 'w') as f:\n",
    "    for item in good_subjects_list:\n",
    "        # write each string to the file with a newline character at the end\n",
    "        f.write(\"%s\\n\" % item)"
   ]
  },
  {
   "cell_type": "code",
   "execution_count": 1,
   "id": "8096650f",
   "metadata": {},
   "outputs": [
    {
     "data": {
      "text/plain": [
       "['NDARHJ830RXD',\n",
       " 'NDARVB897AH1',\n",
       " 'NDARFA402LMW',\n",
       " 'NDARUX340FYC',\n",
       " 'NDARJG687YYX',\n",
       " 'NDARVD194JX2',\n",
       " 'NDARVR601FUT',\n",
       " 'NDARUL694GYN']"
      ]
     },
     "execution_count": 1,
     "metadata": {},
     "output_type": "execute_result"
    }
   ],
   "source": [
    "with open('good_pilots_ru_dm_list.txt', 'r') as file:\n",
    "    sub_list = file.readlines()\n",
    "good_subjects_list = [line.strip() for line in sub_list]\n",
    "\n",
    "good_subjects_list"
   ]
  },
  {
   "cell_type": "code",
   "execution_count": null,
   "id": "8a4a314b-dd20-4465-89eb-b92fe8d9d679",
   "metadata": {},
   "outputs": [],
   "source": [
    "# figure out all runs to run and run them"
   ]
  },
  {
   "cell_type": "code",
   "execution_count": null,
   "id": "f5b8db12-2211-42ea-abd2-57bb01f87312",
   "metadata": {},
   "outputs": [],
   "source": [
    "# delay7:\n",
    "# auditory roi\n",
    "# good subjects\n",
    "\n",
    "# cochresnet50 (mean) X\n",
    "\n",
    "# cochresnet50PCA1-200 X\n",
    "\n",
    "# cochresnet50PCAc2 X\n",
    "\n",
    "\n",
    "# cochresnet50PCAlocal1,10 X\n",
    "\n",
    "# cochresnet50fullPCA1-200 X\n",
    "\n",
    "# cochresnet50PCAlocalrev1,5 X\n",
    "\n",
    "# cochresnet50TxT X\n",
    "\n",
    "# manual (resampled) X\n",
    "# manualmean //hrf? X\n",
    "\n",
    "# manualLowLevel X\n",
    "# manualAudioSet X\n",
    "\n",
    "# manualPCA1\n",
    "# manualPCA10"
   ]
  },
  {
   "cell_type": "code",
   "execution_count": 24,
   "id": "033539e2-58a1-4558-92e5-5e3c0bba2cd3",
   "metadata": {},
   "outputs": [],
   "source": [
    "def load_audio_features_PCA_new_full_rev(stim,all_layers,n_components):\n",
    "    #this method does not take the mean across time so it is large!\n",
    "    from sklearn.decomposition import PCA\n",
    "    transformer = PCA(n_components=n_components)\n",
    "    #dimensionality reduction to 50 components\n",
    "    #transformer = SparseRandomProjection(n_components=50)\n",
    "    save_features_dir = f'../data/{stim}_clips_cochresnet50/'\n",
    "\n",
    "    #get the time dimension of each layer\n",
    "    all_layers_time_shape=[]\n",
    "    file = h5py.File(f'{save_features_dir}cochresnet50_activations.h5', 'r')\n",
    "    for layer in all_layers:\n",
    "        all_layers_time_shape.append(file[layer].shape[1])\n",
    "    \n",
    "    X=[]\n",
    "    file = h5py.File(f'{save_features_dir}cochresnet50_activations_full.h5', 'r')\n",
    "    for l,layer in enumerate(all_layers):\n",
    "        print(l,layer)\n",
    "        data = file[layer]\n",
    "        data=np.asanyarray(data)\n",
    "        data=np.reshape(data, (data.shape[0],all_layers_time_shape[l],-1))\n",
    "        print('input=',data.shape)\n",
    "        X_pca=[]\n",
    "        for x_i in np.arange(data.shape[0]):\n",
    "            #X_pca.append(np.mean ( transformer.fit_transform(data[x_i,:,:].T).T  ,axis=1) )\n",
    "            #xx=np.mean( transformer.fit_transform(data[x_i,:,:].T).T  ,axis=1)\n",
    "            X_pca.append(transformer.fit_transform(data[x_i,:,:]))\n",
    "\n",
    "        X_pca=np.asanyarray(X_pca)\n",
    "        print('after mean()=',X_pca.shape)\n",
    "        X_pca=np.reshape(X_pca, (X_pca.shape[0],-1))\n",
    "        #X.append(  X_pca[:(-1*delay),:]   )\n",
    "        X.append(  X_pca   )\n",
    "        print('after flatten=',X_pca.shape)\n",
    "\n",
    "    file.close()\n",
    "    return(X)"
   ]
  },
  {
   "cell_type": "code",
   "execution_count": 4,
   "id": "ad96d396-c54e-44fa-aad6-62e1d358a0c7",
   "metadata": {},
   "outputs": [],
   "source": [
    "def load_audio_features_TxT(stim,all_layers):\n",
    "    #this method does not take the mean across time so it is large!\n",
    "    #dimensionality reduction to 50 components\n",
    "    #transformer = SparseRandomProjection(n_components=50)\n",
    "    save_features_dir = f'../data/{stim}_clips_cochresnet50/'\n",
    "    #get the time dimension of each layer\n",
    "    all_layers_time_shape=[]\n",
    "    file = h5py.File(f'{save_features_dir}cochresnet50_activations.h5', 'r')\n",
    "    for layer in all_layers:\n",
    "        all_layers_time_shape.append(file[layer].shape[1])\n",
    "    \n",
    "    X=[]\n",
    "    file = h5py.File(f'{save_features_dir}cochresnet50_activations_full.h5', 'r')\n",
    "    for l,layer in enumerate(all_layers):\n",
    "        print(l,layer)\n",
    "        data = file[layer]\n",
    "        data=np.asanyarray(data)\n",
    "        # data=np.reshape(data, (data.shape[0],all_layers_time_shape[l],-1))\n",
    "        print('input=',data.shape)\n",
    "        #print(np.corrcoef(data).shape)\n",
    "\n",
    "        X.append(np.corrcoef(data))\n",
    "        # print('after flatten=',_.shape)\n",
    "\n",
    "    file.close()\n",
    "    return(X)"
   ]
  },
  {
   "cell_type": "code",
   "execution_count": 2,
   "id": "f3f2d44f-5909-417c-b494-7d28f3fa14f3",
   "metadata": {},
   "outputs": [
    {
     "name": "stderr",
     "output_type": "stream",
     "text": [
      "pixdim[1,2,3] should be non-zero; setting 0 dims to 1\n"
     ]
    }
   ],
   "source": [
    "#cochresnet50PCAc2\n",
    "import nat_asd_utils\n",
    "from sklearn.decomposition import PCA\n",
    "import numpy as np\n",
    "import h5py\n",
    "\n",
    "\n",
    "\n",
    "features=['input_after_preproc',\n",
    "                    'conv1_relu1',\n",
    "                    'maxpool1',\n",
    "                    'layer1',\n",
    "                    'layer2',\n",
    "                    'layer3',\n",
    "                    'layer4',\n",
    "                    'avgpool']\n",
    "# X=nat_asd_utils.load_audio_features('DM',features)\n",
    "# X,features=pilot.load_features('cochresnet50pcac2')"
   ]
  },
  {
   "cell_type": "code",
   "execution_count": 5,
   "id": "8c0436f6-0abe-490d-aa28-6868378cddea",
   "metadata": {},
   "outputs": [
    {
     "name": "stdout",
     "output_type": "stream",
     "text": [
      "0 input_after_preproc\n",
      "input= (749, 82290)\n",
      "1 conv1_relu1\n",
      "input= (749, 1322880)\n",
      "2 maxpool1\n",
      "input= (749, 332416)\n",
      "3 layer1\n",
      "input= (749, 1329664)\n",
      "4 layer2\n",
      "input= (749, 677376)\n",
      "5 layer3\n",
      "input= (749, 358400)\n",
      "6 layer4\n",
      "input= (749, 186368)\n",
      "7 avgpool\n",
      "input= (749, 2048)\n"
     ]
    }
   ],
   "source": [
    "features=['input_after_preproc',\n",
    "                    'conv1_relu1',\n",
    "                    'maxpool1',\n",
    "                    'layer1',\n",
    "                    'layer2',\n",
    "                    'layer3',\n",
    "                    'layer4',\n",
    "                    'avgpool']\n",
    "X=load_audio_features_TxT('DM',features)\n",
    "\n",
    "with h5py.File(f'../data/features/DM_cochresnet50_activations-full_TxT.hdf5', 'w') as f:\n",
    "        for i, layer in enumerate(features):\n",
    "            f.create_dataset(layer, data=X[i])"
   ]
  },
  {
   "cell_type": "code",
   "execution_count": 1,
   "id": "d8955784-ac31-4729-9bcf-af1f2dfdefd4",
   "metadata": {},
   "outputs": [
    {
     "name": "stdout",
     "output_type": "stream",
     "text": [
      "1\n"
     ]
    },
    {
     "ename": "NameError",
     "evalue": "name 'load_audio_features_PCA_new_full_rev' is not defined",
     "output_type": "error",
     "traceback": [
      "\u001b[0;31m---------------------------------------------------------------------------\u001b[0m",
      "\u001b[0;31mNameError\u001b[0m                                 Traceback (most recent call last)",
      "Cell \u001b[0;32mIn[1], line 11\u001b[0m\n\u001b[1;32m      9\u001b[0m \u001b[38;5;28;01mfor\u001b[39;00m n_components \u001b[38;5;129;01min\u001b[39;00m [\u001b[38;5;241m1\u001b[39m,\u001b[38;5;241m5\u001b[39m]:\n\u001b[1;32m     10\u001b[0m     \u001b[38;5;28mprint\u001b[39m(n_components)\n\u001b[0;32m---> 11\u001b[0m     X\u001b[38;5;241m=\u001b[39m\u001b[43mload_audio_features_PCA_new_full_rev\u001b[49m(\u001b[38;5;124m'\u001b[39m\u001b[38;5;124mDM\u001b[39m\u001b[38;5;124m'\u001b[39m,features,n_components)\n\u001b[1;32m     12\u001b[0m     \u001b[38;5;28;01mwith\u001b[39;00m h5py\u001b[38;5;241m.\u001b[39mFile(\u001b[38;5;124mf\u001b[39m\u001b[38;5;124m'\u001b[39m\u001b[38;5;124m../data/features/DM_cochresnet50_activations-full_PCA-local-\u001b[39m\u001b[38;5;132;01m{\u001b[39;00mn_components\u001b[38;5;132;01m}\u001b[39;00m\u001b[38;5;124m_rev.hdf5\u001b[39m\u001b[38;5;124m'\u001b[39m, \u001b[38;5;124m'\u001b[39m\u001b[38;5;124mw\u001b[39m\u001b[38;5;124m'\u001b[39m) \u001b[38;5;28;01mas\u001b[39;00m f:\n\u001b[1;32m     13\u001b[0m         \u001b[38;5;28;01mfor\u001b[39;00m i, layer \u001b[38;5;129;01min\u001b[39;00m \u001b[38;5;28menumerate\u001b[39m(all_layers):\n",
      "\u001b[0;31mNameError\u001b[0m: name 'load_audio_features_PCA_new_full_rev' is not defined"
     ]
    }
   ],
   "source": [
    "features=['input_after_preproc',\n",
    " 'conv1_relu1',\n",
    " 'maxpool1',\n",
    " 'layer1',\n",
    " 'layer2',\n",
    " 'layer3',\n",
    " 'layer4']\n",
    "\n",
    "for n_components in [1,5]:\n",
    "    print(n_components)\n",
    "    X=load_audio_features_PCA_new_full_rev('DM',features,n_components)\n",
    "    with h5py.File(f'../data/features/DM_cochresnet50_activations-full_PCA-local-{n_components}_rev.hdf5', 'w') as f:\n",
    "        for i, layer in enumerate(all_layers):\n",
    "            f.create_dataset(layer, data=X[i])"
   ]
  },
  {
   "cell_type": "code",
   "execution_count": 1,
   "id": "d19725d8",
   "metadata": {},
   "outputs": [
    {
     "name": "stderr",
     "output_type": "stream",
     "text": [
      "pixdim[1,2,3] should be non-zero; setting 0 dims to 1\n"
     ]
    }
   ],
   "source": [
    "# set up HRF, prove it is good\n",
    "import hrf_tools\n",
    "from scipy.signal import resample\n",
    "import matplotlib.pyplot as plt\n",
    "import numpy as np\n",
    "import nat_asd_utils"
   ]
  },
  {
   "cell_type": "code",
   "execution_count": 2,
   "id": "e0c9b275-17be-419f-bfd0-617e136719f2",
   "metadata": {},
   "outputs": [],
   "source": [
    "stim='DM'\n",
    "features=['rms','chroma', 'mfcc', 'mfs', 'as_embed', 'as_scores']\n",
    "X=nat_asd_utils.load_audio_features_manual_hrf(stim,features)\n"
   ]
  },
  {
   "cell_type": "code",
   "execution_count": 6,
   "id": "55b30d93-7572-415d-b1e2-31b530f2410a",
   "metadata": {},
   "outputs": [
    {
     "name": "stdout",
     "output_type": "stream",
     "text": [
      "(750, 1)\n",
      "(750, 12)\n",
      "(750, 13)\n",
      "(750, 128)\n",
      "(750, 1024)\n",
      "(750, 521)\n"
     ]
    }
   ],
   "source": [
    "import pilot\n",
    "X,features=pilot.load_features('manual')\n",
    "for x in X:\n",
    "    print(x.shape)"
   ]
  },
  {
   "cell_type": "code",
   "execution_count": 5,
   "id": "20cb9a45-c52e-4015-8128-e89fc08c3e13",
   "metadata": {},
   "outputs": [
    {
     "data": {
      "text/plain": [
       "[<matplotlib.lines.Line2D at 0x154c0ee97190>]"
      ]
     },
     "execution_count": 5,
     "metadata": {},
     "output_type": "execute_result"
    },
    {
     "data": {
      "image/png": "[encoded data removed]",
      "text/plain": [
       "<Figure size 640x480 with 1 Axes>"
      ]
     },
     "metadata": {},
     "output_type": "display_data"
    }
   ],
   "source": [
    "import matplotlib.pyplot as plt\n",
    "plt.plot(X[0])\n"
   ]
  },
  {
   "cell_type": "code",
   "execution_count": 58,
   "id": "f5907159-9cd8-4bde-b2ac-24f8e9b8695a",
   "metadata": {},
   "outputs": [
    {
     "data": {
      "text/plain": [
       "[<matplotlib.lines.Line2D at 0x145ef1e1ad10>]"
      ]
     },
     "execution_count": 58,
     "metadata": {},
     "output_type": "execute_result"
    },
    {
     "data": {
      "image/png": "[encoded data removed]",
      "text/plain": [
       "<Figure size 640x480 with 1 Axes>"
      ]
     },
     "metadata": {},
     "output_type": "display_data"
    }
   ],
   "source": [
    "featplot=0\n",
    "plt.plot(feature_raw[:,featplot])\n",
    "plt.plot(feature[:,featplot])"
   ]
  },
  {
   "cell_type": "code",
   "execution_count": null,
   "id": "31974c06-6714-4c2e-92c6-dc964e03e1a8",
   "metadata": {},
   "outputs": [],
   "source": []
  },
  {
   "cell_type": "code",
   "execution_count": null,
   "id": "3081ae38-7a9f-437a-a573-1f1ec091de9d",
   "metadata": {},
   "outputs": [],
   "source": []
  },
  {
   "cell_type": "code",
   "execution_count": null,
   "id": "3da1c2a5",
   "metadata": {},
   "outputs": [],
   "source": [
    "# set up time x time feature"
   ]
  },
  {
   "cell_type": "code",
   "execution_count": null,
   "id": "22096a20",
   "metadata": {},
   "outputs": [],
   "source": []
  },
  {
   "cell_type": "code",
   "execution_count": null,
   "id": "15e9c2d1",
   "metadata": {},
   "outputs": [],
   "source": [
    "# check demographics of bad subjects"
   ]
  },
  {
   "cell_type": "code",
   "execution_count": null,
   "id": "1d04066d",
   "metadata": {},
   "outputs": [],
   "source": []
  },
  {
   "cell_type": "code",
   "execution_count": 5,
   "id": "7ce2e2bf",
   "metadata": {},
   "outputs": [],
   "source": [
    "#set up PCA in other direction feature"
   ]
  },
  {
   "cell_type": "code",
   "execution_count": null,
   "id": "f2d335c9",
   "metadata": {},
   "outputs": [],
   "source": []
  },
  {
   "cell_type": "code",
   "execution_count": null,
   "id": "1e35ceba",
   "metadata": {},
   "outputs": [],
   "source": [
    "#double check PCA is being performed correctly.."
   ]
  }
 ],
 "metadata": {
  "kernelspec": {
   "display_name": "Python 3 (ipykernel)",
   "language": "python",
   "name": "python3"
  },
  "language_info": {
   "codemirror_mode": {
    "name": "ipython",
    "version": 3
   },
   "file_extension": ".py",
   "mimetype": "text/x-python",
   "name": "python",
   "nbconvert_exporter": "python",
   "pygments_lexer": "ipython3",
   "version": "3.11.9"
  }
 },
 "nbformat": 4,
 "nbformat_minor": 5
}
