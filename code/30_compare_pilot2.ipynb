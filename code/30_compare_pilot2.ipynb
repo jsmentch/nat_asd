{
 "cells": [
  {
   "cell_type": "markdown",
   "id": "cc80cbca-e3a2-4f71-a91d-e338b3c31978",
   "metadata": {},
   "source": [
    "# Notebook to see how metrics do on the second pilot cohort"
   ]
  },
  {
   "cell_type": "code",
   "execution_count": null,
   "id": "a6e51d1c-82a5-40ed-963d-65382545fc62",
   "metadata": {},
   "outputs": [],
   "source": [
    "## load first pilots r2\n",
    "\n",
    "\n",
    "## load second pilots r2\n",
    "\n"
   ]
  }
 ],
 "metadata": {
  "kernelspec": {
   "display_name": "Python 3 (ipykernel)",
   "language": "python",
   "name": "python3"
  },
  "language_info": {
   "codemirror_mode": {
    "name": "ipython",
    "version": 3
   },
   "file_extension": ".py",
   "mimetype": "text/x-python",
   "name": "python",
   "nbconvert_exporter": "python",
   "pygments_lexer": "ipython3",
   "version": "3.11.9"
  }
 },
 "nbformat": 4,
 "nbformat_minor": 5
}
