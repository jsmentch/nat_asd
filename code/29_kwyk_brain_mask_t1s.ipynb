{
 "cells": [
  {
   "cell_type": "markdown",
   "id": "eb7fd154-9410-4004-8c17-aca79fa1d6e4",
   "metadata": {},
   "source": [
    "# Notebook to get brain masks of T1 images for kwyk"
   ]
  },
  {
   "cell_type": "markdown",
   "id": "bab106de-8821-42f8-b7e0-3d1ae5c34c00",
   "metadata": {},
   "source": [
    "## *NOTE this is actually not necessary, it increases uncertainty as kwyk only calculates uncertainty for the labelled regions anyway"
   ]
  },
  {
   "cell_type": "code",
   "execution_count": 1,
   "id": "a91afd89",
   "metadata": {},
   "outputs": [],
   "source": [
    "import nilearn as nl\n",
    "from nilearn import plotting, image, masking\n",
    "import json\n",
    "import numpy as np\n",
    "import nibabel as nb\n",
    "import pandas as pd\n",
    "import glob\n",
    "import os\n",
    "import json"
   ]
  },
  {
   "cell_type": "markdown",
   "id": "2bd824f2-bdd2-4e23-bdc6-e9dad06c3bc7",
   "metadata": {},
   "source": [
    "### which subjects have a t1"
   ]
  },
  {
   "cell_type": "code",
   "execution_count": 2,
   "id": "271d91af-8e54-4b78-a394-91c2880b45b5",
   "metadata": {},
   "outputs": [],
   "source": [
    "merged_qc = pd.read_csv('../data/merged_qc.csv', index_col=False)"
   ]
  },
  {
   "cell_type": "code",
   "execution_count": 11,
   "id": "0106e71a-6b6a-475e-9829-72dfc81a24fe",
   "metadata": {},
   "outputs": [],
   "source": [
    "t1_subjects=[]\n",
    "for index, row in merged_qc.iterrows():\n",
    "    t1_file=f'/nese/mit/group/sig/projects/hbn/hbn_bids/sub-{row[\"sub\"]}/ses-{row[\"ses\"]}/anat/sub-{row[\"sub\"]}_ses-{row[\"ses\"]}_*T1w.nii.gz'\n",
    "    #t1_file=f'/nese/mit/group/sig/projects/hbn/hbn_bids/derivatives/fmriprep_23.2.0/sub-{row[\"sub\"]}/ses-{row[\"ses\"]}/anat/sub-{row[\"sub\"]}_ses-{row[\"ses\"]}_*_T1w.nii.gz'\n",
    "    matching_files = glob.glob(t1_file)\n",
    "    if matching_files:\n",
    "        #print(f\"{t1_file} exists\")\n",
    "        #print(matching_files[0])\n",
    "        t1_subjects.append(row[\"sub\"])\n",
    "        #print(row[\"sub\"])\n",
    "    else:\n",
    "        # print(f\"!does not exist!\")\n",
    "        continue"
   ]
  },
  {
   "cell_type": "code",
   "execution_count": 21,
   "id": "b4480d74-4878-45cb-a602-a47d6584a6f0",
   "metadata": {},
   "outputs": [
    {
     "data": {
      "text/plain": [
       "2231"
      ]
     },
     "execution_count": 21,
     "metadata": {},
     "output_type": "execute_result"
    }
   ],
   "source": [
    "len(list(set(t1_subjects)))"
   ]
  },
  {
   "cell_type": "markdown",
   "id": "fc5c34bc-c742-40c7-99e1-7aaabaa9f3be",
   "metadata": {},
   "source": [
    "### which subjects have (ANY) raw fmri data"
   ]
  },
  {
   "cell_type": "code",
   "execution_count": 13,
   "id": "c1fced03-91c4-4481-8669-50a072ce7842",
   "metadata": {},
   "outputs": [],
   "source": [
    "fmri_subjects=[]\n",
    "for index, row in merged_qc.iterrows():\n",
    "    fmri_file=f'/nese/mit/group/sig/projects/hbn/hbn_bids/sub-{row[\"sub\"]}/ses-{row[\"ses\"]}/func/sub-{row[\"sub\"]}_ses-{row[\"ses\"]}_*_bold.nii.gz'\n",
    "    #t1_file=f'/nese/mit/group/sig/projects/hbn/hbn_bids/derivatives/fmriprep_23.2.0/sub-{row[\"sub\"]}/ses-{row[\"ses\"]}/anat/sub-{row[\"sub\"]}_ses-{row[\"ses\"]}_*_T1w.nii.gz'\n",
    "    matching_files = glob.glob(fmri_file)\n",
    "    if matching_files:\n",
    "        #print(f\"{t1_file} exists\")\n",
    "        #print(matching_files[0])\n",
    "        fmri_subjects.append(row[\"sub\"])\n",
    "        #print(row[\"sub\"])\n",
    "    else:\n",
    "        # print(f\"!does not exist!\")\n",
    "        continue"
   ]
  },
  {
   "cell_type": "code",
   "execution_count": 22,
   "id": "df9d17db-79c6-4c21-bff9-95c17393b432",
   "metadata": {},
   "outputs": [
    {
     "data": {
      "text/plain": [
       "2263"
      ]
     },
     "execution_count": 22,
     "metadata": {},
     "output_type": "execute_result"
    }
   ],
   "source": [
    "len(list(set(fmri_subjects)))"
   ]
  },
  {
   "cell_type": "markdown",
   "id": "3008676a-2d87-4fc4-9ff3-d33220263149",
   "metadata": {},
   "source": [
    "### which subjects have (ANY) fmriprepped data"
   ]
  },
  {
   "cell_type": "code",
   "execution_count": 23,
   "id": "95deb4ae-2966-4d92-830f-517162d779ef",
   "metadata": {},
   "outputs": [],
   "source": [
    "fmriprep_subjects=[]\n",
    "for index, row in merged_qc.iterrows():\n",
    "    #fmri_file=f'/nese/mit/group/sig/projects/hbn/hbn_bids/sub-{row[\"sub\"]}/ses-{row[\"ses\"]}/func/sub-{row[\"sub\"]}_ses-{row[\"ses\"]}_*_bold.nii.gz'\n",
    "    fmri_file=f'/nese/mit/group/sig/projects/hbn/hbn_bids/derivatives/fmriprep_23.2.0/sub-{row[\"sub\"]}/ses-{row[\"ses\"]}/func/sub-{row[\"sub\"]}_ses-{row[\"ses\"]}_*fsLR_den-91k_bold.dtseries.nii'\n",
    "    matching_files = glob.glob(fmri_file)\n",
    "    if matching_files:\n",
    "        #print(f\"{t1_file} exists\")\n",
    "        #print(matching_files[0])\n",
    "        fmriprep_subjects.append(row[\"sub\"])\n",
    "        #print(row[\"sub\"])\n",
    "    else:\n",
    "        # print(f\"!does not exist!\")\n",
    "        continue"
   ]
  },
  {
   "cell_type": "code",
   "execution_count": 24,
   "id": "614654d5-ed89-4031-83c8-ee570669b244",
   "metadata": {},
   "outputs": [
    {
     "data": {
      "text/plain": [
       "1998"
      ]
     },
     "execution_count": 24,
     "metadata": {},
     "output_type": "execute_result"
    }
   ],
   "source": [
    "len(list(set(fmriprep_subjects)))"
   ]
  },
  {
   "cell_type": "code",
   "execution_count": 27,
   "id": "ace6e12f-e3de-4aa3-b0b1-4ff1a689f556",
   "metadata": {},
   "outputs": [
    {
     "data": {
      "text/plain": [
       "1998"
      ]
     },
     "execution_count": 27,
     "metadata": {},
     "output_type": "execute_result"
    }
   ],
   "source": [
    "union_subjects = list(set(fmriprep_subjects) & set(t1_subjects))\n",
    "len(union_subjects)"
   ]
  },
  {
   "cell_type": "code",
   "execution_count": 28,
   "id": "6c4bcec8-4c19-45e9-b321-4b5251603e5a",
   "metadata": {},
   "outputs": [],
   "source": [
    "output_file = os.path.join(\"t1_fmriprep_subjects.txt\")\n",
    "with open(output_file, \"w\") as f:\n",
    "    for idd in union_subjects:\n",
    "        f.write(f\"{idd}\\n\")"
   ]
  },
  {
   "cell_type": "markdown",
   "id": "2a079f9d-5a96-431b-addd-561a175e673b",
   "metadata": {},
   "source": [
    "### did all of these subjects make it through kwyk?"
   ]
  },
  {
   "cell_type": "code",
   "execution_count": 6,
   "id": "f402d261-f3c5-432e-8340-21a7c932b8fa",
   "metadata": {},
   "outputs": [],
   "source": [
    "import os\n",
    "\n",
    "\n",
    "folder_path = '/om2/scratch/tmp/jsmentch/kwyk'\n",
    "subject_ids = []\n",
    "\n",
    "# Loop through all files in the folder\n",
    "for filename in os.listdir(folder_path):\n",
    "    # Check if the file has the expected format\n",
    "    if filename.endswith('.nii.gz'):\n",
    "        # Extract the subject ID by splitting the filename\n",
    "        subject_id = filename.split('_')[0]\n",
    "        subject_ids.append(subject_id)\n",
    "\n",
    "subject_ids=list(set(subject_ids))"
   ]
  },
  {
   "cell_type": "code",
   "execution_count": 12,
   "id": "6a1afd01-b7b0-4ad7-9fc3-548a490077dc",
   "metadata": {},
   "outputs": [
    {
     "data": {
      "text/plain": [
       "44"
      ]
     },
     "execution_count": 12,
     "metadata": {},
     "output_type": "execute_result"
    }
   ],
   "source": [
    "with open('t1_fmriprep_subjects.txt', 'r') as file:\n",
    "    lines = file.readlines()\n",
    "    lines = [line.strip() for line in lines]  # To remove any leading/trailing whitespace\n",
    "difference = list(set(lines) - set(subject_ids))\n",
    "difference\n",
    "\n",
    "output_file = os.path.join(\"kwyk_stragglers.txt\")\n",
    "with open(output_file, \"w\") as f:\n",
    "    for idd in difference:\n",
    "        f.write(f\"{idd}\\n\")\n",
    "\n",
    "len(difference)"
   ]
  },
  {
   "cell_type": "markdown",
   "id": "e4d4aea3",
   "metadata": {},
   "source": [
    "# notebook to look at the kwyk resulrs"
   ]
  },
  {
   "cell_type": "markdown",
   "id": "fe1377f8",
   "metadata": {},
   "source": [
    "## first apply the brain masks"
   ]
  },
  {
   "cell_type": "code",
   "execution_count": null,
   "id": "dadd68dc",
   "metadata": {},
   "outputs": [],
   "source": [
    "merged_qc = pd.read_csv('../data/merged_qc.csv', index_col=False)"
   ]
  },
  {
   "cell_type": "code",
   "execution_count": null,
   "id": "a1416c46",
   "metadata": {
    "scrolled": true
   },
   "outputs": [],
   "source": [
    "first_three_rows = merged_qc.head(10)\n",
    "first_three_rows"
   ]
  },
  {
   "cell_type": "code",
   "execution_count": 5,
   "id": "c018d1da",
   "metadata": {},
   "outputs": [
    {
     "ename": "NameError",
     "evalue": "name 'nib' is not defined",
     "output_type": "error",
     "traceback": [
      "\u001b[0;31m---------------------------------------------------------------------------\u001b[0m",
      "\u001b[0;31mNameError\u001b[0m                                 Traceback (most recent call last)",
      "Cell \u001b[0;32mIn[5], line 36\u001b[0m\n\u001b[1;32m     33\u001b[0m     masked_t1_data[mask_data \u001b[38;5;241m>\u001b[39m \u001b[38;5;241m0\u001b[39m] \u001b[38;5;241m=\u001b[39m masked_data\n\u001b[1;32m     35\u001b[0m     \u001b[38;5;66;03m# Create a new Nifti image\u001b[39;00m\n\u001b[0;32m---> 36\u001b[0m     masked_t1_img \u001b[38;5;241m=\u001b[39m \u001b[43mnib\u001b[49m\u001b[38;5;241m.\u001b[39mNifti1Image(masked_t1_data, affine\u001b[38;5;241m=\u001b[39mt1_img\u001b[38;5;241m.\u001b[39maffine)\n\u001b[1;32m     38\u001b[0m     \u001b[38;5;66;03m# plotting.plot_anat(masked_t1_img, title='Masked T1 Image')\u001b[39;00m\n\u001b[1;32m     39\u001b[0m     \u001b[38;5;66;03m# plotting.show()\u001b[39;00m\n\u001b[1;32m     40\u001b[0m \u001b[38;5;28;01melse\u001b[39;00m:\n\u001b[1;32m     41\u001b[0m     \u001b[38;5;28mprint\u001b[39m(\u001b[38;5;124mf\u001b[39m\u001b[38;5;124m\"\u001b[39m\u001b[38;5;132;01m{\u001b[39;00mt1_file\u001b[38;5;132;01m}\u001b[39;00m\u001b[38;5;124m does not exist\u001b[39m\u001b[38;5;124m\"\u001b[39m)\n",
      "\u001b[0;31mNameError\u001b[0m: name 'nib' is not defined"
     ]
    }
   ],
   "source": [
    "for index, row in merged_qc.iterrows():\n",
    "    file_path = f'../../kwyk/brain_masked_t1s/sub-{row[\"sub\"]}_masked-t1.nii.gz'\n",
    "    if not os.path.exists(file_path):\n",
    "        #t1_file=f'/nese/mit/group/sig/projects/hbn/hbn_bids/sub-{row[\"sub\"]}/ses-{row[\"ses\"]}/anat/sub-{row[\"sub\"]}_ses-{row[\"ses\"]}_*T1w.nii.gz'\n",
    "        t1_file=f'/nese/mit/group/sig/projects/hbn/hbn_bids/derivatives/fmriprep_23.2.0/sub-{row[\"sub\"]}/ses-{row[\"ses\"]}/anat/sub-{row[\"sub\"]}_ses-{row[\"ses\"]}_*_T1w.nii.gz'\n",
    "        matching_files = glob.glob(t1_file)\n",
    "        if matching_files:\n",
    "            #print(f\"{t1_file} exists\")\n",
    "            matching_files = [file for file in matching_files if 'space-MNI152NLin2009cAsym' not in file]\n",
    "    \n",
    "            img_t1=matching_files[0]\n",
    "            t1_img = nb.load(img_t1)\n",
    "    \n",
    "            #print(img_t1)\n",
    "            mask_file=f'/nese/mit/group/sig/projects/hbn/hbn_bids/derivatives/fmriprep_23.2.0/sub-{row[\"sub\"]}/ses-{row[\"ses\"]}/anat/sub-{row[\"sub\"]}_ses-{row[\"ses\"]}*brain_mask.nii.gz'\n",
    "            matching_mask_files=glob.glob(mask_file)\n",
    "            #print(matching_mask_files)\n",
    "    \n",
    "            matching_mask_files = [file for file in matching_mask_files if 'space-MNI152NLin2009cAsym' not in file]\n",
    "    \n",
    "            img_mask=matching_mask_files[0]\n",
    "            #print(img_mask)\n",
    "    \n",
    "            mask_img = nb.load(img_mask)\n",
    "    \n",
    "            masked_data=masking.apply_mask(img_t1, img_mask)\n",
    "            t1_data = t1_img.get_fdata()\n",
    "            mask_data = mask_img.get_fdata()\n",
    "    \n",
    "            masked_t1_data = np.zeros(t1_data.shape)\n",
    "            \n",
    "            # Fill the 3D array with the masked data\n",
    "            masked_t1_data[mask_data > 0] = masked_data\n",
    "            \n",
    "            # Create a new Nifti image\n",
    "            masked_t1_img = nib.Nifti1Image(masked_t1_data, affine=t1_img.affine)\n",
    "    \n",
    "            # plotting.plot_anat(masked_t1_img, title='Masked T1 Image')\n",
    "            # plotting.show()\n",
    "        else:\n",
    "            print(f\"{t1_file} does not exist\")\n",
    "        nb.save(masked_t1_img, f'../../kwyk/brain_masked_t1s/sub-{row[\"sub\"]}_masked-t1.nii.gz')\n"
   ]
  },
  {
   "cell_type": "code",
   "execution_count": null,
   "id": "6e219c5b",
   "metadata": {},
   "outputs": [],
   "source": []
  },
  {
   "cell_type": "markdown",
   "id": "f95f7b6b",
   "metadata": {},
   "source": [
    "## get the straggler files that did not run kwyk"
   ]
  },
  {
   "cell_type": "code",
   "execution_count": null,
   "id": "545bdf6c",
   "metadata": {},
   "outputs": [],
   "source": [
    "import os\n",
    "import glob\n",
    "\n",
    "# Directory containing your files\n",
    "directory = \"/om2/scratch/tmp/jsmentch/kwyk/brain_masked_t1s/\"\n",
    "directory2= \"/om2/scratch/tmp/jsmentch/kwyk/output/\"\n",
    "# Get all .nii.gz files matching the pattern\n",
    "nii_files = glob.glob(os.path.join(directory, \"sub-*_masked-t1.nii.gz\"))\n",
    "\n",
    "# List to store IDs where corresponding .json file is missing\n",
    "missing_json_ids = []\n",
    "\n",
    "# Iterate over the .nii.gz files\n",
    "for nii_file in nii_files:\n",
    "    # Extract the ID from the filename\n",
    "    basename = os.path.basename(nii_file)\n",
    "    id_part = basename.replace(\"sub-\", \"\").replace(\"_masked-t1.nii.gz\", \"\")\n",
    "    \n",
    "    # Construct the corresponding .json filename\n",
    "    json_file = os.path.join(directory2, f\"{id_part}_uncertainty.json\")\n",
    "    \n",
    "    # Check if the .json file does not exist\n",
    "    if not os.path.exists(json_file):\n",
    "        missing_json_ids.append(id_part)\n",
    "\n",
    "# Print the list of IDs where the .json file is missing\n",
    "#print(\"IDs with missing .json files:\")\n",
    "for missing_id in missing_json_ids:\n",
    "    print(missing_id)\n"
   ]
  },
  {
   "cell_type": "code",
   "execution_count": 4,
   "id": "81bcfa8f",
   "metadata": {},
   "outputs": [],
   "source": [
    "output_file = os.path.join(\"kwyk_stragglers.txt\")\n",
    "\n",
    "# Save the list of missing IDs to a text file\n",
    "with open(output_file, \"w\") as f:\n",
    "    for missing_id in missing_json_ids:\n",
    "        f.write(f\"{missing_id}\\n\")"
   ]
  },
  {
   "cell_type": "code",
   "execution_count": 5,
   "id": "4a314fc7",
   "metadata": {},
   "outputs": [
    {
     "data": {
      "text/plain": [
       "100"
      ]
     },
     "execution_count": 5,
     "metadata": {},
     "output_type": "execute_result"
    }
   ],
   "source": [
    "len(missing_json_ids)"
   ]
  },
  {
   "cell_type": "markdown",
   "id": "5250c698",
   "metadata": {},
   "source": [
    "## look at all kwyk results"
   ]
  },
  {
   "cell_type": "markdown",
   "id": "795b8ffd",
   "metadata": {},
   "source": [
    "### does brain masking lower uncertainty?"
   ]
  },
  {
   "cell_type": "code",
   "execution_count": 9,
   "id": "55b7a909",
   "metadata": {},
   "outputs": [],
   "source": [
    "#with open('pilots_ru_dm_list.txt', 'r') as file:\n",
    "with open('pilots_ru_dm_list.txt', 'r') as file:\n",
    "    sub_list = file.readlines()\n",
    "good_subjects_list = [line.strip() for line in sub_list]\n",
    "#good_subjects_list.remove('NDARUT018UYN') #no freesurfer sub\n",
    "# good_subjects_list.remove('NDARRM073JKA')#xcp straggler\n",
    "\n",
    "\n",
    "# with open('good_pilots_ru_dm_list.txt', 'r') as file:\n",
    "#     sub_list = file.readlines()\n",
    "# good_subjects_list = [line.strip() for line in sub_list]\n",
    "\n",
    "# good_subjects_list\n"
   ]
  },
  {
   "cell_type": "code",
   "execution_count": 18,
   "id": "5b5c6a79",
   "metadata": {},
   "outputs": [
    {
     "name": "stdout",
     "output_type": "stream",
     "text": [
      "oops\n",
      "oops\n"
     ]
    }
   ],
   "source": [
    "uncertainty_list=[]\n",
    "uncertainty_list2=[]\n",
    "\n",
    " # # # # kwyk uncertainty\n",
    "for sub in good_subjects_list:\n",
    "    try:\n",
    "        with open(f'/om2/scratch/tmp/jsmentch/kwyk/output/{sub}_uncertainty.json', 'r') as file:\n",
    "            data = json.load(file)    \n",
    "        uncertainty_list2.append(data['uncertainty'])\n",
    "        with open(f'/om2/user/jsmentch/kwyk/{sub}_uncertainty.json', 'r') as file:\n",
    "            data = json.load(file)    \n",
    "        uncertainty_list.append(data['uncertainty'])\n",
    "    except:\n",
    "        print('oops')\n",
    "        \n",
    " # # # # kwyk uncertainty\n"
   ]
  },
  {
   "cell_type": "code",
   "execution_count": 19,
   "id": "d0bada2e",
   "metadata": {},
   "outputs": [
    {
     "data": {
      "text/plain": [
       "[0.30114851592082753,\n",
       " 0.38846302411653666,\n",
       " 0.3442686029046487,\n",
       " 0.3310757183574656,\n",
       " 0.3599326493265152,\n",
       " 0.34011648991826915,\n",
       " 0.3542825754091647,\n",
       " 0.3667332405505829,\n",
       " 0.35450136198406035,\n",
       " 0.37990643817765496,\n",
       " 0.36695809532013723,\n",
       " 0.3801996134947518,\n",
       " 0.3337692839219906,\n",
       " 0.4528292088769268,\n",
       " 0.36541305142474517,\n",
       " 0.40582511036650853,\n",
       " 0.30042720941014567,\n",
       " 0.3767570921794444,\n",
       " 0.37565557348795653,\n",
       " 0.39930204219637466,\n",
       " 0.34367377903355906,\n",
       " 0.3954519657978831,\n",
       " 0.359614493508545,\n",
       " 0.38782091048174616]"
      ]
     },
     "execution_count": 19,
     "metadata": {},
     "output_type": "execute_result"
    }
   ],
   "source": [
    "uncertainty_list"
   ]
  },
  {
   "cell_type": "code",
   "execution_count": 30,
   "id": "df68ea70",
   "metadata": {},
   "outputs": [
    {
     "name": "stderr",
     "output_type": "stream",
     "text": [
      "/tmp/ipykernel_508029/1910785775.py:24: UserWarning: color is redundantly defined by the 'color' keyword argument and the fmt string \"k-\" (-> color='k'). The keyword argument will take precedence.\n",
      "  ax.plot(positions, [list1[i], list2[i]], 'k-', marker='o', color='gray',linewidth=1)\n"
     ]
    },
    {
     "data": {
      "image/png": "[encoded data removed]",
      "text/plain": [
       "<Figure size 640x480 with 1 Axes>"
      ]
     },
     "metadata": {},
     "output_type": "display_data"
    }
   ],
   "source": [
    "import matplotlib.pyplot as plt\n",
    "import numpy as np\n",
    "\n",
    "# Example data\n",
    "list1 = uncertainty_list\n",
    "list2 = uncertainty_list2\n",
    "\n",
    "\n",
    "# Calculate the means\n",
    "mean1 = np.mean(list1)\n",
    "mean2 = np.mean(list2)\n",
    "\n",
    "# Positions of the bars on the x-axis\n",
    "positions = [0, 1]\n",
    "\n",
    "# Create the bar plot\n",
    "fig, ax = plt.subplots()\n",
    "\n",
    "# Plot bars for the means\n",
    "bars = ax.bar(positions, [mean1, mean2], color=['k', 'k'], width=0.4)\n",
    "\n",
    "# Overlay individual data points and connect them with lines\n",
    "for i in range(len(list1)):\n",
    "    ax.plot(positions, [list1[i], list2[i]], 'k-', marker='o', color='gray',linewidth=1)\n",
    "\n",
    "# Add the individual points on top of the bars\n",
    "ax.scatter([0] * len(list1), list1, color='blue', zorder=5)\n",
    "ax.scatter([1] * len(list2), list2, color='orange', zorder=5)\n",
    "\n",
    "# Adding labels and title\n",
    "ax.set_xticks(positions)\n",
    "ax.set_xticklabels(['full t1', 'brain masked t1'])\n",
    "ax.set_ylabel('uncertainty')\n",
    "ax.set_title('kwyk uncertainty before and after brain masking')\n",
    "\n",
    "# Display the plot\n",
    "plt.show()\n",
    "\n"
   ]
  },
  {
   "cell_type": "markdown",
   "id": "40c97b64-ae2e-4df1-86f9-7d1e64badcd9",
   "metadata": {},
   "source": [
    "# run brain masking on the outputs of kwyk! to get masked uncertainty! uncertainty_masked"
   ]
  },
  {
   "cell_type": "code",
   "execution_count": 2,
   "id": "33de4e1e-bd5b-47b4-9d03-bddcfb8ab1d9",
   "metadata": {},
   "outputs": [],
   "source": [
    "df = pd.read_csv('../data/merged_qc.csv', index_col=False)"
   ]
  },
  {
   "cell_type": "code",
   "execution_count": null,
   "id": "82ece6cc-ebe9-4ab2-83e3-e297c14b91f7",
   "metadata": {},
   "outputs": [],
   "source": [
    "#plt.ion()\n",
    "#uncertainty_masked_list=[]\n",
    "import nibabel as nib\n",
    "import matplotlib.pyplot as plt\n",
    "for index, row in df.iterrows():\n",
    "    \n",
    "    #if exists: f'/nese/mit/group/sig/projects/hbn/hbn_bids/derivatives/kwyk/{sub}_uncertainty_masked.txt'\n",
    "    \n",
    "    try:\n",
    "        #fmri_file=f'/nese/mit/group/sig/projects/hbn/hbn_bids/sub-{row[\"sub\"]}/ses-{row[\"ses\"]}/func/sub-{row[\"sub\"]}_ses-{row[\"ses\"]}_*_bold.nii.gz'\n",
    "        sub=row[\"sub\"]\n",
    "        uncertainty=row[\"uncertainty\"]\n",
    "        #file_path=f'../../temp_uncertainty/{sub}.png'\n",
    "    \n",
    "            \n",
    "        #fmri_file=f'/nese/mit/group/sig/projects/hbn/hbn_bids/derivatives/fmriprep_23.2.0/sub-{row[\"sub\"]}/ses-{row[\"ses\"]}/func/sub-{row[\"sub\"]}_ses-{row[\"ses\"]}_*fsLR_den-91k_bold.dtseries.nii'\n",
    "        img_t1_file=f'/nese/mit/group/sig/projects/hbn/hbn_bids/derivatives/fmriprep_23.2.0/sub-{sub}/ses-*/anat/sub-{sub}_ses-*_T1w.nii.gz'\n",
    "    \n",
    "        img_t1_file=f'/nese/mit/group/sig/projects/hbn/hbn_bids/derivatives/kwyk/{sub}_entropy.nii.gz'\n",
    "    \n",
    "        \n",
    "        matching_files = glob.glob(img_t1_file)\n",
    "        filtered_item = [item for item in matching_files if 'space' not in item]\n",
    "    \n",
    "        img_t1=filtered_item[0]\n",
    "        t1_img = nb.load(img_t1)\n",
    "\n",
    "        mask_file=f'/nese/mit/group/sig/projects/hbn/hbn_bids/derivatives/fmriprep_23.2.0/sub-{sub}/ses-*/anat/sub-{sub}_ses-*brain_mask.nii.gz'\n",
    "        matching_mask_files=glob.glob(mask_file)\n",
    "        #print(matching_mask_files)\n",
    "    \n",
    "        matching_mask_files = [file for file in matching_mask_files if 'space-MNI152NLin2009cAsym' not in file]\n",
    "    \n",
    "        img_mask=matching_mask_files[0]\n",
    "        #print(img_mask)\n",
    "    \n",
    "        mask_img = nb.load(img_mask)\n",
    "    \n",
    "    \n",
    "    \n",
    "    \n",
    "    \n",
    "        #mask_img=image.resample_img(mask_img, target_affine=t1_img.affine, target_shape=t1_img.shape, interpolation='nearest')\n",
    "        mask_img=image.resample_to_img(mask_img, t1_img, interpolation='nearest')\n",
    "    \n",
    "    \n",
    "\n",
    "        \n",
    "        masked_data=masking.apply_mask(img_t1, mask_img)\n",
    "        \n",
    "        t1_data = t1_img.get_fdata()\n",
    "        mask_data = mask_img.get_fdata()\n",
    "    \n",
    "        #masked_t1_data = np.zeros(t1_data.shape)\n",
    "        masked_t1_data = np.full(t1_data.shape, np.nan)\n",
    "        # Fill the 3D array with the masked data\n",
    "        masked_t1_data[mask_data > 0] = masked_data\n",
    "        \n",
    "        # Create a new Nifti image\n",
    "        masked_t1_img = nib.Nifti1Image(masked_t1_data, affine=t1_img.affine)\n",
    "    \n",
    "        uncertainty_masked=np.nanmean(masked_t1_img.get_fdata())\n",
    "        #uncertainty_masked_list.append(uncertainty_masked_list)\n",
    "        with open(f'/nese/mit/group/sig/projects/hbn/hbn_bids/derivatives/kwyk/{sub}_uncertainty_masked.txt', 'w') as file:\n",
    "            file.write(str(uncertainty_masked))\n",
    "    except:\n",
    "        continue\n",
    "\n"
   ]
  },
  {
   "cell_type": "code",
   "execution_count": null,
   "id": "73ea22f6-b4c4-43be-8841-7f293bba8446",
   "metadata": {},
   "outputs": [],
   "source": []
  },
  {
   "cell_type": "code",
   "execution_count": null,
   "id": "319d2319-b3b3-45ed-bfee-6292d769eedd",
   "metadata": {},
   "outputs": [],
   "source": []
  }
 ],
 "metadata": {
  "kernelspec": {
   "display_name": "Python 3 (ipykernel)",
   "language": "python",
   "name": "python3"
  },
  "language_info": {
   "codemirror_mode": {
    "name": "ipython",
    "version": 3
   },
   "file_extension": ".py",
   "mimetype": "text/x-python",
   "name": "python",
   "nbconvert_exporter": "python",
   "pygments_lexer": "ipython3",
   "version": "3.11.9"
  }
 },
 "nbformat": 4,
 "nbformat_minor": 5
}
