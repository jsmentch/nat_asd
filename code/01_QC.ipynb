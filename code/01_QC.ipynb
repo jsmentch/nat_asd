{
 "cells": [
  {
   "cell_type": "markdown",
   "id": "ea41ae75-ef56-4c60-98a5-5e7c019b1060",
   "metadata": {},
   "source": [
    "# Step 1: Quality Control and pilot selection"
   ]
  },
  {
   "cell_type": "code",
   "execution_count": 2,
   "id": "bafb45fe-36b1-4f3c-8f15-6660dc82d95a",
   "metadata": {},
   "outputs": [],
   "source": [
    "import os\n",
    "import glob\n",
    "from pathlib import Path\n",
    "#from dotenv import load_dotenv\n",
    "import pandas as pd\n",
    "import numpy as np\n",
    "# import dask.dataframe as dd\n",
    "# import dask.bag as db\n",
    "\n",
    "import matplotlib.pyplot as plt\n",
    "import seaborn as sns\n"
   ]
  },
  {
   "cell_type": "markdown",
   "id": "7994822f-f087-4c63-a44d-e35229c404b5",
   "metadata": {},
   "source": [
    "## load saved qc csvs from MRI-QC"
   ]
  },
  {
   "cell_type": "code",
   "execution_count": 5,
   "id": "53565274-836e-445c-af17-4ff90614c9d7",
   "metadata": {},
   "outputs": [],
   "source": [
    "nat_img_dir='/nese/mit/group/sig/projects/naturalistic/nat_img/'\n",
    "movieDM_qc = pd.read_csv(f\"{nat_img_dir}sourcedata/data/HBN/phenotype/movieDM_qc.csv\")\n",
    "movieTP_qc = pd.read_csv(f\"{nat_img_dir}sourcedata/data/HBN/phenotype/movieTP_qc.csv\")\n",
    "rest1_qc = pd.read_csv(  f\"{nat_img_dir}sourcedata/data/HBN/phenotype/rest1_qc.csv\"  )\n",
    "rest2_qc = pd.read_csv(  f\"{nat_img_dir}sourcedata/data/HBN/phenotype/rest2_qc.csv\"  )"
   ]
  },
  {
   "cell_type": "markdown",
   "id": "2573bff7-a2cf-4adf-9016-ae6a17ed1400",
   "metadata": {},
   "source": [
    "## Load demographic (dx) data"
   ]
  },
  {
   "cell_type": "code",
   "execution_count": 17,
   "id": "3a0cdc51-ef41-4224-b53a-295d62df551a",
   "metadata": {},
   "outputs": [],
   "source": [
    "def get_imaging_site(identifier):\n",
    "    path = f'/nese/mit/group/sig/projects/hbn/hbn_bids/sub-{identifier}/'\n",
    "    if os.path.isdir(path + 'ses-HBNsiteRU'):\n",
    "        return 'RU'\n",
    "    elif os.path.isdir(path + 'ses-HBNsiteCBIC'):\n",
    "        return 'CBIC'\n",
    "    elif os.path.isdir(path + 'ses-HBNsiteSI'):\n",
    "        return 'SI'\n",
    "    elif os.path.isdir(path + 'ses-HBNsiteCUNY'):\n",
    "        return 'CUNY'\n",
    "    else:\n",
    "        return None\n",
    "        \n",
    "dx_final=pd.read_csv(f'{nat_img_dir}sourcedata/data/HBN/phenotype/parsed/dx_onehot.csv')\n",
    "dx_final['imaging_site'] = dx_final['Identifiers'].apply(get_imaging_site)\n",
    "\n",
    "filtered_df = dx_final[dx_final['Autism Spectrum Disorder'] == 1]\n",
    "asd_df = filtered_df[['Identifiers','imaging_site']].rename(columns={'Identifiers': 'subj_id'})\n",
    "asd_df['subj_id'] = 'sub-' + asd_df['subj_id'].astype(str)\n",
    "\n",
    "filtered_df = dx_final[dx_final['No Diagnosis Given'] == 1]\n",
    "nt_df = filtered_df[['Identifiers','imaging_site']].rename(columns={'Identifiers': 'subj_id'})\n",
    "nt_df['subj_id'] = 'sub-' + nt_df['subj_id'].astype(str)\n",
    "\n",
    "filtered_df = dx_final[(dx_final['No Diagnosis Given'] == 0) & (dx_final['Autism Spectrum Disorder'] == 0)]\n",
    "pilot_df = filtered_df[['Identifiers','imaging_site']].rename(columns={'Identifiers': 'subj_id'})\n",
    "pilot_df['subj_id'] = 'sub-' + pilot_df['subj_id'].astype(str)"
   ]
  },
  {
   "cell_type": "code",
   "execution_count": 18,
   "id": "44360491-5962-4b50-82ed-956092d36d5c",
   "metadata": {},
   "outputs": [
    {
     "data": {
      "text/html": [
       "<div>\n",
       "<style scoped>\n",
       "    .dataframe tbody tr th:only-of-type {\n",
       "        vertical-align: middle;\n",
       "    }\n",
       "\n",
       "    .dataframe tbody tr th {\n",
       "        vertical-align: top;\n",
       "    }\n",
       "\n",
       "    .dataframe thead th {\n",
       "        text-align: right;\n",
       "    }\n",
       "</style>\n",
       "<table border=\"1\" class=\"dataframe\">\n",
       "  <thead>\n",
       "    <tr style=\"text-align: right;\">\n",
       "      <th></th>\n",
       "      <th>subj_id</th>\n",
       "      <th>imaging_site</th>\n",
       "    </tr>\n",
       "  </thead>\n",
       "  <tbody>\n",
       "    <tr>\n",
       "      <th>1</th>\n",
       "      <td>sub-NDARAA112DMH</td>\n",
       "      <td>RU</td>\n",
       "    </tr>\n",
       "    <tr>\n",
       "      <th>2</th>\n",
       "      <td>sub-NDARAA117NEJ</td>\n",
       "      <td>RU</td>\n",
       "    </tr>\n",
       "    <tr>\n",
       "      <th>3</th>\n",
       "      <td>sub-NDARAA306NT2</td>\n",
       "      <td>RU</td>\n",
       "    </tr>\n",
       "    <tr>\n",
       "      <th>4</th>\n",
       "      <td>sub-NDARAA358BPN</td>\n",
       "      <td>None</td>\n",
       "    </tr>\n",
       "    <tr>\n",
       "      <th>5</th>\n",
       "      <td>sub-NDARAA504CRN</td>\n",
       "      <td>CBIC</td>\n",
       "    </tr>\n",
       "    <tr>\n",
       "      <th>...</th>\n",
       "      <td>...</td>\n",
       "      <td>...</td>\n",
       "    </tr>\n",
       "    <tr>\n",
       "      <th>4759</th>\n",
       "      <td>sub-NDARZP542LJK</td>\n",
       "      <td>CBIC</td>\n",
       "    </tr>\n",
       "    <tr>\n",
       "      <th>4760</th>\n",
       "      <td>sub-NDARZR424VU2</td>\n",
       "      <td>None</td>\n",
       "    </tr>\n",
       "    <tr>\n",
       "      <th>4761</th>\n",
       "      <td>sub-NDARZR480CR5</td>\n",
       "      <td>None</td>\n",
       "    </tr>\n",
       "    <tr>\n",
       "      <th>4764</th>\n",
       "      <td>sub-NDARZV458LDP</td>\n",
       "      <td>CUNY</td>\n",
       "    </tr>\n",
       "    <tr>\n",
       "      <th>4765</th>\n",
       "      <td>sub-NDARZX745YLZ</td>\n",
       "      <td>None</td>\n",
       "    </tr>\n",
       "  </tbody>\n",
       "</table>\n",
       "<p>3735 rows × 2 columns</p>\n",
       "</div>"
      ],
      "text/plain": [
       "               subj_id imaging_site\n",
       "1     sub-NDARAA112DMH           RU\n",
       "2     sub-NDARAA117NEJ           RU\n",
       "3     sub-NDARAA306NT2           RU\n",
       "4     sub-NDARAA358BPN         None\n",
       "5     sub-NDARAA504CRN         CBIC\n",
       "...                ...          ...\n",
       "4759  sub-NDARZP542LJK         CBIC\n",
       "4760  sub-NDARZR424VU2         None\n",
       "4761  sub-NDARZR480CR5         None\n",
       "4764  sub-NDARZV458LDP         CUNY\n",
       "4765  sub-NDARZX745YLZ         None\n",
       "\n",
       "[3735 rows x 2 columns]"
      ]
     },
     "execution_count": 18,
     "metadata": {},
     "output_type": "execute_result"
    }
   ],
   "source": [
    "pilot_df"
   ]
  },
  {
   "cell_type": "code",
   "execution_count": null,
   "id": "f1ce438e-55ab-4160-9a99-b36ec80bfb2d",
   "metadata": {},
   "outputs": [],
   "source": []
  }
 ],
 "metadata": {
  "kernelspec": {
   "display_name": "Python 3",
   "language": "python",
   "name": "python3"
  },
  "language_info": {
   "codemirror_mode": {
    "name": "ipython",
    "version": 3
   },
   "file_extension": ".py",
   "mimetype": "text/x-python",
   "name": "python",
   "nbconvert_exporter": "python",
   "pygments_lexer": "ipython3",
   "version": "3.8.2"
  }
 },
 "nbformat": 4,
 "nbformat_minor": 5
}
