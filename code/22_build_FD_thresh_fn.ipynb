{
 "cells": [
  {
   "cell_type": "code",
   "execution_count": 6,
   "id": "7e2ee34a-2942-4aec-a9b3-1c45d4fee0cd",
   "metadata": {},
   "outputs": [],
   "source": [
    "import pandas as pd\n",
    "import numpy as np\n",
    "import matplotlib.pyplot as plt\n",
    "import nibabel as nb\n",
    "import seaborn as sns"
   ]
  },
  {
   "cell_type": "code",
   "execution_count": 2,
   "id": "ecb289d4-a57e-488a-8f2a-efa54152ef90",
   "metadata": {},
   "outputs": [],
   "source": [
    "with open('thresholded_pilots_ru_dm_list.txt', 'r') as file:\n",
    "    sub_list = file.readlines()\n",
    "good_subjects_list = [line.strip() for line in sub_list]"
   ]
  },
  {
   "cell_type": "code",
   "execution_count": 3,
   "id": "2848b7b9-6806-450d-bd68-20e1a8614eb7",
   "metadata": {},
   "outputs": [
    {
     "name": "stdout",
     "output_type": "stream",
     "text": [
      "FD thresh        min, max, mean\n",
      "FD thresh=0.9 :  0 62 18\n",
      "FD thresh=0.8 :  0 68 20\n",
      "FD thresh=0.7 :  1 79 24\n",
      "FD thresh=0.6 :  2 88 31\n",
      "FD thresh=0.5 :  2 103 39\n",
      "FD thresh=0.4 :  8 122 54\n",
      "FD thresh=0.3 :  16 180 91\n",
      "FD thresh=0.2 :  42 364 235\n",
      "FD thresh=0.1 :  327 687 547\n"
     ]
    }
   ],
   "source": [
    "print('FD thresh        min, max, mean')\n",
    "for fd_thresh in [0.9,0.8,0.7,0.6,0.5,0.4,0.3,0.2,0.1]:\n",
    "    count_list=[]\n",
    "    for i, sub in enumerate(good_subjects_list):\n",
    "        confounds_file=f'/nese/mit/group/sig/projects/hbn/hbn_bids/derivatives/fmriprep_23.2.0/sub-{sub}/ses-HBNsiteRU/func/sub-{sub}_ses-HBNsiteRU_task-movieDM_desc-confounds_timeseries.tsv'\n",
    "        df = pd.read_csv(confounds_file, sep='\\t')\n",
    "        fd=df['framewise_displacement']\n",
    "        count = sum(1 for value in fd if value > fd_thresh)\n",
    "        count_list.append(count)\n",
    "    print(f'FD thresh={fd_thresh} : ',np.min(count_list), np.max(count_list), round(np.mean(count_list)))\n",
    "        # im_file = f'/nese/mit/group/sig/projects/hbn/hbn_bids/derivatives/xcp_d_0.7.1/sub-{sub}/ses-HBNsiteRU/func/sub-{sub}_ses-HBNsiteRU_task-movieDM_space-fsLR_seg-Glasser_den-91k_stat-mean_timeseries.ptseries.nii'\n",
    "        # #im_file = f'/nese/mit/group/sig/projects/hbn/hbn_bids/derivatives/xcp_d_0.7.1/sub-{sub}/ses-HBNsiteRU/func/sub-{sub}_ses-HBNsiteRU_task-movieDM_space-fsLR_den-91k_desc-denoisedSmoothed_bold.dtseries.nii'\n",
    "        # img = nb.load(im_file)\n",
    "        # img_y = img.get_fdata()\n",
    "        # print(count, 750-img_y.shape[0])"
   ]
  },
  {
   "cell_type": "markdown",
   "id": "4389e104-53b2-4766-b7dc-f44cc583ebd2",
   "metadata": {},
   "source": [
    "### check the lengths of some of the extracted features"
   ]
  },
  {
   "cell_type": "code",
   "execution_count": 4,
   "id": "17e9bb0b-240e-4504-a078-3f45e379c377",
   "metadata": {},
   "outputs": [
    {
     "name": "stderr",
     "output_type": "stream",
     "text": [
      "pixdim[1,2,3] should be non-zero; setting 0 dims to 1\n"
     ]
    }
   ],
   "source": [
    "import pilot"
   ]
  },
  {
   "cell_type": "code",
   "execution_count": 37,
   "id": "0f4447dd-9abe-4e75-b1ae-e724695e6ff7",
   "metadata": {},
   "outputs": [
    {
     "name": "stdout",
     "output_type": "stream",
     "text": [
      "manual 0 (750, 1)\n",
      "manual 1 (750, 12)\n",
      "manual 2 (750, 13)\n",
      "manual 3 (750, 128)\n",
      "manual 4 (750, 1024)\n",
      "manual 5 (750, 521)\n",
      "manualhrf_srp05 0 (750, 1)\n",
      "manualhrf_srp05 1 (750, 12)\n",
      "manualhrf_srp05 2 (750, 13)\n",
      "manualhrf_srp05 3 (750, 128)\n",
      "manualhrf_srp05 4 (750, 342)\n",
      "manualhrf_srp05 5 (750, 342)\n",
      "manualhrf_srp01 0 (750, 1)\n",
      "manualhrf_srp01 1 (750, 12)\n",
      "manualhrf_srp01 2 (750, 13)\n",
      "manualhrf_srp01 3 (750, 128)\n",
      "manualhrf_srp01 4 (750, 1024)\n",
      "manualhrf_srp01 5 (750, 521)\n",
      "audioset 0 (750, 1024)\n",
      "audioset 1 (750, 521)\n",
      "cochresnet50pca1hrfssfirst 0 (749, 1)\n",
      "cochresnet50pca1hrfssfirst 1 (749, 1)\n",
      "cochresnet50pca1hrfssfirst 2 (749, 1)\n",
      "cochresnet50pca1hrfssfirst 3 (749, 1)\n",
      "cochresnet50pca1hrfssfirst 4 (749, 1)\n",
      "cochresnet50pca1hrfssfirst 5 (749, 1)\n",
      "cochresnet50pca1hrfssfirst 6 (749, 1)\n",
      "cochresnet50pca1hrfssfirst 7 (749, 1)\n",
      "concatspeech (749, 5)\n"
     ]
    }
   ],
   "source": [
    "for feat_name in ['manual','manualhrf_srp05','manualhrf_srp01','audioset','cochresnet50pca1hrfssfirst']:\n",
    "    features,_=pilot.load_features(feat_name)\n",
    "    for i,f in enumerate(features):\n",
    "        print(feat_name,i,f.shape)\n",
    "\n",
    "for feat_name in ['concatspeech']:\n",
    "    features,_=pilot.load_features(feat_name)\n",
    "    print(feat_name,features.shape)"
   ]
  },
  {
   "cell_type": "code",
   "execution_count": 7,
   "id": "3761a2e8-bb1b-40e2-9919-fc4bc5983130",
   "metadata": {},
   "outputs": [
    {
     "name": "stdout",
     "output_type": "stream",
     "text": [
      "(749, 211)\n",
      "(749, 6784)\n",
      "(749, 3392)\n",
      "(749, 13568)\n",
      "(749, 13824)\n",
      "(749, 14336)\n",
      "(749, 14336)\n",
      "(749, 2048)\n"
     ]
    }
   ],
   "source": [
    "import nat_asd_utils\n",
    "features_cochresnet=['input_after_preproc',\n",
    "                    'conv1_relu1',\n",
    "                    'maxpool1',\n",
    "                    'layer1',\n",
    "                    'layer2',\n",
    "                    'layer3',\n",
    "                    'layer4',\n",
    "                    'avgpool']\n",
    "X=nat_asd_utils.load_audio_features('DM',features_cochresnet)\n",
    "for x in X:\n",
    "    print(x.shape)"
   ]
  },
  {
   "cell_type": "markdown",
   "id": "a3e81cbf-a8eb-404d-88b5-b123ef8be6b4",
   "metadata": {},
   "source": [
    "i think this is ok"
   ]
  },
  {
   "cell_type": "code",
   "execution_count": null,
   "id": "448f8744-8dfa-48eb-8210-f0d93ee634a2",
   "metadata": {},
   "outputs": [],
   "source": [
    "print('min, max, mean')\n",
    "for fd_thresh in [0.9,0.8,0.7,0.6,0.5,0.4,0.3,0.2]:\n",
    "    count_list=[]\n",
    "    for i, sub in enumerate(good_subjects_list):\n",
    "        confounds_file=f'/nese/mit/group/sig/projects/hbn/hbn_bids/derivatives/fmriprep_23.2.0/sub-{sub}/ses-HBNsiteRU/func/sub-{sub}_ses-HBNsiteRU_task-movieDM_desc-confounds_timeseries.tsv'\n",
    "        df = pd.read_csv(confounds_file, sep='\\t')\n",
    "        fd=df['framewise_displacement']\n",
    "        count = sum(1 for value in fd if value > fd_thresh)\n",
    "        count_list.append(count)\n",
    "    print(f'FD thresh={fd_thresh} : ',np.min(count_list), np.max(count_list), np.mean(count_list))\n",
    "        # im_file = f'/nese/mit/group/sig/projects/hbn/hbn_bids/derivatives/xcp_d_0.7.1/sub-{sub}/ses-HBNsiteRU/func/sub-{sub}_ses-HBNsiteRU_task-movieDM_space-fsLR_seg-Glasser_den-91k_stat-mean_timeseries.ptseries.nii'\n",
    "        # #im_file = f'/nese/mit/group/sig/projects/hbn/hbn_bids/derivatives/xcp_d_0.7.1/sub-{sub}/ses-HBNsiteRU/func/sub-{sub}_ses-HBNsiteRU_task-movieDM_space-fsLR_den-91k_desc-denoisedSmoothed_bold.dtseries.nii'\n",
    "        # img = nb.load(im_file)\n",
    "        # img_y = img.get_fdata()\n",
    "        # print(count, 750-img_y.shape[0])"
   ]
  },
  {
   "cell_type": "code",
   "execution_count": 12,
   "id": "7b28b4ba-d99a-4cac-b497-e93d678e5a01",
   "metadata": {},
   "outputs": [],
   "source": [
    "fd_thresh=0.9\n",
    "\n",
    "sub=good_subjects_list[0]\n",
    "confounds_file=f'/nese/mit/group/sig/projects/hbn/hbn_bids/derivatives/fmriprep_23.2.0/sub-{sub}/ses-HBNsiteRU/func/sub-{sub}_ses-HBNsiteRU_task-movieDM_desc-confounds_timeseries.tsv'\n",
    "df = pd.read_csv(confounds_file, sep='\\t')\n",
    "fd=df['framewise_displacement']\n",
    "fd_thresh_count= sum(1 for value in fd if value > fd_thresh)\n",
    "fd_thresh_indices=np.where(fd > fd_thresh)[0]\n",
    "fd_thresh_indices = fd_thresh_indices[fd_thresh_indices < 750]\n"
   ]
  },
  {
   "cell_type": "code",
   "execution_count": 13,
   "id": "d1abaed3-c99b-43c0-becc-dba561ebb585",
   "metadata": {},
   "outputs": [
    {
     "data": {
      "text/plain": [
       "array([ 84, 177, 281, 424, 425, 426, 427, 428, 561, 562, 564])"
      ]
     },
     "execution_count": 13,
     "metadata": {},
     "output_type": "execute_result"
    }
   ],
   "source": [
    "fd_thresh_indices"
   ]
  },
  {
   "cell_type": "code",
   "execution_count": null,
   "id": "3d5c11ce-0a1b-42b1-b369-1bdba36c05a8",
   "metadata": {},
   "outputs": [],
   "source": []
  },
  {
   "cell_type": "code",
   "execution_count": 12,
   "id": "2b2ad998-89e0-4c9b-b464-97b5c4abf14b",
   "metadata": {},
   "outputs": [
    {
     "name": "stdout",
     "output_type": "stream",
     "text": [
      "(746, 218)\n"
     ]
    }
   ],
   "source": [
    "import numpy as np\n",
    "\n",
    "# Example data\n",
    "X = np.random.rand(750, 218)\n",
    "\n",
    "# Indices you want to remove\n",
    "indices_to_remove = [0, 2, 5, 10]  # Example indices\n",
    "\n",
    "# Remove the specified indices along the first dimension (0 axis)\n",
    "\n",
    "\n",
    "print(X_filtered.shape)"
   ]
  },
  {
   "cell_type": "code",
   "execution_count": null,
   "id": "24259409-9e09-4e8a-9cee-0b5706a188cb",
   "metadata": {},
   "outputs": [],
   "source": []
  },
  {
   "cell_type": "code",
   "execution_count": 4,
   "id": "39da3d1a-2d8c-474e-97e6-e002bc71bf95",
   "metadata": {},
   "outputs": [
    {
     "name": "stderr",
     "output_type": "stream",
     "text": [
      "pixdim[1,2,3] should be non-zero; setting 0 dims to 1\n"
     ]
    },
    {
     "name": "stdout",
     "output_type": "stream",
     "text": [
      "running subject NDARWW005GCU\n",
      "loaded brain data\n",
      "No value was passed to args.bootstrap\n",
      "starting regression\n",
      "401.09488320350647\n",
      "saving results\n"
     ]
    }
   ],
   "source": [
    "sub=good_subjects_list[0]\n",
    "%run pilot.py -s $sub -p a4a5 -f cochresnet50srp05hrfssfirst -d 0"
   ]
  },
  {
   "cell_type": "code",
   "execution_count": null,
   "id": "8138312e-73c2-44f5-8983-f0d0ff52c463",
   "metadata": {},
   "outputs": [],
   "source": [
    "#for fd_thresh in [0.7,0.5,0.3]:\n",
    "for fd_thresh in [0.2,0.1]:\n",
    "\n",
    "    for sub in good_subjects_list:\n",
    "        #print(f'SUB-{sub} NO V1******************')\n",
    "        %run pilot.py -s $sub -p a4a5 -f concatspeech -d 0 -r --fd_thresh $fd_thresh\n",
    "        #print(f'SUB-{sub} WITH V1****************++++++')\n",
    "        #%run pilot.py -s $sub -p a4a5 -f concatspeech -d 0 -r -v\n",
    "        print(f'****************++++++****************++++++****************++++++*************')\n"
   ]
  },
  {
   "cell_type": "code",
   "execution_count": 7,
   "id": "503c92e0-b4fe-4532-96a5-1465810c20e2",
   "metadata": {},
   "outputs": [
    {
     "data": {
      "image/png": "[encoded data removed]",
      "text/plain": [
       "<Figure size 1600x600 with 1 Axes>"
      ]
     },
     "metadata": {},
     "output_type": "display_data"
    },
    {
     "name": "stderr",
     "output_type": "stream",
     "text": [
      "/tmp/ipykernel_653110/267371732.py:70: UserWarning: set_ticklabels() should only be used with a fixed number of ticks, i.e. after set_ticks() or using a FixedLocator.\n",
      "  ax.set_xticklabels(['$R^2$','$R^2$ fd0.9','$R^2$ fd0.7','$R^2$ fd0.5','$R^2$ fd0.3'])\n"
     ]
    },
    {
     "data": {
      "text/plain": [
       "[Text(0, 0, '$R^2$'),\n",
       " Text(1, 0, '$R^2$ fd0.9'),\n",
       " Text(2, 0, '$R^2$ fd0.7'),\n",
       " Text(3, 0, '$R^2$ fd0.5'),\n",
       " Text(4, 0, '$R^2$ fd0.3'),\n",
       " Text(5, 0, ''),\n",
       " Text(6, 0, '')]"
      ]
     },
     "execution_count": 7,
     "metadata": {},
     "output_type": "execute_result"
    },
    {
     "data": {
      "image/png": "[encoded data removed]",
      "text/plain": [
       "<Figure size 1000x600 with 1 Axes>"
      ]
     },
     "metadata": {},
     "output_type": "display_data"
    }
   ],
   "source": [
    "r2=[]\n",
    "r2_09=[]\n",
    "r2_07=[]\n",
    "r2_05=[]\n",
    "r2_03=[]\n",
    "r2_02=[]\n",
    "r2_01=[]\n",
    "\n",
    "for sub in good_subjects_list:\n",
    "    loaded=np.load(f'../good_pilots_new/sub-{sub}_roi-a4a5_feat-concatspeech_delay-0_ridgecv.npz')\n",
    "    r2.append(np.mean(loaded['stacked_r2s']))\n",
    "    loaded=np.load(f'../good_pilots_new/sub-{sub}_roi-a4a5_feat-concatspeech_delay-0_ridgecv_fd-0.9.npz')\n",
    "    r2_09.append(np.mean(loaded['stacked_r2s']))\n",
    "    loaded=np.load(f'../good_pilots_new/sub-{sub}_roi-a4a5_feat-concatspeech_delay-0_ridgecv_fd-0.7.npz')\n",
    "    r2_07.append(np.mean(loaded['stacked_r2s']))    \n",
    "    loaded=np.load(f'../good_pilots_new/sub-{sub}_roi-a4a5_feat-concatspeech_delay-0_ridgecv_fd-0.5.npz')\n",
    "    r2_05.append(np.mean(loaded['stacked_r2s']))    \n",
    "    loaded=np.load(f'../good_pilots_new/sub-{sub}_roi-a4a5_feat-concatspeech_delay-0_ridgecv_fd-0.3.npz')\n",
    "    r2_03.append(np.mean(loaded['stacked_r2s']))\n",
    "    loaded=np.load(f'../good_pilots_new/sub-{sub}_roi-a4a5_feat-concatspeech_delay-0_ridgecv_fd-0.2.npz')\n",
    "    r2_02.append(np.mean(loaded['stacked_r2s']))    \n",
    "    loaded=np.load(f'../good_pilots_new/sub-{sub}_roi-a4a5_feat-concatspeech_delay-0_ridgecv_fd-0.1.npz')\n",
    "    r2_01.append(np.mean(loaded['stacked_r2s']))\n",
    "\n",
    "\n",
    "# Number of groups\n",
    "N = len(r2)\n",
    "\n",
    "# List of all lists\n",
    "#data = [[f/max(r2_list_sorted) for f in r2_list_sorted], [f/max(noise_ceiling_sorted) for f in noise_ceiling_sorted], [f/max(mriqc_fd_mean_list_sorted) for f in mriqc_fd_mean_list_sorted], [f/max(mean_fd_sorted) for f in mean_fd_sorted]]\n",
    "data=[r2,r2_09,r2_07,r2_05,r2_03,r2_02,r2_01]\n",
    "\n",
    "\n",
    "# Number of bars in each group\n",
    "num_bars = len(data)\n",
    "\n",
    "# Create a figure and axis\n",
    "fig, ax = plt.subplots(figsize=(16, 6))\n",
    "\n",
    "# Set the positions of the groups and width of the bars\n",
    "ind = np.arange(N)\n",
    "width = 0.1\n",
    "#labels=['$R^2$',f'Subject Specific Mean Noise Ceiling (r={noise_ceiling_r:.02f})',f'MRIQC mean FD (r={mriqc_fd_mean_list_r:.02f})', f'fMRIPrep Mean FD (r={mean_fd_r:.02f})']\n",
    "labels=['$R^2$','$R^2$ fd0.9','$R^2$ fd0.7','$R^2$ fd0.5','$R^2$ fd0.3','$R^2$ fd0.2','$R^2$ fd0.1']\n",
    "# Create bars for each list\n",
    "#alphas=[1,1,0.2,0.2]\n",
    "#colors=['r','b','red','blue']\n",
    "for i, lst in enumerate(data):\n",
    "    ax.bar(ind + i*width, lst, width, label=f'{labels[i]}')#, alpha=alphas[i],color=colors[i])\n",
    "\n",
    "# Add labels, title, and legend\n",
    "ax.set_xlabel('hbn subjects')\n",
    "ax.set_ylabel('Values')\n",
    "ax.set_title('HBN pilots - improvement with censoring')\n",
    "ax.set_xticks(ind + width / num_bars)\n",
    "ax.set_xticklabels([f's{i+1}' for i in range(N)])\n",
    "ax.legend()\n",
    "\n",
    "# Show the plot\n",
    "plt.show()\n",
    "\n",
    "\n",
    "\n",
    "\n",
    "\n",
    "fig, ax = plt.subplots(figsize=(10, 6))\n",
    "\n",
    "sns.boxplot(data,showmeans=True)\n",
    "plt.title(f'$R^2$ with and without arousal timecourse, HBN')\n",
    "ax.set_xticklabels(['$R^2$','$R^2$ fd0.9','$R^2$ fd0.7','$R^2$ fd0.5','$R^2$ fd0.3'])"
   ]
  },
  {
   "cell_type": "code",
   "execution_count": null,
   "id": "cff8acc7-53ed-4b4b-9686-7273c3c00805",
   "metadata": {},
   "outputs": [],
   "source": []
  }
 ],
 "metadata": {
  "kernelspec": {
   "display_name": "Python 3 (ipykernel)",
   "language": "python",
   "name": "python3"
  },
  "language_info": {
   "codemirror_mode": {
    "name": "ipython",
    "version": 3
   },
   "file_extension": ".py",
   "mimetype": "text/x-python",
   "name": "python",
   "nbconvert_exporter": "python",
   "pygments_lexer": "ipython3",
   "version": "3.11.9"
  }
 },
 "nbformat": 4,
 "nbformat_minor": 5
}
