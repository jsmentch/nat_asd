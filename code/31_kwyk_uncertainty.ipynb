{
 "cells": [
  {
   "cell_type": "code",
   "execution_count": 1,
   "id": "dae513a9-3f7e-4f28-8d0c-cb1f13e1f8e9",
   "metadata": {},
   "outputs": [],
   "source": [
    "import nilearn as nl\n",
    "from nilearn import plotting, image, masking\n",
    "import json\n",
    "import numpy as np\n",
    "import nibabel as nb\n",
    "import pandas as pd\n",
    "import glob\n",
    "import os\n",
    "import json"
   ]
  },
  {
   "cell_type": "code",
   "execution_count": null,
   "id": "4a9e96dc-54f0-4852-97b4-a1a10025c007",
   "metadata": {},
   "outputs": [],
   "source": [
    "# how many a)overall b) in each class have uncertainty 0.4"
   ]
  },
  {
   "cell_type": "code",
   "execution_count": null,
   "id": "c16bfdf8-1e5c-4538-b37c-e3a89ae4d5b1",
   "metadata": {},
   "outputs": [],
   "source": []
  },
  {
   "cell_type": "code",
   "execution_count": null,
   "id": "3eebe750-f3c5-4837-87a2-54674244ff45",
   "metadata": {},
   "outputs": [],
   "source": []
  },
  {
   "cell_type": "code",
   "execution_count": null,
   "id": "7ef5d0e1-b7f7-45cd-8a8c-96af88a7f69d",
   "metadata": {},
   "outputs": [],
   "source": []
  },
  {
   "cell_type": "code",
   "execution_count": null,
   "id": "0e81bb2d-b834-4e23-9260-063050b4af21",
   "metadata": {},
   "outputs": [],
   "source": [
    "# first make a function to plot"
   ]
  },
  {
   "cell_type": "code",
   "execution_count": null,
   "id": "43a0b315-1185-4028-81cf-dbf6137f8e1e",
   "metadata": {},
   "outputs": [],
   "source": []
  },
  {
   "cell_type": "code",
   "execution_count": null,
   "id": "a2c88970-6581-4f42-a5ae-c650b210f759",
   "metadata": {},
   "outputs": [],
   "source": []
  },
  {
   "cell_type": "code",
   "execution_count": null,
   "id": "5f7fbfe5-6b08-4b66-8aaf-d92ed2f1ca8c",
   "metadata": {},
   "outputs": [],
   "source": []
  },
  {
   "cell_type": "code",
   "execution_count": 2,
   "id": "d6147823-8462-41c0-a68e-3d32a62616ad",
   "metadata": {},
   "outputs": [],
   "source": [
    "## first look at pilots"
   ]
  },
  {
   "cell_type": "code",
   "execution_count": 3,
   "id": "f6c374b8-bf90-468b-8b49-65d7967f989e",
   "metadata": {},
   "outputs": [],
   "source": [
    "## next look at ASD, Controls"
   ]
  },
  {
   "cell_type": "code",
   "execution_count": null,
   "id": "39a85776-c3ec-416f-bcf9-5a07acd57655",
   "metadata": {},
   "outputs": [],
   "source": []
  }
 ],
 "metadata": {
  "kernelspec": {
   "display_name": "Python 3 (ipykernel)",
   "language": "python",
   "name": "python3"
  },
  "language_info": {
   "codemirror_mode": {
    "name": "ipython",
    "version": 3
   },
   "file_extension": ".py",
   "mimetype": "text/x-python",
   "name": "python",
   "nbconvert_exporter": "python",
   "pygments_lexer": "ipython3",
   "version": "3.11.9"
  }
 },
 "nbformat": 4,
 "nbformat_minor": 5
}
