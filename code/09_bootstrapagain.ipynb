{
 "cells": [
  {
   "cell_type": "code",
   "execution_count": null,
   "id": "ad380154-c992-4fcf-a248-0eee92ac4ff1",
   "metadata": {},
   "outputs": [],
   "source": [
    "bootstrap_files = glob.glob(f'{temp_dir}feat-{feat}_sub-{sub}_ROI-{ROI}_PCA-{PCA}_delay-{delay}_bootstrap*.npz')\n",
    "bootstrap_data=[]\n",
    "for f in bootstrap_files:\n",
    "    data=np.load(f)\n",
    "    bootstrap_data.append(data['stacked_r2s'])\n",
    "bootstrap_data=np.asanyarray(bootstrap_data)"
   ]
  }
 ],
 "metadata": {
  "kernelspec": {
   "display_name": "Python 3 (ipykernel)",
   "language": "python",
   "name": "python3"
  },
  "language_info": {
   "codemirror_mode": {
    "name": "ipython",
    "version": 3
   },
   "file_extension": ".py",
   "mimetype": "text/x-python",
   "name": "python",
   "nbconvert_exporter": "python",
   "pygments_lexer": "ipython3",
   "version": "3.8.5"
  }
 },
 "nbformat": 4,
 "nbformat_minor": 5
}
