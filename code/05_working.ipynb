{
 "cells": [
  {
   "cell_type": "code",
   "execution_count": 1,
   "id": "dfba657b-3b9b-4b6b-980e-0edfca17b443",
   "metadata": {},
   "outputs": [
    {
     "name": "stderr",
     "output_type": "stream",
     "text": [
      "pixdim[1,2,3] should be non-zero; setting 0 dims to 1\n"
     ]
    }
   ],
   "source": [
    "import pandas as pd\n",
    "import nibabel as nb\n",
    "import os\n",
    "import numpy as np\n",
    "import glob\n",
    "import h5py\n",
    "import hcp_utils as hcp\n",
    "from sklearn.random_projection import SparseRandomProjection\n",
    "\n",
    "import numpy as np\n",
    "from stacking_fmri import stacking_CV_fmri, stacking_fmri\n",
    "from ridge_tools import R2\n",
    "import matplotlib.pyplot as plt\n",
    "import seaborn as sns\n",
    "\n",
    "import time\n",
    "#pd.set_option('display.max_rows', None)"
   ]
  },
  {
   "cell_type": "code",
   "execution_count": 2,
   "id": "b102ed44-a668-498e-bd7e-83d1b187359b",
   "metadata": {},
   "outputs": [],
   "source": [
    "def load_audio_features(stim,delay,all_layers):\n",
    "    #dimensionality reduction to 50 components\n",
    "    transformer = SparseRandomProjection(n_components=50)\n",
    "    \n",
    "\n",
    "    save_features_dir = f'../data/{stim}_clips_cochresnet50/'\n",
    "    \n",
    "    X=[]\n",
    "    # X_train=[]\n",
    "    # X_test=[]\n",
    "    #print('CochResNet50 time-averaged')\n",
    "    # Open the file 'myfile.h5' in read-only mode\n",
    "    file = h5py.File(f'{save_features_dir}cochresnet50_activations.h5', 'r')\n",
    "    for layer in all_layers:\n",
    "    # # Now you can access datasets within the file\n",
    "        data = file[layer]\n",
    "        #print(data.shape, layer)\n",
    "        X.append(  transformer.fit_transform(  np.array(data)[:(-1*delay),:]  )  )\n",
    "        # X_train.append(np.array(data)[:600,:])\n",
    "        # X_test.append(np.array(data)[600:,:])\n",
    "    \n",
    "    # # Don't forget to close the file when you're done\n",
    "    file.close()\n",
    "    return(X)\n",
    "\n",
    "def load_video_features(stim,delay,all_layers):\n",
    "    #dimensionality reduction to 50 components\n",
    "    transformer = SparseRandomProjection(n_components=50)\n",
    "    save_path = f'../data/{stim}_frames_resnet50/'\n",
    "    #print('ResNet50 frame embeddings')\n",
    "    # for emb_f in emb_list:\n",
    "    #     emb = np.load(f'{emb_f}')\n",
    "    #     print(emb['frame_0000.jpg'].shape, os.path.splitext(os.path.basename(emb_f))[0])\n",
    "    X=[]\n",
    "    for layer in all_layers:\n",
    "        X_layer=[]\n",
    "        emb = np.load(f'{save_path}{layer}.npz')\n",
    "        for k in list(emb.keys()):\n",
    "            X_layer.append(emb[k].flatten())\n",
    "        X.append(  transformer.fit_transform(  np.array(X_layer)[:(-1*delay),:]  )  )\n",
    "    return(X)\n",
    "\n",
    "def get_parcel_indices(parcels):\n",
    "    patternR = '|'.join(['Right_' + parcel for parcel in parcels])\n",
    "    patternL = '|'.join(['Left_' + parcel for parcel in parcels])\n",
    "    \n",
    "    # get a boolean series where True indicates a match\n",
    "    matches = atlas['label'].str.contains(patternR) | atlas['label'].str.contains(patternL)\n",
    "    \n",
    "    # get the indices that match\n",
    "    indices = matches[matches].index.tolist()\n",
    "    parcel_names=atlas[matches]['label'].tolist()\n",
    "    return(indices,parcel_names)\n",
    "\n",
    "\n",
    "def load_fmri_data(im_file,delay,indices):\n",
    "    # load fmri data for a subject\n",
    "    img = nb.load(im_file)\n",
    "    img_y = img.get_fdata()\n",
    "    Y=img_y[delay:,indices]\n",
    "    return(Y)\n",
    "    # Y_train=Y[:600,:]\n",
    "    # Y_test=Y[600:,:]\n",
    "\n",
    "def get_subject_list(delay,indices):\n",
    "    pilot_subjects=pd.read_csv('../data/pilots_ru_dm.csv') # load pilot subjects\n",
    "    \n",
    "    subjects=[]\n",
    "    for sub in list(pilot_subjects['Identifiers_y']):\n",
    "        \n",
    "        im_file = f'/nese/mit/group/sig/projects/hbn/hbn_bids/derivatives/xcp_d_0.7.1/sub-{sub}/ses-HBNsiteRU/func/sub-{sub}_ses-HBNsiteRU_task-movieDM_space-fsLR_seg-Glasser_den-91k_stat-mean_timeseries.ptseries.nii'\n",
    "        try:\n",
    "            Y=load_fmri_data(im_file,delay,indices)\n",
    "            #print('loaded')\n",
    "            subjects.append(sub)\n",
    "        except:\n",
    "            print(f'missing {sub}')\n",
    "    print(f'loaded {len(subjects)} subjects')\n",
    "    return(subjects)\n",
    "    \n",
    "def get_parcel_indices(parcels):\n",
    "    patternR = '|'.join(['Right_' + parcel for parcel in parcels])\n",
    "    patternL = '|'.join(['Left_' + parcel for parcel in parcels])\n",
    "    \n",
    "    # get a boolean series where True indicates a match\n",
    "    matches = atlas['label'].str.contains(patternR) | atlas['label'].str.contains(patternL)\n",
    "    \n",
    "    # get the indices that match\n",
    "    atlas_indices = atlas[matches]['index'].tolist()\n",
    "    indices = matches[matches].index.tolist()\n",
    "    parcel_names=atlas[matches]['label'].tolist()\n",
    "    return(atlas_indices,indices,parcel_names)"
   ]
  },
  {
   "cell_type": "code",
   "execution_count": 3,
   "id": "a88a0d06-1863-4dd9-b654-90afc37549b7",
   "metadata": {},
   "outputs": [],
   "source": [
    "def load_glasser():\n",
    "    atlas_dlabel='/om2/user/jsmentch/atlases/atlas-Glasser/atlas-Glasser_space-fsLR_den-91k_dseg.dlabel.nii'\n",
    "    img = nb.load(atlas_dlabel)\n",
    "    atlas_data=img.get_fdata()\n",
    "    atlas_data=atlas_data[0,:]\n",
    "    atlas=pd.read_csv('/om2/user/jsmentch/atlases/atlas-Glasser/atlas-Glasser_dseg.tsv', sep='\\t')\n",
    "    return(atlas,atlas_data)\n",
    "    \n",
    "atlas,atlas_data=load_glasser()\n",
    "parcels=[\n",
    "    'A1']\n",
    "atlas_indices,indices,parcel_names=get_parcel_indices(parcels)"
   ]
  },
  {
   "cell_type": "code",
   "execution_count": 4,
   "id": "2d34559a-5c37-42dd-85ff-e5f1f122875a",
   "metadata": {},
   "outputs": [
    {
     "data": {
      "text/plain": [
       "[24, 204]"
      ]
     },
     "execution_count": 4,
     "metadata": {},
     "output_type": "execute_result"
    }
   ],
   "source": [
    "atlas_indices"
   ]
  },
  {
   "cell_type": "code",
   "execution_count": 5,
   "id": "f3928212-88ee-4d78-86a2-44413769ece0",
   "metadata": {},
   "outputs": [
    {
     "data": {
      "text/plain": [
       "['Right_A1', 'Left_A1']"
      ]
     },
     "execution_count": 5,
     "metadata": {},
     "output_type": "execute_result"
    }
   ],
   "source": [
    "parcel_names"
   ]
  },
  {
   "cell_type": "code",
   "execution_count": 6,
   "id": "60928e65-1077-4d27-9e46-5d2b493e4094",
   "metadata": {},
   "outputs": [],
   "source": [
    "atlas_indices_indices=np.where(atlas_data==204)[0]"
   ]
  },
  {
   "cell_type": "code",
   "execution_count": 7,
   "id": "17d62bf9-7e55-46a6-a0ef-fa39060a222c",
   "metadata": {},
   "outputs": [
    {
     "data": {
      "text/plain": [
       "array([ 6776,  6777,  6778,  6779,  6780,  8297,  8303,  8304,  8310,\n",
       "       28416, 28417, 28418, 28419, 28465, 28466, 28467, 28468, 28469,\n",
       "       28470, 28512, 28513, 28514, 28515, 28516, 28517, 28518, 28519,\n",
       "       28559, 28560, 28561, 28562, 28563, 28564, 28565, 28566, 28567,\n",
       "       28605, 28606, 28607, 28608, 28609, 28610, 28611, 28612, 28613,\n",
       "       28614, 28650, 28651, 28652, 28653, 28654, 28655, 28656, 28657,\n",
       "       28658, 28659, 28660, 28695, 28696, 28697, 28698, 28699, 28700,\n",
       "       28701, 28702, 28703, 28704, 28705, 28740, 28741, 28742, 28743,\n",
       "       28744, 28745, 28746, 28747, 28748])"
      ]
     },
     "execution_count": 7,
     "metadata": {},
     "output_type": "execute_result"
    }
   ],
   "source": [
    "atlas_indices_indices"
   ]
  },
  {
   "cell_type": "code",
   "execution_count": 8,
   "id": "be69e0fd-6e40-43b9-9d48-3c46cd70c661",
   "metadata": {},
   "outputs": [
    {
     "name": "stdout",
     "output_type": "stream",
     "text": [
      "missing NDARZN277NR6\n",
      "missing NDARJG300HWH\n",
      "loaded 25 subjects\n"
     ]
    }
   ],
   "source": [
    "delay=6\n",
    "subjects=get_subject_list(delay,indices)"
   ]
  },
  {
   "cell_type": "code",
   "execution_count": 9,
   "id": "d6d1aa68-2561-4c67-aa9a-31a967720b56",
   "metadata": {},
   "outputs": [],
   "source": [
    "sub=subjects[0]\n",
    "im_file = f'/nese/mit/group/sig/projects/hbn/hbn_bids/derivatives/xcp_d_0.7.1/sub-{sub}/ses-HBNsiteRU/func/sub-{sub}_ses-HBNsiteRU_task-movieDM_space-fsLR_den-91k_desc-denoisedSmoothed_bold.dtseries.nii'\n",
    "img = nb.load(im_file)\n",
    "img_y = img.get_fdata()\n",
    "Y=img_y[delay:,atlas_indices_indices]"
   ]
  },
  {
   "cell_type": "code",
   "execution_count": null,
   "id": "8ef50031-d4a1-4ad8-966a-60aa86280c3f",
   "metadata": {},
   "outputs": [],
   "source": []
  },
  {
   "cell_type": "code",
   "execution_count": 10,
   "id": "372e16b3-2e12-47fb-8657-8d89444d449c",
   "metadata": {},
   "outputs": [],
   "source": [
    "def load_audio_features_RAW(stim,delay,all_layers):\n",
    "    #dimensionality reduction to 50 components\n",
    "    #transformer = SparseRandomProjection(n_components=50)\n",
    "    \n",
    "\n",
    "    save_features_dir = f'../data/{stim}_clips_cochresnet50/'\n",
    "    \n",
    "    X=[]\n",
    "    # X_train=[]\n",
    "    # X_test=[]\n",
    "    #print('CochResNet50 time-averaged')\n",
    "    # Open the file 'myfile.h5' in read-only mode\n",
    "    file = h5py.File(f'{save_features_dir}cochresnet50_activations.h5', 'r')\n",
    "    for layer in all_layers:\n",
    "    # # Now you can access datasets within the file\n",
    "        data = file[layer]\n",
    "        print(data.shape, layer)\n",
    "        #X.append(  transformer.fit_transform(  np.array(data)[:(-1*delay),:]  )  )\n",
    "        X.append( np.array(data)[:(-1*delay),:]  )\n",
    "\n",
    "        # X_train.append(np.array(data)[:600,:])\n",
    "        # X_test.append(np.array(data)[600:,:])\n",
    "    \n",
    "    # # Don't forget to close the file when you're done\n",
    "    file.close()\n",
    "    return(X)"
   ]
  },
  {
   "cell_type": "code",
   "execution_count": null,
   "id": "2e904d60-0a90-409a-9c4e-366924101519",
   "metadata": {},
   "outputs": [],
   "source": []
  },
  {
   "cell_type": "code",
   "execution_count": 31,
   "id": "e7fe34df-3acf-4234-9b47-7ba397173bcc",
   "metadata": {},
   "outputs": [],
   "source": [
    "all_layers=['input_after_preproc',\n",
    " 'conv1_relu1',\n",
    " 'maxpool1',\n",
    " 'layer1',\n",
    " 'layer2',\n",
    " 'layer3',\n",
    " 'layer4',\n",
    " 'avgpool']\n",
    "\n",
    "# all_layers=['input_after_preproc',\n",
    "#  'conv1_relu1',\n",
    "#  'maxpool1']\n",
    "#X=load_audio_features_RAW('DM',delay,all_layers)\n",
    "X=load_audio_features('DM',delay,all_layers)\n",
    "\n",
    "X = [array[:Y.shape[0], :] for array in X]\n",
    "Y= Y[:X[0].shape[0],:]"
   ]
  },
  {
   "cell_type": "code",
   "execution_count": 32,
   "id": "ad69fe2e-8bcc-4634-860d-6f26473abce5",
   "metadata": {},
   "outputs": [],
   "source": [
    "#X[0].shape\n",
    "#Y.shape"
   ]
  },
  {
   "cell_type": "code",
   "execution_count": 33,
   "id": "fbc70d05-800b-4afb-adf9-fa3051ef9451",
   "metadata": {},
   "outputs": [
    {
     "name": "stdout",
     "output_type": "stream",
     "text": [
      "MSE: 1.79, R2: -0.00\n",
      "MSE: 2.41, R2: -0.34\n",
      "MSE: 2.36, R2: -0.32\n",
      "MSE: 2.44, R2: -0.38\n",
      "MSE: 2.36, R2: -0.33\n",
      "MSE: 2.38, R2: -0.33\n",
      "MSE: 2.26, R2: -0.27\n",
      "MSE: 2.24, R2: -0.26\n"
     ]
    }
   ],
   "source": [
    "import numpy as np\n",
    "from sklearn.linear_model import RidgeCV\n",
    "from sklearn.model_selection import cross_val_predict\n",
    "from sklearn.metrics import mean_squared_error, r2_score\n",
    "\n",
    "# Prepare your data (if not already done)\n",
    "# X = np.array(X)\n",
    "# Y = np.array(Y)\n",
    "\n",
    "for lay in np.arange(len(X)):\n",
    "# Create a RidgeCV model\n",
    "#alphas = np.logspace(-6, 6, 13)\n",
    "    ridge_cv = RidgeCV( cv=5)\n",
    "    \n",
    "    # Fit the model to your data\n",
    "    ridge_cv.fit(X[lay], Y)\n",
    "    \n",
    "    # Predict Y using cross-validation\n",
    "    Y_pred = cross_val_predict(ridge_cv, X[lay], Y, cv=5)\n",
    "    \n",
    "    # Evaluate the model\n",
    "    mse = mean_squared_error(Y, Y_pred)\n",
    "    r2 = r2_score(Y, Y_pred)\n",
    "    print(f\"MSE: {mse:.2f}, R2: {r2:.2f}\")\n"
   ]
  },
  {
   "cell_type": "code",
   "execution_count": null,
   "id": "75bbe117-d00c-43d4-a826-638c102250b3",
   "metadata": {},
   "outputs": [],
   "source": []
  },
  {
   "cell_type": "code",
   "execution_count": null,
   "id": "0a03b059-55e9-4251-9771-93800e713292",
   "metadata": {},
   "outputs": [],
   "source": []
  },
  {
   "cell_type": "code",
   "execution_count": null,
   "id": "92680d3a-20ae-4928-a30d-eea406083f0e",
   "metadata": {},
   "outputs": [],
   "source": []
  },
  {
   "cell_type": "code",
   "execution_count": null,
   "id": "64ec2729-a9b1-4979-a87e-0f1b7149d13c",
   "metadata": {},
   "outputs": [],
   "source": []
  },
  {
   "cell_type": "code",
   "execution_count": null,
   "id": "4a070f86-c70a-41d8-8e2f-a1c5ac3e45dd",
   "metadata": {},
   "outputs": [],
   "source": []
  },
  {
   "cell_type": "code",
   "execution_count": null,
   "id": "a72f3a7d-1dfb-4e31-b98f-03b495de1473",
   "metadata": {},
   "outputs": [],
   "source": []
  },
  {
   "cell_type": "code",
   "execution_count": null,
   "id": "90868898-7b2e-46c0-9c82-36020e2abb2e",
   "metadata": {},
   "outputs": [],
   "source": []
  },
  {
   "cell_type": "code",
   "execution_count": null,
   "id": "4004408f-f5bc-40a5-b7d4-4d76514acc8b",
   "metadata": {},
   "outputs": [],
   "source": []
  },
  {
   "cell_type": "code",
   "execution_count": null,
   "id": "f93e4838-6803-49cd-8068-eddb818bccd2",
   "metadata": {},
   "outputs": [],
   "source": [
    "r2s, stacked_r2s, _, _, _, S_average = stacking_CV_fmri(Y, X, method = 'cross_val_ridge',n_folds = 5,score_f=R2)"
   ]
  },
  {
   "cell_type": "code",
   "execution_count": null,
   "id": "52ab7bbd-ab61-43bd-8b87-0150bd123896",
   "metadata": {},
   "outputs": [],
   "source": [
    "S_average.shape"
   ]
  },
  {
   "cell_type": "code",
   "execution_count": null,
   "id": "6d0ab20b-52dc-4d44-9fe7-20ae85e7b2b8",
   "metadata": {},
   "outputs": [],
   "source": [
    "#plt.plot( S_average, linewidth=0.5 )\n",
    "fig = plt.figure(figsize=(10, 2))\n",
    "\n",
    "np.arange(S_average.shape[1])\n",
    "\n",
    "sns.heatmap(S_average.T, vmin=0, vmax=1)\n",
    "plt.xlabel('Voxel ID')\n",
    "plt.ylabel('Feature')\n",
    "plt.yticks(np.arange(S_average.shape[1])+0.5,all_layers, rotation=0)"
   ]
  },
  {
   "cell_type": "code",
   "execution_count": null,
   "id": "2a91acb5-fbac-4fef-be01-57ff0fb68882",
   "metadata": {},
   "outputs": [],
   "source": [
    "fig, axs = plt.subplots(r2s.shape[0], 1, figsize=(5, 1*r2s.shape[0]))  # Adjust the figure size as needed\n",
    "\n",
    "for layer in np.arange(r2s.shape[0]):\n",
    "    data = r2s[layer]\n",
    "    axs[layer].hist(data, 150, color='k')\n",
    "    axs[layer].set_xlim(r2s.min(), r2s.max())\n",
    "    axs[layer].set_xlabel('r2')\n",
    "    axs[layer].set_ylabel('grayordinates')\n",
    "\n",
    "plt.tight_layout()  # To prevent overlap of subplots\n",
    "plt.show()"
   ]
  },
  {
   "cell_type": "code",
   "execution_count": null,
   "id": "82c8992a-c1d6-45c4-852f-b994afab98af",
   "metadata": {},
   "outputs": [],
   "source": []
  },
  {
   "cell_type": "code",
   "execution_count": null,
   "id": "57d26fae-f355-436b-a3cf-a1133e4af1d2",
   "metadata": {},
   "outputs": [],
   "source": []
  },
  {
   "cell_type": "code",
   "execution_count": null,
   "id": "2190da4c-17d3-4a72-a795-b59640b862cc",
   "metadata": {},
   "outputs": [],
   "source": []
  },
  {
   "cell_type": "code",
   "execution_count": 66,
   "id": "60db3241-6c28-4d8e-9647-93a89a717311",
   "metadata": {},
   "outputs": [],
   "source": [
    "import nibabel as nib\n",
    "import nilearn.plotting as plotting\n",
    "import numpy as np\n",
    "import matplotlib.pyplot as plt\n",
    "%matplotlib inline\n",
    "import hcp_utils as hcp\n"
   ]
  },
  {
   "cell_type": "code",
   "execution_count": 67,
   "id": "4886f018-59a0-46c5-8f0d-36e44b4af905",
   "metadata": {},
   "outputs": [
    {
     "ename": "NameError",
     "evalue": "name 'atlas_dlabel' is not defined",
     "output_type": "error",
     "traceback": [
      "\u001b[0;31m---------------------------------------------------------------------------\u001b[0m",
      "\u001b[0;31mNameError\u001b[0m                                 Traceback (most recent call last)",
      "Cell \u001b[0;32mIn[67], line 1\u001b[0m\n\u001b[0;32m----> 1\u001b[0m img \u001b[38;5;241m=\u001b[39m nb\u001b[38;5;241m.\u001b[39mload(\u001b[43matlas_dlabel\u001b[49m)\n\u001b[1;32m      2\u001b[0m atlas_data\u001b[38;5;241m=\u001b[39mimg\u001b[38;5;241m.\u001b[39mget_fdata()\n\u001b[1;32m      3\u001b[0m atlas_data\u001b[38;5;241m=\u001b[39matlas_data[\u001b[38;5;241m0\u001b[39m,:]\n",
      "\u001b[0;31mNameError\u001b[0m: name 'atlas_dlabel' is not defined"
     ]
    }
   ],
   "source": [
    "img = nb.load(atlas_dlabel)\n",
    "atlas_data=img.get_fdata()\n",
    "atlas_data=atlas_data[0,:]\n",
    "\n",
    "atlas_data = np.where(atlas_data < 6, 1, 0)\n",
    "plotting.view_surf(hcp.mesh.inflated, hcp.cortex_data(atlas_data), bg_map=hcp.mesh.sulc)"
   ]
  },
  {
   "cell_type": "code",
   "execution_count": null,
   "id": "4e7c328a-09b5-48c9-a564-c623259f31bf",
   "metadata": {},
   "outputs": [],
   "source": []
  },
  {
   "cell_type": "code",
   "execution_count": null,
   "id": "41900ea2-962a-4793-b53b-d848611f4ae3",
   "metadata": {},
   "outputs": [],
   "source": []
  }
 ],
 "metadata": {
  "kernelspec": {
   "display_name": "Python 3 (ipykernel)",
   "language": "python",
   "name": "python3"
  },
  "language_info": {
   "codemirror_mode": {
    "name": "ipython",
    "version": 3
   },
   "file_extension": ".py",
   "mimetype": "text/x-python",
   "name": "python",
   "nbconvert_exporter": "python",
   "pygments_lexer": "ipython3",
   "version": "3.11.9"
  }
 },
 "nbformat": 4,
 "nbformat_minor": 5
}
