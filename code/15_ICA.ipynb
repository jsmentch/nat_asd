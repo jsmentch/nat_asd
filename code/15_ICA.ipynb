{
 "cells": [
  {
   "cell_type": "code",
   "execution_count": 1,
   "id": "255f4da7-6b7f-4202-b8fd-bb39bca0b68f",
   "metadata": {},
   "outputs": [],
   "source": [
    "# skipping this for now... not clear"
   ]
  },
  {
   "cell_type": "code",
   "execution_count": null,
   "id": "33f921f3-b014-458d-8a0e-b4aaa1c42203",
   "metadata": {},
   "outputs": [],
   "source": []
  }
 ],
 "metadata": {
  "kernelspec": {
   "display_name": "Python 3 (ipykernel)",
   "language": "python",
   "name": "python3"
  },
  "language_info": {
   "codemirror_mode": {
    "name": "ipython",
    "version": 3
   },
   "file_extension": ".py",
   "mimetype": "text/x-python",
   "name": "python",
   "nbconvert_exporter": "python",
   "pygments_lexer": "ipython3",
   "version": "3.11.9"
  }
 },
 "nbformat": 4,
 "nbformat_minor": 5
}
