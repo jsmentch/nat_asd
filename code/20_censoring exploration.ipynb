{
 "cells": [
  {
   "cell_type": "code",
   "execution_count": null,
   "id": "171c379f-78d2-4526-b0ff-e8620c373a32",
   "metadata": {},
   "outputs": [],
   "source": [
    "#print the length of a subject fmri\n",
    "#print the number of timepoints over 0.9 FD"
   ]
  },
  {
   "cell_type": "code",
   "execution_count": 1,
   "id": "b02455d0-31ef-4ec0-b5f9-3a56196f6c5b",
   "metadata": {},
   "outputs": [],
   "source": [
    "import pandas as pd\n",
    "import numpy as np\n",
    "import matplotlib.pyplot as plt\n",
    "import nibabel as nb\n",
    "\n",
    "with open('pilots_ru_dm_list.txt', 'r') as file:\n",
    "    sub_list = file.readlines()\n",
    "good_subjects_list = [line.strip() for line in sub_list]"
   ]
  },
  {
   "cell_type": "code",
   "execution_count": 3,
   "id": "1a31532a-db27-49cc-ae81-042b9fac4653",
   "metadata": {},
   "outputs": [
    {
     "name": "stdout",
     "output_type": "stream",
     "text": [
      "11 0\n",
      "37 10\n",
      "1 0\n",
      "4 0\n",
      "15 4\n",
      "3 0\n",
      "0 0\n",
      "5 0\n",
      "42 7\n",
      "2 0\n",
      "0 0\n",
      "31 0\n",
      "3 0\n",
      "143 42\n",
      "13 0\n",
      "132 76\n",
      "3 0\n",
      "11 7\n",
      "18 0\n",
      "62 21\n",
      "22 0\n",
      "3 0\n",
      "33 23\n",
      "11 0\n",
      "0 0\n",
      "30 0\n"
     ]
    }
   ],
   "source": [
    "for i, sub in enumerate(good_subjects_list):\n",
    "    confounds_file=f'/nese/mit/group/sig/projects/hbn/hbn_bids/derivatives/fmriprep_23.2.0/sub-{sub}/ses-HBNsiteRU/func/sub-{sub}_ses-HBNsiteRU_task-movieDM_desc-confounds_timeseries.tsv'\n",
    "    df = pd.read_csv(confounds_file, sep='\\t')\n",
    "    fd=df['framewise_displacement']\n",
    "    count = sum(1 for value in fd if value > 0.9)\n",
    "    #print(count)\n",
    "    im_file = f'/nese/mit/group/sig/projects/hbn/hbn_bids/derivatives/xcp_d_0.7.1/sub-{sub}/ses-HBNsiteRU/func/sub-{sub}_ses-HBNsiteRU_task-movieDM_space-fsLR_seg-Glasser_den-91k_stat-mean_timeseries.ptseries.nii'\n",
    "    #im_file = f'/nese/mit/group/sig/projects/hbn/hbn_bids/derivatives/xcp_d_0.7.1/sub-{sub}/ses-HBNsiteRU/func/sub-{sub}_ses-HBNsiteRU_task-movieDM_space-fsLR_den-91k_desc-denoisedSmoothed_bold.dtseries.nii'\n",
    "    img = nb.load(im_file)\n",
    "    img_y = img.get_fdata()\n",
    "    print(count, 750-img_y.shape[0])"
   ]
  },
  {
   "cell_type": "code",
   "execution_count": null,
   "id": "e074f970-17b4-49d9-aaa6-82aa83b67feb",
   "metadata": {},
   "outputs": [],
   "source": [
    "for i, sub in enumerate(good_subjects_list):\n",
    "    confounds_file=f'/nese/mit/group/sig/projects/hbn/hbn_bids/derivatives/fmriprep_23.2.0/sub-{sub}/ses-HBNsiteRU/func/sub-{sub}_ses-HBNsiteRU_task-movieDM_desc-confounds_timeseries.tsv'\n",
    "    df = pd.read_csv(confounds_file, sep='\\t')\n",
    "    fd=df['framewise_displacement']\n",
    "    count = sum(1 for value in fd if value > 0.9)\n",
    "    #print(count)\n",
    "    #im_file = f'/nese/mit/group/sig/projects/hbn/hbn_bids/derivatives/xcp_d_0.7.1/sub-{sub}/ses-HBNsiteRU/func/sub-{sub}_ses-HBNsiteRU_task-movieDM_space-fsLR_seg-Glasser_den-91k_stat-mean_timeseries.ptseries.nii'\n",
    "    #im_file = f'/nese/mit/group/sig/projects/hbn/hbn_bids/derivatives/xcp_d_0.7.1/sub-{sub}/ses-HBNsiteRU/func/sub-{sub}_ses-HBNsiteRU_task-movieDM_space-fsLR_den-91k_desc-denoisedSmoothed_bold.dtseries.nii'\n",
    "    \n",
    "    im_file = f'/om2/scratch/tmp/jsmentch/HBN/sub-{sub}/data/derivatives/xcp_d/sub-{sub}/ses-HBNsiteRU/func/sub-{sub}_ses-HBNsiteRU_task-movieDM_space-fsLR_den-91k_desc-denoisedSmoothed_bold.dtseries.nii'\n",
    "    \n",
    "    img = nb.load(im_file)\n",
    "    img_y = img.get_fdata()\n",
    "    print(count, 750-img_y.shape[0])"
   ]
  },
  {
   "cell_type": "code",
   "execution_count": null,
   "id": "d15703d3-8aab-4c15-8989-f081f2b9aba0",
   "metadata": {},
   "outputs": [],
   "source": [
    "for i, sub in enumerate(good_subjects_list):\n",
    "    confounds_file=f'/nese/mit/group/sig/projects/hbn/hbn_bids/derivatives/fmriprep_23.2.0/sub-{sub}/ses-HBNsiteRU/func/sub-{sub}_ses-HBNsiteRU_task-movieDM_desc-confounds_timeseries.tsv'\n",
    "    df = pd.read_csv(confounds_file, sep='\\t')\n",
    "    fd=df['framewise_displacement']\n",
    "    count = sum(1 for value in fd if value > 0.9)\n",
    "    #print(count)\n",
    "    im_file = f'/nese/mit/group/sig/projects/hbn/hbn_bids/derivatives/xcp_d_0.7.1/sub-{sub}/ses-HBNsiteRU/func/sub-{sub}_ses-HBNsiteRU_task-movieDM_space-fsLR_seg-Glasser_den-91k_stat-mean_timeseries.ptseries.nii'\n",
    "    #im_file = f'/nese/mit/group/sig/projects/hbn/hbn_bids/derivatives/xcp_d_0.7.1/sub-{sub}/ses-HBNsiteRU/func/sub-{sub}_ses-HBNsiteRU_task-movieDM_space-fsLR_den-91k_desc-denoisedSmoothed_bold.dtseries.nii'\n",
    "    img = nb.load(im_file)\n",
    "    img_y = img.get_fdata()\n",
    "    print(count, 750-img_y.shape[0])"
   ]
  }
 ],
 "metadata": {
  "kernelspec": {
   "display_name": "Python 3 (ipykernel)",
   "language": "python",
   "name": "python3"
  },
  "language_info": {
   "codemirror_mode": {
    "name": "ipython",
    "version": 3
   },
   "file_extension": ".py",
   "mimetype": "text/x-python",
   "name": "python",
   "nbconvert_exporter": "python",
   "pygments_lexer": "ipython3",
   "version": "3.11.9"
  }
 },
 "nbformat": 4,
 "nbformat_minor": 5
}
