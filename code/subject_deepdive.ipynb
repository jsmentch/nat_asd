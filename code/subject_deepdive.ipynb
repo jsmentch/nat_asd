{
 "cells": [
  {
   "cell_type": "markdown",
   "id": "6fc1c4a3-a543-442d-b1cc-c574697573c5",
   "metadata": {},
   "source": [
    "# notebook to deep dive stuff"
   ]
  },
  {
   "cell_type": "markdown",
   "id": "602c6da0-3966-4db9-bfc4-3465b3343bcb",
   "metadata": {},
   "source": [
    "### what does a good subject look like\n"
   ]
  },
  {
   "cell_type": "markdown",
   "id": "b790de4e-01fa-41ba-a3e6-33088b93ae78",
   "metadata": {},
   "source": [
    "### what does a bad subecjt look like (r2"
   ]
  },
  {
   "cell_type": "markdown",
   "id": "06ec2b91-02df-4aa1-b632-30240ba5a221",
   "metadata": {},
   "source": [
    "### what does a bad t1 look like"
   ]
  },
  {
   "cell_type": "markdown",
   "id": "7bdba72f-6629-444c-a05c-d56e19804175",
   "metadata": {},
   "source": [
    "### look at the segments across"
   ]
  },
  {
   "cell_type": "code",
   "execution_count": null,
   "id": "1c038bb8-7db8-4287-9dde-71dc5e2084e1",
   "metadata": {},
   "outputs": [],
   "source": []
  },
  {
   "cell_type": "code",
   "execution_count": null,
   "id": "c65b954f-cb23-46cb-8dc5-ac0547c92d80",
   "metadata": {},
   "outputs": [],
   "source": []
  },
  {
   "cell_type": "code",
   "execution_count": null,
   "id": "deb91c46-56fc-4818-a754-8167bbc95132",
   "metadata": {},
   "outputs": [],
   "source": []
  },
  {
   "cell_type": "markdown",
   "id": "2bf6036b-c553-4828-91ae-f01232dde332",
   "metadata": {},
   "source": [
    "### look at all the t1s and overlay the uncertainty score"
   ]
  },
  {
   "cell_type": "code",
   "execution_count": null,
   "id": "65164514-28d1-4cce-9f36-36d4b940f1c8",
   "metadata": {},
   "outputs": [],
   "source": []
  }
 ],
 "metadata": {
  "kernelspec": {
   "display_name": "Python 3 (ipykernel)",
   "language": "python",
   "name": "python3"
  },
  "language_info": {
   "codemirror_mode": {
    "name": "ipython",
    "version": 3
   },
   "file_extension": ".py",
   "mimetype": "text/x-python",
   "name": "python",
   "nbconvert_exporter": "python",
   "pygments_lexer": "ipython3",
   "version": "3.11.9"
  }
 },
 "nbformat": 4,
 "nbformat_minor": 5
}
