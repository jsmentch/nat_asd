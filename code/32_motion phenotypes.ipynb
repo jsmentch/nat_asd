{
 "cells": [
  {
   "cell_type": "markdown",
   "id": "395483a9-f2aa-4150-9c7d-bb8e88a7aee3",
   "metadata": {},
   "source": [
    "# motion phenotype investigation-- is it linked to SRS score in pilots?"
   ]
  },
  {
   "cell_type": "code",
   "execution_count": null,
   "id": "681507c6-a8a5-4c70-aca6-a4b1ea2ba1e4",
   "metadata": {},
   "outputs": [],
   "source": [
    "### first run on pilot1\n",
    "with open('pilots_ru_dm_list.txt', 'r') as file:\n",
    "    sub_list = file.readlines()\n",
    "good_subjects_list = [line.strip() for line in sub_list]\n",
    "\n",
    "good_subjects_list.remove('NDARZK732FZ0')\n",
    "\n",
    "#load fd timecourses\n",
    "\n",
    "#load crown regressor timecourses\n",
    "\n",
    "#load SRS\n",
    "\n",
    "#apply umap to them\n",
    "\n",
    "#color the plot by SRS\n",
    "\n",
    "### next run on pilot 2"
   ]
  }
 ],
 "metadata": {
  "kernelspec": {
   "display_name": "Python 3 (ipykernel)",
   "language": "python",
   "name": "python3"
  },
  "language_info": {
   "codemirror_mode": {
    "name": "ipython",
    "version": 3
   },
   "file_extension": ".py",
   "mimetype": "text/x-python",
   "name": "python",
   "nbconvert_exporter": "python",
   "pygments_lexer": "ipython3",
   "version": "3.11.9"
  }
 },
 "nbformat": 4,
 "nbformat_minor": 5
}
