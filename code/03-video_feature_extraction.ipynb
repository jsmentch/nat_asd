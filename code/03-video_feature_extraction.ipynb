{
 "cells": [
  {
   "attachments": {},
   "cell_type": "markdown",
   "id": "4ebb6aca-121a-4436-bb92-ef3e67e01aed",
   "metadata": {
    "id": "4ebb6aca-121a-4436-bb92-ef3e67e01aed"
   },
   "source": [
    "# Installing Net2Brain"
   ]
  },
  {
   "cell_type": "code",
   "execution_count": null,
   "id": "09d04f6d-0fe7-4a46-9375-3fb09f7176e4",
   "metadata": {},
   "outputs": [],
   "source": [
    "#use conda env net2brain"
   ]
  },
  {
   "cell_type": "code",
   "execution_count": null,
   "id": "4ODrk2C7yMjr",
   "metadata": {
    "id": "4ODrk2C7yMjr"
   },
   "outputs": [],
   "source": [
    "#!pip install -U git+https://github.com/cvai-roig-lab/Net2Brain"
   ]
  },
  {
   "attachments": {},
   "cell_type": "markdown",
   "id": "12ecd847",
   "metadata": {},
   "source": [
    "# Step 1: Feature Extraction"
   ]
  },
  {
   "attachments": {},
   "cell_type": "markdown",
   "id": "089bd358-1fd3-49da-8549-a309929dd434",
   "metadata": {
    "id": "089bd358-1fd3-49da-8549-a309929dd434"
   },
   "source": [
    "## Using `FeatureExtractor` with a model from Net2Brain"
   ]
  },
  {
   "attachments": {},
   "cell_type": "markdown",
   "id": "3114e293-a369-4634-a64b-057184cb4520",
   "metadata": {
    "id": "3114e293-a369-4634-a64b-057184cb4520"
   },
   "source": [
    "The FeatureExtractor class provides an interface for extracting features from a given model. When initializing this class, you can customize its behavior by setting various parameters:\n",
    "\n",
    "- `model` (required): The model from which you want to extract features. Either string in combination with a netset (next parameter), or a variable with a model-type.\n",
    "- `netset` (optional): The netset (collection of networks) that the model belongs to.\n",
    "- `layers_to_extract` (optional): A list of layer names or indices from which you want to extract features. Default is None, indicating that all layers preset in the toolbox will be used.\n",
    "- `device` (optional): The device on which to perform the computations, e.g., 'cuda' for GPU or 'cpu' for CPU. Default is None, which will use the device specified in the global PyTorch settings.\n",
    "- `transforms` (optional): A list of data preprocessing transforms to apply to the input data before passing it through the model. Default is None, which uses the preset transformations\n",
    "- `pretrained` (optional): A boolean flag indicating whether to use a pretrained model (if available) or to initialize the model with random weights. Default is True, which means that a pretrained model will be used if possible."
   ]
  },
  {
   "attachments": {},
   "cell_type": "markdown",
   "id": "5ed1e591",
   "metadata": {},
   "source": [
    "- - -\n"
   ]
  },
  {
   "attachments": {},
   "cell_type": "markdown",
   "id": "43a75bb8",
   "metadata": {},
   "source": [
    "First we need to a dataset to play around with. For that we will use the dataset by [Micheal F. Bonner (2017)](https://www.pnas.org/doi/full/10.1073/pnas.1618228114), which we can download using the `load_dataset` function"
   ]
  },
  {
   "cell_type": "code",
   "execution_count": null,
   "id": "73903734",
   "metadata": {},
   "outputs": [],
   "source": [
    "# from net2brain.utils.download_datasets import load_dataset\n",
    "# stimuli_path, roi_path = load_dataset(\"bonner_pnas2017\")"
   ]
  },
  {
   "attachments": {},
   "cell_type": "markdown",
   "id": "6c06970d",
   "metadata": {},
   "source": [
    "### Initating FeatureExtractor"
   ]
  },
  {
   "attachments": {},
   "cell_type": "markdown",
   "id": "2573aba3",
   "metadata": {},
   "source": [
    "\n",
    "To extract the activations of a pretrained model from a netset, you can use the FeatureExtractor class. First, you need to initialize the class by providing the name of the model and the name of the netset. You can find a suitable model and netset by exploring the taxonomy options available in the Net2Brain toolbox, as shown in the previous notebook \"0_Exploring_Net2Brain\". For instance, in the following example, we will use AlexNet from the standard netset."
   ]
  },
  {
   "cell_type": "code",
   "execution_count": 10,
   "id": "83e48930-2eed-4551-8177-88dfe7a452d3",
   "metadata": {
    "colab": {
     "base_uri": "https://localhost:8080/",
     "height": 87,
     "referenced_widgets": [
      "4c7a1d542761427791a841f9872d693f",
      "3587f70a049a47e1b344ce45039d527a",
      "e72c50f12dda4c56b9dfc0fea87bc6a9",
      "f1a4c2c8b3d94d0f821f0574b6434c85",
      "d28eed3c3fab499686cb90629e65078f",
      "21959f75a3a4472085d63d036fca70b2",
      "b30be957a0994291b112cd066b758cb5",
      "2a88a7872a0941c498a3cf260b559177",
      "940505c8262a4465aaaf109e8e2d5df8",
      "f432fb8b5cc54077911006ffe0b5bf12",
      "9247d2b379c64cd3926e669ed3be60c5"
     ]
    },
    "id": "83e48930-2eed-4551-8177-88dfe7a452d3",
    "outputId": "34a91416-caca-4b3d-9fa5-859d40ce99eb"
   },
   "outputs": [],
   "source": [
    "from net2brain.feature_extraction import FeatureExtractor\n",
    "fx = FeatureExtractor(model='ResNet50', netset='Standard', device='cpu') #cuda not working now, try dif gpu?"
   ]
  },
  {
   "attachments": {},
   "cell_type": "markdown",
   "id": "35ea8247",
   "metadata": {},
   "source": [
    "The `extract` method computes feature extraction from an image dataset. It takes in the following parameters:\n",
    "\n",
    "- `data_path` (required): The path to the images from which to extract the features. The images must be in JPEG or PNG format.\n",
    "- `save_path` (optional): The path to save the extracted features to. If None, the folder where the features are saved is named after the current date in the format \"{year}{month}{day}{hour}{minute}\".\n",
    "- `layers_to_extract` (optional): A list of layer names or indices from which to extract features. If None, the specified layers will be used.\n",
    "- `consolidate_per_layer` (optional): The features are extracted image-wise. This is defaulted to true and will consolidate them per layer if not set to False. Defautls to True.\n",
    "- `dim_reduction` (optional): Type of dimensionality reduction (For now: SRP) for extracted features. Defaults to None.\n",
    "- `n_components` (optonal): Number of components for dimensionality reduction. Defaults to 50."
   ]
  },
  {
   "cell_type": "code",
   "execution_count": 12,
   "id": "39faa0f0",
   "metadata": {},
   "outputs": [
    {
     "name": "stderr",
     "output_type": "stream",
     "text": [
      "100%|██████████| 750/750 [01:53<00:00,  6.64it/s]\n"
     ]
    },
    {
     "name": "stdout",
     "output_type": "stream",
     "text": [
      "Consolidating data per layer...\n"
     ]
    },
    {
     "name": "stderr",
     "output_type": "stream",
     "text": [
      "100%|██████████| 750/750 [00:28<00:00, 26.67it/s]\n"
     ]
    }
   ],
   "source": [
    "from net2brain.feature_extraction import FeatureExtractor\n",
    "import os\n",
    "\n",
    "stim='DM'\n",
    "stimuli_path = f'../data/{stim}_frames/'\n",
    "save_path = f'../data/{stim}_frames_resnet50/'\n",
    "\n",
    "if not os.path.isdir(save_path):\n",
    "    os.mkdir(save_path) \n",
    "    \n",
    "#relu, maxpool, block1, block2, block3, block4, avgpool\n",
    "layers_to_extract=['relu','maxpool', 'layer1', 'layer2', 'layer3', 'layer4', 'avgpool']\n",
    "\n",
    "#fx = FeatureExtractor(model='AlexNet', netset='Standard', device='cpu')\n",
    "fx.extract(data_path=stimuli_path, save_path=save_path, layers_to_extract=layers_to_extract)  #, consolidate_per_layer=False)"
   ]
  },
  {
   "attachments": {},
   "cell_type": "markdown",
   "id": "ZSbD3CBM94B-",
   "metadata": {
    "id": "ZSbD3CBM94B-"
   },
   "source": [
    "__Net2Brain__ chooses by default from which layers of the model to extract the features from. You can inspect which layers are selected by default by calling the `layers_to_extract` attribute:"
   ]
  },
  {
   "cell_type": "code",
   "execution_count": null,
   "id": "a014b078-4460-46f1-8429-071e111b7308",
   "metadata": {},
   "outputs": [],
   "source": []
  },
  {
   "cell_type": "code",
   "execution_count": 2,
   "id": "426df22a-b261-4a7f-b94b-fd8cbdaeb030",
   "metadata": {
    "colab": {
     "base_uri": "https://localhost:8080/"
    },
    "id": "426df22a-b261-4a7f-b94b-fd8cbdaeb030",
    "outputId": "62aa778b-455f-46c4-da52-8c344296a3bd"
   },
   "outputs": [
    {
     "data": {
      "text/plain": [
       "['layer1', 'layer2', 'layer3', 'layer4']"
      ]
     },
     "execution_count": 2,
     "metadata": {},
     "output_type": "execute_result"
    }
   ],
   "source": [
    "fx.layers_to_extract"
   ]
  },
  {
   "attachments": {},
   "cell_type": "markdown",
   "id": "d86fce77",
   "metadata": {},
   "source": [
    "These are not all the layers that **can** be extracted. If you want to see all the layers that can possibly be extracted you you call `get_all_layers()`."
   ]
  },
  {
   "cell_type": "code",
   "execution_count": 3,
   "id": "6619e401",
   "metadata": {
    "scrolled": true
   },
   "outputs": [
    {
     "data": {
      "text/plain": [
       "['',\n",
       " 'conv1',\n",
       " 'bn1',\n",
       " 'relu',\n",
       " 'maxpool',\n",
       " 'layer1',\n",
       " 'layer1.0',\n",
       " 'layer1.0.conv1',\n",
       " 'layer1.0.bn1',\n",
       " 'layer1.0.conv2',\n",
       " 'layer1.0.bn2',\n",
       " 'layer1.0.conv3',\n",
       " 'layer1.0.bn3',\n",
       " 'layer1.0.relu',\n",
       " 'layer1.0.downsample',\n",
       " 'layer1.0.downsample.0',\n",
       " 'layer1.0.downsample.1',\n",
       " 'layer1.1',\n",
       " 'layer1.1.conv1',\n",
       " 'layer1.1.bn1',\n",
       " 'layer1.1.conv2',\n",
       " 'layer1.1.bn2',\n",
       " 'layer1.1.conv3',\n",
       " 'layer1.1.bn3',\n",
       " 'layer1.1.relu',\n",
       " 'layer1.2',\n",
       " 'layer1.2.conv1',\n",
       " 'layer1.2.bn1',\n",
       " 'layer1.2.conv2',\n",
       " 'layer1.2.bn2',\n",
       " 'layer1.2.conv3',\n",
       " 'layer1.2.bn3',\n",
       " 'layer1.2.relu',\n",
       " 'layer2',\n",
       " 'layer2.0',\n",
       " 'layer2.0.conv1',\n",
       " 'layer2.0.bn1',\n",
       " 'layer2.0.conv2',\n",
       " 'layer2.0.bn2',\n",
       " 'layer2.0.conv3',\n",
       " 'layer2.0.bn3',\n",
       " 'layer2.0.relu',\n",
       " 'layer2.0.downsample',\n",
       " 'layer2.0.downsample.0',\n",
       " 'layer2.0.downsample.1',\n",
       " 'layer2.1',\n",
       " 'layer2.1.conv1',\n",
       " 'layer2.1.bn1',\n",
       " 'layer2.1.conv2',\n",
       " 'layer2.1.bn2',\n",
       " 'layer2.1.conv3',\n",
       " 'layer2.1.bn3',\n",
       " 'layer2.1.relu',\n",
       " 'layer2.2',\n",
       " 'layer2.2.conv1',\n",
       " 'layer2.2.bn1',\n",
       " 'layer2.2.conv2',\n",
       " 'layer2.2.bn2',\n",
       " 'layer2.2.conv3',\n",
       " 'layer2.2.bn3',\n",
       " 'layer2.2.relu',\n",
       " 'layer2.3',\n",
       " 'layer2.3.conv1',\n",
       " 'layer2.3.bn1',\n",
       " 'layer2.3.conv2',\n",
       " 'layer2.3.bn2',\n",
       " 'layer2.3.conv3',\n",
       " 'layer2.3.bn3',\n",
       " 'layer2.3.relu',\n",
       " 'layer3',\n",
       " 'layer3.0',\n",
       " 'layer3.0.conv1',\n",
       " 'layer3.0.bn1',\n",
       " 'layer3.0.conv2',\n",
       " 'layer3.0.bn2',\n",
       " 'layer3.0.conv3',\n",
       " 'layer3.0.bn3',\n",
       " 'layer3.0.relu',\n",
       " 'layer3.0.downsample',\n",
       " 'layer3.0.downsample.0',\n",
       " 'layer3.0.downsample.1',\n",
       " 'layer3.1',\n",
       " 'layer3.1.conv1',\n",
       " 'layer3.1.bn1',\n",
       " 'layer3.1.conv2',\n",
       " 'layer3.1.bn2',\n",
       " 'layer3.1.conv3',\n",
       " 'layer3.1.bn3',\n",
       " 'layer3.1.relu',\n",
       " 'layer3.2',\n",
       " 'layer3.2.conv1',\n",
       " 'layer3.2.bn1',\n",
       " 'layer3.2.conv2',\n",
       " 'layer3.2.bn2',\n",
       " 'layer3.2.conv3',\n",
       " 'layer3.2.bn3',\n",
       " 'layer3.2.relu',\n",
       " 'layer3.3',\n",
       " 'layer3.3.conv1',\n",
       " 'layer3.3.bn1',\n",
       " 'layer3.3.conv2',\n",
       " 'layer3.3.bn2',\n",
       " 'layer3.3.conv3',\n",
       " 'layer3.3.bn3',\n",
       " 'layer3.3.relu',\n",
       " 'layer3.4',\n",
       " 'layer3.4.conv1',\n",
       " 'layer3.4.bn1',\n",
       " 'layer3.4.conv2',\n",
       " 'layer3.4.bn2',\n",
       " 'layer3.4.conv3',\n",
       " 'layer3.4.bn3',\n",
       " 'layer3.4.relu',\n",
       " 'layer3.5',\n",
       " 'layer3.5.conv1',\n",
       " 'layer3.5.bn1',\n",
       " 'layer3.5.conv2',\n",
       " 'layer3.5.bn2',\n",
       " 'layer3.5.conv3',\n",
       " 'layer3.5.bn3',\n",
       " 'layer3.5.relu',\n",
       " 'layer4',\n",
       " 'layer4.0',\n",
       " 'layer4.0.conv1',\n",
       " 'layer4.0.bn1',\n",
       " 'layer4.0.conv2',\n",
       " 'layer4.0.bn2',\n",
       " 'layer4.0.conv3',\n",
       " 'layer4.0.bn3',\n",
       " 'layer4.0.relu',\n",
       " 'layer4.0.downsample',\n",
       " 'layer4.0.downsample.0',\n",
       " 'layer4.0.downsample.1',\n",
       " 'layer4.1',\n",
       " 'layer4.1.conv1',\n",
       " 'layer4.1.bn1',\n",
       " 'layer4.1.conv2',\n",
       " 'layer4.1.bn2',\n",
       " 'layer4.1.conv3',\n",
       " 'layer4.1.bn3',\n",
       " 'layer4.1.relu',\n",
       " 'layer4.2',\n",
       " 'layer4.2.conv1',\n",
       " 'layer4.2.bn1',\n",
       " 'layer4.2.conv2',\n",
       " 'layer4.2.bn2',\n",
       " 'layer4.2.conv3',\n",
       " 'layer4.2.bn3',\n",
       " 'layer4.2.relu',\n",
       " 'avgpool',\n",
       " 'fc']"
      ]
     },
     "execution_count": 3,
     "metadata": {},
     "output_type": "execute_result"
    }
   ],
   "source": [
    "fx.get_all_layers()"
   ]
  },
  {
   "attachments": {},
   "cell_type": "markdown",
   "id": "2064729b",
   "metadata": {},
   "source": [
    "If you wish to change the layers to be extracted you can add it to the `extract` function like with the parameter \n",
    "```\n",
    "fx.extract(..., layers_to_extract=[your_layers])\n",
    "```"
   ]
  },
  {
   "cell_type": "markdown",
   "id": "6f6580b2-d2c3-472b-a317-388b463fe88c",
   "metadata": {},
   "source": [
    "## explore features"
   ]
  },
  {
   "cell_type": "code",
   "execution_count": 25,
   "id": "aa91f0f4-7ec0-42b7-b4fd-028459490f3f",
   "metadata": {},
   "outputs": [
    {
     "name": "stdout",
     "output_type": "stream",
     "text": [
      "ResNet50 frame embeddings\n",
      "(1, 64, 112, 112) relu\n",
      "(1, 64, 56, 56) maxpool\n",
      "(1, 256, 56, 56) layer1\n",
      "(1, 512, 28, 28) layer2\n",
      "(1, 1024, 14, 14) layer3\n",
      "(1, 2048, 7, 7) layer4\n",
      "(1, 2048, 1, 1) avgpool\n"
     ]
    }
   ],
   "source": [
    "import os\n",
    "import numpy as np\n",
    "import glob\n",
    "\n",
    "stim='DM'\n",
    "save_path = f'../data/{stim}_frames_resnet50/'\n",
    "\n",
    "#print the\n",
    "emb_list = glob.glob(f'{save_path}*.npz')\n",
    "\n",
    "layers_to_extract=['relu','maxpool', 'layer1', 'layer2', 'layer3', 'layer4', 'avgpool']\n",
    "\n",
    "print('ResNet50 frame embeddings')\n",
    "# for emb_f in emb_list:\n",
    "#     emb = np.load(f'{emb_f}')\n",
    "#     print(emb['frame_0000.jpg'].shape, os.path.splitext(os.path.basename(emb_f))[0])\n",
    "for layer in layers_to_extract:\n",
    "    emb = np.load(f'{save_path}{layer}.npz')\n",
    "    print(emb['frame_0000.jpg'].shape, layer)\n"
   ]
  },
  {
   "cell_type": "code",
   "execution_count": null,
   "id": "82d5e3d4-7ea4-4741-ad9d-30262b2a5d90",
   "metadata": {},
   "outputs": [],
   "source": []
  }
 ],
 "metadata": {
  "colab": {
   "provenance": []
  },
  "kernelspec": {
   "display_name": "Python 3 (ipykernel)",
   "language": "python",
   "name": "python3"
  },
  "language_info": {
   "codemirror_mode": {
    "name": "ipython",
    "version": 3
   },
   "file_extension": ".py",
   "mimetype": "text/x-python",
   "name": "python",
   "nbconvert_exporter": "python",
   "pygments_lexer": "ipython3",
   "version": "3.11.9"
  },
  "vscode": {
   "interpreter": {
    "hash": "2143370df03d7e8d8afb3cb32a8181ea228f5a6f13a304f592978240ae0036e6"
   }
  },
  "widgets": {
   "application/vnd.jupyter.widget-state+json": {
    "0bafe288788d46b58546f92a1c7f22bb": {
     "model_module": "@jupyter-widgets/controls",
     "model_module_version": "1.5.0",
     "model_name": "HTMLModel",
     "state": {
      "_dom_classes": [],
      "_model_module": "@jupyter-widgets/controls",
      "_model_module_version": "1.5.0",
      "_model_name": "HTMLModel",
      "_view_count": null,
      "_view_module": "@jupyter-widgets/controls",
      "_view_module_version": "1.5.0",
      "_view_name": "HTMLView",
      "description": "",
      "description_tooltip": null,
      "layout": "IPY_MODEL_1b9f80c1125f44faab57cdbe47a13b98",
      "placeholder": "​",
      "style": "IPY_MODEL_cf1bc2f7ae0f4bc281f2883b32e80a6c",
      "value": "100%"
     }
    },
    "112f5f8813a94ed1be9a827d81fc277a": {
     "model_module": "@jupyter-widgets/base",
     "model_module_version": "1.2.0",
     "model_name": "LayoutModel",
     "state": {
      "_model_module": "@jupyter-widgets/base",
      "_model_module_version": "1.2.0",
      "_model_name": "LayoutModel",
      "_view_count": null,
      "_view_module": "@jupyter-widgets/base",
      "_view_module_version": "1.2.0",
      "_view_name": "LayoutView",
      "align_content": null,
      "align_items": null,
      "align_self": null,
      "border": null,
      "bottom": null,
      "display": null,
      "flex": null,
      "flex_flow": null,
      "grid_area": null,
      "grid_auto_columns": null,
      "grid_auto_flow": null,
      "grid_auto_rows": null,
      "grid_column": null,
      "grid_gap": null,
      "grid_row": null,
      "grid_template_areas": null,
      "grid_template_columns": null,
      "grid_template_rows": null,
      "height": null,
      "justify_content": null,
      "justify_items": null,
      "left": null,
      "margin": null,
      "max_height": null,
      "max_width": null,
      "min_height": null,
      "min_width": null,
      "object_fit": null,
      "object_position": null,
      "order": null,
      "overflow": null,
      "overflow_x": null,
      "overflow_y": null,
      "padding": null,
      "right": null,
      "top": null,
      "visibility": null,
      "width": null
     }
    },
    "1b9f80c1125f44faab57cdbe47a13b98": {
     "model_module": "@jupyter-widgets/base",
     "model_module_version": "1.2.0",
     "model_name": "LayoutModel",
     "state": {
      "_model_module": "@jupyter-widgets/base",
      "_model_module_version": "1.2.0",
      "_model_name": "LayoutModel",
      "_view_count": null,
      "_view_module": "@jupyter-widgets/base",
      "_view_module_version": "1.2.0",
      "_view_name": "LayoutView",
      "align_content": null,
      "align_items": null,
      "align_self": null,
      "border": null,
      "bottom": null,
      "display": null,
      "flex": null,
      "flex_flow": null,
      "grid_area": null,
      "grid_auto_columns": null,
      "grid_auto_flow": null,
      "grid_auto_rows": null,
      "grid_column": null,
      "grid_gap": null,
      "grid_row": null,
      "grid_template_areas": null,
      "grid_template_columns": null,
      "grid_template_rows": null,
      "height": null,
      "justify_content": null,
      "justify_items": null,
      "left": null,
      "margin": null,
      "max_height": null,
      "max_width": null,
      "min_height": null,
      "min_width": null,
      "object_fit": null,
      "object_position": null,
      "order": null,
      "overflow": null,
      "overflow_x": null,
      "overflow_y": null,
      "padding": null,
      "right": null,
      "top": null,
      "visibility": null,
      "width": null
     }
    },
    "21959f75a3a4472085d63d036fca70b2": {
     "model_module": "@jupyter-widgets/base",
     "model_module_version": "1.2.0",
     "model_name": "LayoutModel",
     "state": {
      "_model_module": "@jupyter-widgets/base",
      "_model_module_version": "1.2.0",
      "_model_name": "LayoutModel",
      "_view_count": null,
      "_view_module": "@jupyter-widgets/base",
      "_view_module_version": "1.2.0",
      "_view_name": "LayoutView",
      "align_content": null,
      "align_items": null,
      "align_self": null,
      "border": null,
      "bottom": null,
      "display": null,
      "flex": null,
      "flex_flow": null,
      "grid_area": null,
      "grid_auto_columns": null,
      "grid_auto_flow": null,
      "grid_auto_rows": null,
      "grid_column": null,
      "grid_gap": null,
      "grid_row": null,
      "grid_template_areas": null,
      "grid_template_columns": null,
      "grid_template_rows": null,
      "height": null,
      "justify_content": null,
      "justify_items": null,
      "left": null,
      "margin": null,
      "max_height": null,
      "max_width": null,
      "min_height": null,
      "min_width": null,
      "object_fit": null,
      "object_position": null,
      "order": null,
      "overflow": null,
      "overflow_x": null,
      "overflow_y": null,
      "padding": null,
      "right": null,
      "top": null,
      "visibility": null,
      "width": null
     }
    },
    "2a88a7872a0941c498a3cf260b559177": {
     "model_module": "@jupyter-widgets/base",
     "model_module_version": "1.2.0",
     "model_name": "LayoutModel",
     "state": {
      "_model_module": "@jupyter-widgets/base",
      "_model_module_version": "1.2.0",
      "_model_name": "LayoutModel",
      "_view_count": null,
      "_view_module": "@jupyter-widgets/base",
      "_view_module_version": "1.2.0",
      "_view_name": "LayoutView",
      "align_content": null,
      "align_items": null,
      "align_self": null,
      "border": null,
      "bottom": null,
      "display": null,
      "flex": null,
      "flex_flow": null,
      "grid_area": null,
      "grid_auto_columns": null,
      "grid_auto_flow": null,
      "grid_auto_rows": null,
      "grid_column": null,
      "grid_gap": null,
      "grid_row": null,
      "grid_template_areas": null,
      "grid_template_columns": null,
      "grid_template_rows": null,
      "height": null,
      "justify_content": null,
      "justify_items": null,
      "left": null,
      "margin": null,
      "max_height": null,
      "max_width": null,
      "min_height": null,
      "min_width": null,
      "object_fit": null,
      "object_position": null,
      "order": null,
      "overflow": null,
      "overflow_x": null,
      "overflow_y": null,
      "padding": null,
      "right": null,
      "top": null,
      "visibility": null,
      "width": null
     }
    },
    "2ed025f53eeb4b04a66eab4a45cf419f": {
     "model_module": "@jupyter-widgets/controls",
     "model_module_version": "1.5.0",
     "model_name": "DescriptionStyleModel",
     "state": {
      "_model_module": "@jupyter-widgets/controls",
      "_model_module_version": "1.5.0",
      "_model_name": "DescriptionStyleModel",
      "_view_count": null,
      "_view_module": "@jupyter-widgets/base",
      "_view_module_version": "1.2.0",
      "_view_name": "StyleView",
      "description_width": ""
     }
    },
    "3587f70a049a47e1b344ce45039d527a": {
     "model_module": "@jupyter-widgets/controls",
     "model_module_version": "1.5.0",
     "model_name": "HTMLModel",
     "state": {
      "_dom_classes": [],
      "_model_module": "@jupyter-widgets/controls",
      "_model_module_version": "1.5.0",
      "_model_name": "HTMLModel",
      "_view_count": null,
      "_view_module": "@jupyter-widgets/controls",
      "_view_module_version": "1.5.0",
      "_view_name": "HTMLView",
      "description": "",
      "description_tooltip": null,
      "layout": "IPY_MODEL_21959f75a3a4472085d63d036fca70b2",
      "placeholder": "​",
      "style": "IPY_MODEL_b30be957a0994291b112cd066b758cb5",
      "value": "100%"
     }
    },
    "4c7a1d542761427791a841f9872d693f": {
     "model_module": "@jupyter-widgets/controls",
     "model_module_version": "1.5.0",
     "model_name": "HBoxModel",
     "state": {
      "_dom_classes": [],
      "_model_module": "@jupyter-widgets/controls",
      "_model_module_version": "1.5.0",
      "_model_name": "HBoxModel",
      "_view_count": null,
      "_view_module": "@jupyter-widgets/controls",
      "_view_module_version": "1.5.0",
      "_view_name": "HBoxView",
      "box_style": "",
      "children": [
       "IPY_MODEL_3587f70a049a47e1b344ce45039d527a",
       "IPY_MODEL_e72c50f12dda4c56b9dfc0fea87bc6a9",
       "IPY_MODEL_f1a4c2c8b3d94d0f821f0574b6434c85"
      ],
      "layout": "IPY_MODEL_d28eed3c3fab499686cb90629e65078f"
     }
    },
    "6e5efe2a9677426aa394c95d59889ada": {
     "model_module": "@jupyter-widgets/controls",
     "model_module_version": "1.5.0",
     "model_name": "HBoxModel",
     "state": {
      "_dom_classes": [],
      "_model_module": "@jupyter-widgets/controls",
      "_model_module_version": "1.5.0",
      "_model_name": "HBoxModel",
      "_view_count": null,
      "_view_module": "@jupyter-widgets/controls",
      "_view_module_version": "1.5.0",
      "_view_name": "HBoxView",
      "box_style": "",
      "children": [
       "IPY_MODEL_0bafe288788d46b58546f92a1c7f22bb",
       "IPY_MODEL_a6b67d5dd3694f0ca1052590934c4658",
       "IPY_MODEL_e58e3267d74341a8a096abb1f303266b"
      ],
      "layout": "IPY_MODEL_d286815aa05d4551a5f43dcf3f10e590"
     }
    },
    "9247d2b379c64cd3926e669ed3be60c5": {
     "model_module": "@jupyter-widgets/controls",
     "model_module_version": "1.5.0",
     "model_name": "DescriptionStyleModel",
     "state": {
      "_model_module": "@jupyter-widgets/controls",
      "_model_module_version": "1.5.0",
      "_model_name": "DescriptionStyleModel",
      "_view_count": null,
      "_view_module": "@jupyter-widgets/base",
      "_view_module_version": "1.2.0",
      "_view_name": "StyleView",
      "description_width": ""
     }
    },
    "940505c8262a4465aaaf109e8e2d5df8": {
     "model_module": "@jupyter-widgets/controls",
     "model_module_version": "1.5.0",
     "model_name": "ProgressStyleModel",
     "state": {
      "_model_module": "@jupyter-widgets/controls",
      "_model_module_version": "1.5.0",
      "_model_name": "ProgressStyleModel",
      "_view_count": null,
      "_view_module": "@jupyter-widgets/base",
      "_view_module_version": "1.2.0",
      "_view_name": "StyleView",
      "bar_color": null,
      "description_width": ""
     }
    },
    "a6b67d5dd3694f0ca1052590934c4658": {
     "model_module": "@jupyter-widgets/controls",
     "model_module_version": "1.5.0",
     "model_name": "FloatProgressModel",
     "state": {
      "_dom_classes": [],
      "_model_module": "@jupyter-widgets/controls",
      "_model_module_version": "1.5.0",
      "_model_name": "FloatProgressModel",
      "_view_count": null,
      "_view_module": "@jupyter-widgets/controls",
      "_view_module_version": "1.5.0",
      "_view_name": "ProgressView",
      "bar_style": "success",
      "description": "",
      "description_tooltip": null,
      "layout": "IPY_MODEL_112f5f8813a94ed1be9a827d81fc277a",
      "max": 244408911,
      "min": 0,
      "orientation": "horizontal",
      "style": "IPY_MODEL_fa2f89661fa34987869d15f910447e14",
      "value": 244408911
     }
    },
    "b30be957a0994291b112cd066b758cb5": {
     "model_module": "@jupyter-widgets/controls",
     "model_module_version": "1.5.0",
     "model_name": "DescriptionStyleModel",
     "state": {
      "_model_module": "@jupyter-widgets/controls",
      "_model_module_version": "1.5.0",
      "_model_name": "DescriptionStyleModel",
      "_view_count": null,
      "_view_module": "@jupyter-widgets/base",
      "_view_module_version": "1.2.0",
      "_view_name": "StyleView",
      "description_width": ""
     }
    },
    "c786c40315004074908af0247cbec3a4": {
     "model_module": "@jupyter-widgets/base",
     "model_module_version": "1.2.0",
     "model_name": "LayoutModel",
     "state": {
      "_model_module": "@jupyter-widgets/base",
      "_model_module_version": "1.2.0",
      "_model_name": "LayoutModel",
      "_view_count": null,
      "_view_module": "@jupyter-widgets/base",
      "_view_module_version": "1.2.0",
      "_view_name": "LayoutView",
      "align_content": null,
      "align_items": null,
      "align_self": null,
      "border": null,
      "bottom": null,
      "display": null,
      "flex": null,
      "flex_flow": null,
      "grid_area": null,
      "grid_auto_columns": null,
      "grid_auto_flow": null,
      "grid_auto_rows": null,
      "grid_column": null,
      "grid_gap": null,
      "grid_row": null,
      "grid_template_areas": null,
      "grid_template_columns": null,
      "grid_template_rows": null,
      "height": null,
      "justify_content": null,
      "justify_items": null,
      "left": null,
      "margin": null,
      "max_height": null,
      "max_width": null,
      "min_height": null,
      "min_width": null,
      "object_fit": null,
      "object_position": null,
      "order": null,
      "overflow": null,
      "overflow_x": null,
      "overflow_y": null,
      "padding": null,
      "right": null,
      "top": null,
      "visibility": null,
      "width": null
     }
    },
    "cf1bc2f7ae0f4bc281f2883b32e80a6c": {
     "model_module": "@jupyter-widgets/controls",
     "model_module_version": "1.5.0",
     "model_name": "DescriptionStyleModel",
     "state": {
      "_model_module": "@jupyter-widgets/controls",
      "_model_module_version": "1.5.0",
      "_model_name": "DescriptionStyleModel",
      "_view_count": null,
      "_view_module": "@jupyter-widgets/base",
      "_view_module_version": "1.2.0",
      "_view_name": "StyleView",
      "description_width": ""
     }
    },
    "d286815aa05d4551a5f43dcf3f10e590": {
     "model_module": "@jupyter-widgets/base",
     "model_module_version": "1.2.0",
     "model_name": "LayoutModel",
     "state": {
      "_model_module": "@jupyter-widgets/base",
      "_model_module_version": "1.2.0",
      "_model_name": "LayoutModel",
      "_view_count": null,
      "_view_module": "@jupyter-widgets/base",
      "_view_module_version": "1.2.0",
      "_view_name": "LayoutView",
      "align_content": null,
      "align_items": null,
      "align_self": null,
      "border": null,
      "bottom": null,
      "display": null,
      "flex": null,
      "flex_flow": null,
      "grid_area": null,
      "grid_auto_columns": null,
      "grid_auto_flow": null,
      "grid_auto_rows": null,
      "grid_column": null,
      "grid_gap": null,
      "grid_row": null,
      "grid_template_areas": null,
      "grid_template_columns": null,
      "grid_template_rows": null,
      "height": null,
      "justify_content": null,
      "justify_items": null,
      "left": null,
      "margin": null,
      "max_height": null,
      "max_width": null,
      "min_height": null,
      "min_width": null,
      "object_fit": null,
      "object_position": null,
      "order": null,
      "overflow": null,
      "overflow_x": null,
      "overflow_y": null,
      "padding": null,
      "right": null,
      "top": null,
      "visibility": null,
      "width": null
     }
    },
    "d28eed3c3fab499686cb90629e65078f": {
     "model_module": "@jupyter-widgets/base",
     "model_module_version": "1.2.0",
     "model_name": "LayoutModel",
     "state": {
      "_model_module": "@jupyter-widgets/base",
      "_model_module_version": "1.2.0",
      "_model_name": "LayoutModel",
      "_view_count": null,
      "_view_module": "@jupyter-widgets/base",
      "_view_module_version": "1.2.0",
      "_view_name": "LayoutView",
      "align_content": null,
      "align_items": null,
      "align_self": null,
      "border": null,
      "bottom": null,
      "display": null,
      "flex": null,
      "flex_flow": null,
      "grid_area": null,
      "grid_auto_columns": null,
      "grid_auto_flow": null,
      "grid_auto_rows": null,
      "grid_column": null,
      "grid_gap": null,
      "grid_row": null,
      "grid_template_areas": null,
      "grid_template_columns": null,
      "grid_template_rows": null,
      "height": null,
      "justify_content": null,
      "justify_items": null,
      "left": null,
      "margin": null,
      "max_height": null,
      "max_width": null,
      "min_height": null,
      "min_width": null,
      "object_fit": null,
      "object_position": null,
      "order": null,
      "overflow": null,
      "overflow_x": null,
      "overflow_y": null,
      "padding": null,
      "right": null,
      "top": null,
      "visibility": null,
      "width": null
     }
    },
    "e58e3267d74341a8a096abb1f303266b": {
     "model_module": "@jupyter-widgets/controls",
     "model_module_version": "1.5.0",
     "model_name": "HTMLModel",
     "state": {
      "_dom_classes": [],
      "_model_module": "@jupyter-widgets/controls",
      "_model_module_version": "1.5.0",
      "_model_name": "HTMLModel",
      "_view_count": null,
      "_view_module": "@jupyter-widgets/controls",
      "_view_module_version": "1.5.0",
      "_view_name": "HTMLView",
      "description": "",
      "description_tooltip": null,
      "layout": "IPY_MODEL_c786c40315004074908af0247cbec3a4",
      "placeholder": "​",
      "style": "IPY_MODEL_2ed025f53eeb4b04a66eab4a45cf419f",
      "value": " 233M/233M [00:02&lt;00:00, 78.5MB/s]"
     }
    },
    "e72c50f12dda4c56b9dfc0fea87bc6a9": {
     "model_module": "@jupyter-widgets/controls",
     "model_module_version": "1.5.0",
     "model_name": "FloatProgressModel",
     "state": {
      "_dom_classes": [],
      "_model_module": "@jupyter-widgets/controls",
      "_model_module_version": "1.5.0",
      "_model_name": "FloatProgressModel",
      "_view_count": null,
      "_view_module": "@jupyter-widgets/controls",
      "_view_module_version": "1.5.0",
      "_view_name": "ProgressView",
      "bar_style": "success",
      "description": "",
      "description_tooltip": null,
      "layout": "IPY_MODEL_2a88a7872a0941c498a3cf260b559177",
      "max": 102530333,
      "min": 0,
      "orientation": "horizontal",
      "style": "IPY_MODEL_940505c8262a4465aaaf109e8e2d5df8",
      "value": 102530333
     }
    },
    "f1a4c2c8b3d94d0f821f0574b6434c85": {
     "model_module": "@jupyter-widgets/controls",
     "model_module_version": "1.5.0",
     "model_name": "HTMLModel",
     "state": {
      "_dom_classes": [],
      "_model_module": "@jupyter-widgets/controls",
      "_model_module_version": "1.5.0",
      "_model_name": "HTMLModel",
      "_view_count": null,
      "_view_module": "@jupyter-widgets/controls",
      "_view_module_version": "1.5.0",
      "_view_name": "HTMLView",
      "description": "",
      "description_tooltip": null,
      "layout": "IPY_MODEL_f432fb8b5cc54077911006ffe0b5bf12",
      "placeholder": "​",
      "style": "IPY_MODEL_9247d2b379c64cd3926e669ed3be60c5",
      "value": " 97.8M/97.8M [00:00&lt;00:00, 140MB/s]"
     }
    },
    "f432fb8b5cc54077911006ffe0b5bf12": {
     "model_module": "@jupyter-widgets/base",
     "model_module_version": "1.2.0",
     "model_name": "LayoutModel",
     "state": {
      "_model_module": "@jupyter-widgets/base",
      "_model_module_version": "1.2.0",
      "_model_name": "LayoutModel",
      "_view_count": null,
      "_view_module": "@jupyter-widgets/base",
      "_view_module_version": "1.2.0",
      "_view_name": "LayoutView",
      "align_content": null,
      "align_items": null,
      "align_self": null,
      "border": null,
      "bottom": null,
      "display": null,
      "flex": null,
      "flex_flow": null,
      "grid_area": null,
      "grid_auto_columns": null,
      "grid_auto_flow": null,
      "grid_auto_rows": null,
      "grid_column": null,
      "grid_gap": null,
      "grid_row": null,
      "grid_template_areas": null,
      "grid_template_columns": null,
      "grid_template_rows": null,
      "height": null,
      "justify_content": null,
      "justify_items": null,
      "left": null,
      "margin": null,
      "max_height": null,
      "max_width": null,
      "min_height": null,
      "min_width": null,
      "object_fit": null,
      "object_position": null,
      "order": null,
      "overflow": null,
      "overflow_x": null,
      "overflow_y": null,
      "padding": null,
      "right": null,
      "top": null,
      "visibility": null,
      "width": null
     }
    },
    "fa2f89661fa34987869d15f910447e14": {
     "model_module": "@jupyter-widgets/controls",
     "model_module_version": "1.5.0",
     "model_name": "ProgressStyleModel",
     "state": {
      "_model_module": "@jupyter-widgets/controls",
      "_model_module_version": "1.5.0",
      "_model_name": "ProgressStyleModel",
      "_view_count": null,
      "_view_module": "@jupyter-widgets/base",
      "_view_module_version": "1.2.0",
      "_view_name": "StyleView",
      "bar_color": null,
      "description_width": ""
     }
    }
   }
  }
 },
 "nbformat": 4,
 "nbformat_minor": 5
}
