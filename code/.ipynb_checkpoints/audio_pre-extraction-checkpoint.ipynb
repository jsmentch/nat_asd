{
 "cells": [
  {
   "cell_type": "code",
   "execution_count": 1,
   "id": "b25a0250",
   "metadata": {},
   "outputs": [],
   "source": [
    "import librosa\n",
    "import soundfile\n",
    "import numpy as np\n"
   ]
  },
  {
   "cell_type": "code",
   "execution_count": 3,
   "id": "f5a65ec3-1bc2-495c-9d50-17a1df26bdbf",
   "metadata": {},
   "outputs": [],
   "source": [
    "#can use net2brain env\n",
    "#first turn the mp4s into .wavs for convenience"
   ]
  },
  {
   "cell_type": "code",
   "execution_count": 30,
   "id": "61680388-708c-4e56-a28c-c639adb62e62",
   "metadata": {},
   "outputs": [],
   "source": [
    "stim='TP'\n",
    "\n",
    "audio_data, sr = librosa.load(f'../data/{stim}.wav', sr=20000)\n",
    "clip_length = 2.0  # length of each clip in seconds\n",
    "step_size = 0.8  # step size in seconds (the HBN fMRI TR)\n",
    "\n",
    "# Calculate the number of samples for clip length and step size\n",
    "clip_samples = int(clip_length * sr)\n",
    "step_samples = int(step_size * sr)\n",
    "\n",
    "# Number of clips\n",
    "num_clips = int((len(audio_data) - clip_samples) / step_samples) + 1\n",
    "\n",
    "\n",
    "for i in range(num_clips):\n",
    "    start_sample = i * step_samples\n",
    "    end_sample = start_sample + clip_samples\n",
    "\n",
    "    # Extract clip\n",
    "    clip = audio_data[start_sample:end_sample]\n",
    "\n",
    "    # Save clip as .wav file\n",
    "    #librosa.write_wav(f'../../data/{stim}_clips/clip_{i:04d}.wav', clip, sr)\n",
    "    soundfile.write(f'../data/{stim}_clips/clip_{i:04d}.wav', clip, sr)"
   ]
  },
  {
   "cell_type": "code",
   "execution_count": null,
   "id": "83f33c2a",
   "metadata": {},
   "outputs": [],
   "source": [
    "\n"
   ]
  },
  {
   "cell_type": "code",
   "execution_count": null,
   "id": "1be18ffc-75de-434b-a0af-4cc8d20c8d4c",
   "metadata": {},
   "outputs": [],
   "source": []
  }
 ],
 "metadata": {
  "kernelspec": {
   "display_name": "Python 3",
   "language": "python",
   "name": "python3"
  },
  "language_info": {
   "codemirror_mode": {
    "name": "ipython",
    "version": 3
   },
   "file_extension": ".py",
   "mimetype": "text/x-python",
   "name": "python",
   "nbconvert_exporter": "python",
   "pygments_lexer": "ipython3",
   "version": "3.9.18"
  }
 },
 "nbformat": 4,
 "nbformat_minor": 5
}
