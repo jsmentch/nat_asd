{
 "cells": [
  {
   "cell_type": "markdown",
   "id": "7a72642b-c291-492e-9b6d-bbf3ede7c667",
   "metadata": {},
   "source": [
    "# run pilot encoding models to set parameters of pre-registrations"
   ]
  },
  {
   "cell_type": "code",
   "execution_count": 1,
   "id": "18089d7a-c9ba-4528-81a0-b59b10de8a4e",
   "metadata": {},
   "outputs": [],
   "source": [
    "# use hbn_asd conda env"
   ]
  },
  {
   "cell_type": "code",
   "execution_count": 7,
   "id": "e222aae9-9c5e-4f5e-b161-b53420481b94",
   "metadata": {},
   "outputs": [],
   "source": [
    "import pandas as pd\n",
    "import nibabel as nb\n",
    "import os\n",
    "import numpy as np\n",
    "import glob\n",
    "import h5py\n",
    "import hcp_utils as hcp\n",
    "from sklearn.random_projection import SparseRandomProjection\n",
    "#pd.set_option('display.max_rows', None)"
   ]
  },
  {
   "cell_type": "code",
   "execution_count": null,
   "id": "fa0e2aee-c12e-4cb0-8846-4b67dc729537",
   "metadata": {},
   "outputs": [],
   "source": [
    "#load parcel info\n",
    "atlas=pd.read_csv('/om2/user/jsmentch/atlases/atlas-Glasser/atlas-Glasser_dseg.tsv', sep='\\t')\n",
    "print(atlas['label'])"
   ]
  },
  {
   "cell_type": "code",
   "execution_count": 91,
   "id": "57f4a03e-d125-4663-9173-b1162ca26253",
   "metadata": {},
   "outputs": [],
   "source": [
    "#get my parcels of interest\n",
    "parcels=[\n",
    "    'V1',\n",
    "    'V2',\n",
    "    'V3',\n",
    "    'V4',\n",
    "    'MT',\n",
    "    'MST',\n",
    "    'V4t',\n",
    "    'FST',\n",
    "    'FFC',\n",
    "    'V8',\n",
    "    'PIT',\n",
    "    'VVC',\n",
    "    'VMV1',\n",
    "    'VMV2',\n",
    "    'VMV3',\n",
    "    'V3A',\n",
    "    'V3B',\n",
    "    'V6',\n",
    "    'V6A',\n",
    "    'V7',\n",
    "    'IPS1',\n",
    "    'IFSa',\n",
    "    'IFSp',\n",
    "    'IFJa',\n",
    "    'IFJp',\n",
    "    'FEF',\n",
    "    'STSvp',\n",
    "    'STSdp',\n",
    "    'STSva',\n",
    "    'STSda',\n",
    "    'STGa',\n",
    "    'STV',\n",
    "    'TPOJ1',\n",
    "    'TPOJ2',\n",
    "    'TPOJ3',\n",
    "    'A1',\n",
    "    'LBelt',\n",
    "    'MBelt',\n",
    "    'PBelt',\n",
    "    'A4',\n",
    "    'TA2',\n",
    "    'A5']\n",
    "\n",
    "\n",
    "#auditory parcels\n",
    "parcels=[\n",
    "    'STSvp',\n",
    "    'STSdp',\n",
    "    'STSva',\n",
    "    'STSda',\n",
    "    'STGa',\n",
    "    'STV',\n",
    "    'TPOJ1',\n",
    "    'TPOJ2',\n",
    "    'TPOJ3',\n",
    "    'A1',\n",
    "    'LBelt',\n",
    "    'MBelt',\n",
    "    'PBelt',\n",
    "    'A4',\n",
    "    'TA2',\n",
    "    'A5']\n",
    "# 'early' auditory parcels\n",
    "parcels=[\n",
    "    'A1',\n",
    "    'LBelt',\n",
    "    'MBelt',\n",
    "    'PBelt',\n",
    "    'A4',\n",
    "    'TA2',\n",
    "    'A5']\n",
    "patternR = '|'.join(['Right_' + parcel for parcel in parcels])\n",
    "patternL = '|'.join(['Left_' + parcel for parcel in parcels])\n",
    "\n",
    "# get a boolean series where True indicates a match\n",
    "matches = atlas['label'].str.contains(patternR) | atlas['label'].str.contains(patternL)\n",
    "\n",
    "# get the indices that match\n",
    "indices = matches[matches].index.tolist()\n"
   ]
  },
  {
   "cell_type": "code",
   "execution_count": 92,
   "id": "b4334484-394f-4914-aa61-54dbb7fc097f",
   "metadata": {},
   "outputs": [],
   "source": [
    "delay=5"
   ]
  },
  {
   "cell_type": "markdown",
   "id": "8a2a8b1e-7a1c-490b-b5f8-fcfb9780065d",
   "metadata": {},
   "source": [
    "### load fmri data"
   ]
  },
  {
   "cell_type": "code",
   "execution_count": 93,
   "id": "b37d492a-94cf-4df3-a8b3-b37ac1adb6a2",
   "metadata": {},
   "outputs": [
    {
     "data": {
      "text/plain": [
       "(744, 14)"
      ]
     },
     "execution_count": 93,
     "metadata": {},
     "output_type": "execute_result"
    }
   ],
   "source": [
    "pilot_subjects=pd.read_csv('../data/pilots_ru_dm.csv') # load pilot subjects\n",
    "sub=pilot_subjects['Identifiers_y'].iloc[1] #get first subject\n",
    "\n",
    "# load fmri data for a subject\n",
    "im_file = '/nese/mit/group/sig/projects/hbn/hbn_bids/derivatives/xcp_d_0.7.1/sub-NDARRP163YRC/ses-HBNsiteRU/func/sub-NDARRP163YRC_ses-HBNsiteRU_task-movieDM_space-fsLR_seg-Glasser_den-91k_stat-mean_timeseries.ptseries.nii'\n",
    "img = nb.load(im_file)\n",
    "img_y = img.get_fdata()\n",
    "Y=img_y[1+delay:,indices]\n",
    "Y.shape\n",
    "# Y_train=Y[:600,:]\n",
    "# Y_test=Y[600:,:]"
   ]
  },
  {
   "cell_type": "markdown",
   "id": "c3c8eb95-e88e-49e3-a1b0-74be84b5ebcf",
   "metadata": {},
   "source": [
    "load audio features"
   ]
  },
  {
   "cell_type": "code",
   "execution_count": 94,
   "id": "0ef9a3e3-1dbf-44bb-85a6-36fb9334f76f",
   "metadata": {},
   "outputs": [],
   "source": [
    "# all_layers=['input_after_preproc',\n",
    "#  'conv1',\n",
    "#  'bn1',\n",
    "#  'conv1_relu1',\n",
    "#  'maxpool1',\n",
    "#  'layer1',\n",
    "#  'layer2',\n",
    "#  'layer3',\n",
    "#  'layer4',\n",
    "#  'avgpool',\n",
    "#  'final/signal/word_int',\n",
    "#  'final/signal/speaker_int',\n",
    "#  'final/noise/labels_binary_via_int']\n",
    "#my layers of interst\n",
    "all_layers=['input_after_preproc',\n",
    " 'conv1_relu1',\n",
    " 'maxpool1',\n",
    " 'layer1',\n",
    " 'layer2',\n",
    " 'layer3',\n",
    " 'layer4',\n",
    " 'avgpool']\n",
    "\n",
    "#dimensionality reduction to 50 components\n",
    "transformer = SparseRandomProjection(n_components=50)\n",
    "\n",
    "stim='DM'\n",
    "save_features_dir = f'../data/{stim}_clips_cochresnet50/'\n",
    "\n",
    "X=[]\n",
    "X_train=[]\n",
    "X_test=[]\n",
    "#print('CochResNet50 time-averaged')\n",
    "# Open the file 'myfile.h5' in read-only mode\n",
    "file = h5py.File(f'{save_features_dir}cochresnet50_activations.h5', 'r')\n",
    "for layer in all_layers:\n",
    "# # Now you can access datasets within the file\n",
    "    data = file[layer]\n",
    "    #print(data.shape, layer)\n",
    "    X.append(  transformer.fit_transform(  np.array(data)[:(-1*delay),:]  )  )\n",
    "    # X_train.append(np.array(data)[:600,:])\n",
    "    # X_test.append(np.array(data)[600:,:])\n",
    "\n",
    "# # Don't forget to close the file when you're done\n",
    "file.close()"
   ]
  },
  {
   "cell_type": "code",
   "execution_count": 95,
   "id": "54d8a289-dd3b-4ed7-93b7-c713f5d9e7a5",
   "metadata": {},
   "outputs": [],
   "source": [
    "import numpy as np\n",
    "from stacking_fmri import stacking_CV_fmri, stacking_fmri\n",
    "from ridge_tools import R2\n",
    "import matplotlib.pyplot as plt\n",
    "import seaborn as sns"
   ]
  },
  {
   "cell_type": "code",
   "execution_count": 96,
   "id": "d80d5895-35a5-443c-9ef8-77c88ef9ad71",
   "metadata": {},
   "outputs": [],
   "source": [
    "#timepoint n=50, first 2 layers only, 2 fold CV \n",
    "#was still not done in 1 hour"
   ]
  },
  {
   "cell_type": "code",
   "execution_count": 97,
   "id": "1ee7f751-b50e-4676-98b2-f2d1dd4d4f1d",
   "metadata": {},
   "outputs": [
    {
     "name": "stdout",
     "output_type": "stream",
     "text": [
      "9.563257932662964\n"
     ]
    }
   ],
   "source": [
    "### Run stacking using multiple features (Xs) and Y\n",
    "\n",
    "import time\n",
    "start_time = time.time()\n",
    "## with the outermost cross-validation\n",
    "r2s, stacked_r2s, _, _, _, S_average = stacking_CV_fmri(Y, X, method = 'cross_val_ridge',n_folds = 5,score_f=R2)\n",
    "\n",
    "print(time.time() - start_time)\n",
    "## simple train-test setting (without the outermost cross-validation)\n",
    "# r2s, stacked_r2s, _, _, _, S_average = stacking_fmri(Y[0:700], Y[700:], [X1[0:700],X2[0:700],X3[0:700]], [X1[700:],X2[700:],X3[700:]], method = 'cross_val_ridge',score_f=R2)"
   ]
  },
  {
   "cell_type": "code",
   "execution_count": 98,
   "id": "f085acb6-e813-48eb-a337-644536fea02b",
   "metadata": {},
   "outputs": [
    {
     "name": "stdout",
     "output_type": "stream",
     "text": [
      "shape of r2s is (number of features, dim_Y), that is (8, 14)\n",
      "shape of stacked_r2s is (dim_Y, ), that is (14,)\n",
      "shape of S_average is (dim_Y, num of features), that is (14, 8)\n"
     ]
    }
   ],
   "source": [
    "### Results\n",
    "\n",
    "## r2s: voxelwise R2(predictions using only one feature, data)\n",
    "print('shape of r2s is (number of features, dim_Y), that is', r2s.shape)\n",
    "\n",
    "## stacked_r2s: voxelwise R2(stacking predictions using all features, data)\n",
    "print('shape of stacked_r2s is (dim_Y, ), that is', stacked_r2s.shape)\n",
    "\n",
    "## S_average: optimzed voxelwise stacking weights showing how different features are combined\n",
    "print('shape of S_average is (dim_Y, num of features), that is', S_average.shape)\n",
    "\n"
   ]
  },
  {
   "cell_type": "code",
   "execution_count": null,
   "id": "1caa26c8-4adf-42f6-8c3d-71166674cb0c",
   "metadata": {},
   "outputs": [],
   "source": []
  },
  {
   "cell_type": "code",
   "execution_count": 99,
   "id": "a29e45e1-2382-42eb-9526-7774ef64d375",
   "metadata": {},
   "outputs": [],
   "source": [
    "ind = np.where(r2s > 0.01)\n",
    "for i in range(len(ind[0])):\n",
    "    row = ind[0][i]\n",
    "    col = ind[1][i]\n",
    "    #print(f\"Positive value found at row {row}, column {col}\")\n",
    "    #print(f'layer {row+1}', atlas.iloc[col]['label'], r2s[row,col])"
   ]
  },
  {
   "cell_type": "code",
   "execution_count": null,
   "id": "65b3d139-a730-4fae-9c63-ee063a2c6a63",
   "metadata": {},
   "outputs": [],
   "source": []
  },
  {
   "cell_type": "code",
   "execution_count": 103,
   "id": "48e08ab6-f438-4646-a684-2b18d84cfce8",
   "metadata": {},
   "outputs": [
    {
     "data": {
      "text/plain": [
       "Text(0.5, 1.0, 'Prediction Performance')"
      ]
     },
     "execution_count": 103,
     "metadata": {},
     "output_type": "execute_result"
    },
    {
     "data": {
      "image/png": "[encoded data removed]",
      "text/plain": [
       "<Figure size 2000x1000 with 1 Axes>"
      ]
     },
     "metadata": {},
     "output_type": "display_data"
    }
   ],
   "source": [
    "dim_Y=len(indices)\n",
    "\n",
    "dim_layers=r2s.shape[0]\n",
    "\n",
    "plt.figure(figsize=(20,10))\n",
    "\n",
    "bar_width = 0.1\n",
    "index_0 = np.arange(dim_Y)\n",
    "# index_1 = index_0 + bar_width\n",
    "# index_2 = index_1 + bar_width\n",
    "# index_3 = index_2 + bar_width\n",
    "\n",
    "\n",
    "plt.bar(index_0, stacked_r2s, width=bar_width, label='Stacked')\n",
    "for i in np.arange(dim_layers):\n",
    "    plt.bar(index_0+((i+1)*bar_width), r2s[i,:], width=bar_width, label=f'{i+1}')\n",
    "\n",
    "# plt.bar(index_1, r2s[0,:], width=bar_width, label='X1')\n",
    "# plt.bar(index_2, r2s[1,:], width=bar_width, label='X2')\n",
    "# plt.bar(index_3, r2s[2,:], width=bar_width, label='X3')\n",
    "plt.legend()\n",
    "plt.xlabel('Voxel ID')\n",
    "plt.ylabel('R2')\n",
    "plt.title('Prediction Performance')"
   ]
  },
  {
   "cell_type": "code",
   "execution_count": null,
   "id": "c892fe7e-9940-43b7-93e7-b13cd5d85dfc",
   "metadata": {},
   "outputs": [],
   "source": []
  },
  {
   "cell_type": "code",
   "execution_count": null,
   "id": "53b7ea51-1efa-496b-aa57-e009bb130bae",
   "metadata": {},
   "outputs": [],
   "source": []
  }
 ],
 "metadata": {
  "kernelspec": {
   "display_name": "Python 3 (ipykernel)",
   "language": "python",
   "name": "python3"
  },
  "language_info": {
   "codemirror_mode": {
    "name": "ipython",
    "version": 3
   },
   "file_extension": ".py",
   "mimetype": "text/x-python",
   "name": "python",
   "nbconvert_exporter": "python",
   "pygments_lexer": "ipython3",
   "version": "3.11.9"
  }
 },
 "nbformat": 4,
 "nbformat_minor": 5
}
