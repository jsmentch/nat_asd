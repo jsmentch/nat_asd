{
 "cells": [
  {
   "cell_type": "markdown",
   "id": "7a72642b-c291-492e-9b6d-bbf3ede7c667",
   "metadata": {},
   "source": [
    "# run pilot encoding models to set parameters of pre-registrations"
   ]
  },
  {
   "cell_type": "code",
   "execution_count": 1,
   "id": "18089d7a-c9ba-4528-81a0-b59b10de8a4e",
   "metadata": {},
   "outputs": [],
   "source": [
    "# use hbn_asd conda env"
   ]
  },
  {
   "cell_type": "code",
   "execution_count": 16,
   "id": "e222aae9-9c5e-4f5e-b161-b53420481b94",
   "metadata": {},
   "outputs": [],
   "source": [
    "import pandas as pd\n",
    "import nibabel as nb"
   ]
  },
  {
   "cell_type": "code",
   "execution_count": 17,
   "id": "b37d492a-94cf-4df3-a8b3-b37ac1adb6a2",
   "metadata": {},
   "outputs": [],
   "source": [
    "pilot_subjects=pd.read_csv('../data/pilots_ru_dm.csv') # load pilot subjects\n",
    "sub=pilot_subjects['Identifiers_y'].iloc[0] #get first subject\n",
    "\n",
    "# load fmri data for a subject\n",
    "im_file = '/nese/mit/group/sig/projects/hbn/hbn_bids/derivatives/xcp_d_0.7.1/sub-NDARRP163YRC/ses-HBNsiteRU/func/sub-NDARRP163YRC_ses-HBNsiteRU_task-movieDM_space-fsLR_seg-Glasser_den-91k_stat-mean_timeseries.ptseries.nii'\n",
    "img = nb.load(im_file)\n",
    "img_y = img.get_fdata()"
   ]
  },
  {
   "cell_type": "code",
   "execution_count": 18,
   "id": "a0121ca0-7196-485c-9963-1c230359c17c",
   "metadata": {},
   "outputs": [
    {
     "data": {
      "text/plain": [
       "(750, 360)"
      ]
     },
     "execution_count": 18,
     "metadata": {},
     "output_type": "execute_result"
    }
   ],
   "source": [
    "img_y.shape"
   ]
  },
  {
   "cell_type": "code",
   "execution_count": 14,
   "id": "8a98ef63-80f1-425b-9995-3de72591175d",
   "metadata": {},
   "outputs": [
    {
     "data": {
      "text/plain": [
       "'NDARRP163YRC'"
      ]
     },
     "execution_count": 14,
     "metadata": {},
     "output_type": "execute_result"
    }
   ],
   "source": [
    "pilot_subjects['Identifiers_y'].iloc[1]"
   ]
  },
  {
   "cell_type": "code",
   "execution_count": 4,
   "id": "87eeadfb-d50e-425a-821a-5ffa4633fc65",
   "metadata": {},
   "outputs": [
    {
     "name": "stdout",
     "output_type": "stream",
     "text": [
      "R2 scores for each feature and voxel:\n",
      "[[1.01920011 1.01920011 1.01920011 ... 1.01920011 1.01920011 1.01920011]\n",
      " [1.0164637  1.0164637  1.0164637  ... 1.0164637  1.0164637  1.0164637 ]\n",
      " [1.01560617 1.01560617 1.01560617 ... 1.01560617 1.01560617 1.01560617]\n",
      " [1.01585416 1.01585416 1.01585416 ... 1.01585416 1.01585416 1.01585416]\n",
      " [1.01794098 1.01794098 1.01794098 ... 1.01794098 1.01794098 1.01794098]]\n",
      "\n",
      "Weighted R2 scores for each feature and voxel:\n",
      "[[1.00731412 1.00731412 1.00731412 ... 1.00731412 1.00731412 1.00731412]\n",
      " [1.00614343 1.00614343 1.00614343 ... 1.00614343 1.00614343 1.00614343]\n",
      " [1.00537235 1.00537235 1.00537235 ... 1.00537235 1.00537235 1.00537235]\n",
      " [1.00651837 1.00651837 1.00651837 ... 1.00651837 1.00651837 1.00651837]\n",
      " [1.00639313 1.00639313 1.00639313 ... 1.00639313 1.00639313 1.00639313]]\n",
      "\n",
      "Unweighted R2 scores for the stacked predictions:\n",
      "1.031791800248927\n",
      "\n",
      "Stacking weights:\n",
      "[[5.02998876e-01 1.77285006e-06 1.14902319e-07 4.96998300e-01\n",
      "  9.35504955e-07]\n",
      " [7.81115314e-05 9.99885637e-01 2.54264914e-06 2.09971352e-05\n",
      "  1.27113533e-05]\n",
      " [2.86541620e-05 2.60305862e-07 9.99913777e-01 2.86543220e-05\n",
      "  2.86542389e-05]\n",
      " ...\n",
      " [1.21851315e-05 5.18058387e-05 1.91023570e-06 5.02810093e-01\n",
      "  4.97124006e-01]\n",
      " [9.76698630e-07 9.99986816e-01 8.81318842e-06 1.66787997e-06\n",
      "  1.72666045e-06]\n",
      " [6.16624768e-01 3.83347568e-01 2.64853510e-05 5.32600741e-07\n",
      "  6.46034421e-07]]\n"
     ]
    }
   ],
   "source": [
    "from stacking_fmri import stacking_fmri\n",
    "from sklearn.datasets import make_regression\n",
    "from sklearn.metrics import mean_squared_error\n",
    "\n",
    "\n",
    "# Generate synthetic data\n",
    "X_train, y_train = make_regression(n_samples=50, n_features=1000, random_state=42)\n",
    "X_test, y_test = make_regression(n_samples=50, n_features=1000, random_state=43)\n",
    "\n",
    "# Generate random feature spaces\n",
    "n_features = 5\n",
    "train_features = [np.random.randn(X_train.shape[0], 10) for _ in range(n_features)]\n",
    "test_features = [np.random.randn(X_test.shape[0], 10) for _ in range(n_features)]\n",
    "\n",
    "# Train and test the model\n",
    "(\n",
    "    r2s,\n",
    "    stacked_r2s,\n",
    "    r2s_weighted,\n",
    "    r2s_train,\n",
    "    stacked_train_r2s,\n",
    "    S,\n",
    ") = stacking_fmri(\n",
    "    X_train,\n",
    "    X_test,\n",
    "    train_features,\n",
    "    test_features,\n",
    "    method=\"cross_val_ridge\",\n",
    "    score_f=mean_squared_error,\n",
    ")\n",
    "\n",
    "print(\"R2 scores for each feature and voxel:\")\n",
    "print(r2s)\n",
    "print(\"\\nWeighted R2 scores for each feature and voxel:\")\n",
    "print(r2s_weighted)\n",
    "print(\"\\nUnweighted R2 scores for the stacked predictions:\")\n",
    "print(stacked_r2s)\n",
    "print(\"\\nStacking weights:\")\n",
    "print(S)"
   ]
  },
  {
   "cell_type": "code",
   "execution_count": null,
   "id": "2bf4e14b-e7bb-4e7c-87ac-3ddeec246b8e",
   "metadata": {},
   "outputs": [],
   "source": []
  }
 ],
 "metadata": {
  "kernelspec": {
   "display_name": "Python 3 (ipykernel)",
   "language": "python",
   "name": "python3"
  },
  "language_info": {
   "codemirror_mode": {
    "name": "ipython",
    "version": 3
   },
   "file_extension": ".py",
   "mimetype": "text/x-python",
   "name": "python",
   "nbconvert_exporter": "python",
   "pygments_lexer": "ipython3",
   "version": "3.11.9"
  }
 },
 "nbformat": 4,
 "nbformat_minor": 5
}
