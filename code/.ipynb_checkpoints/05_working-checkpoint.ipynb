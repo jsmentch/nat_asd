{
 "cells": [
  {
   "cell_type": "code",
   "execution_count": 1,
   "id": "caa4248c-4410-4244-bd6c-5f00d6216900",
   "metadata": {},
   "outputs": [
    {
     "data": {
      "text/plain": [
       "['NDARWW005GCU',\n",
       " 'NDARLA226ADX',\n",
       " 'NDARYL124VM6',\n",
       " 'NDAREM731BYM',\n",
       " 'NDARHJ830RXD',\n",
       " 'NDARJZ679KXJ',\n",
       " 'NDARZK732FZ0',\n",
       " 'NDARVB897AH1',\n",
       " 'NDARLV252DY2',\n",
       " 'NDARJM828PAL',\n",
       " 'NDARRB942UWU',\n",
       " 'NDARFA402LMW',\n",
       " 'NDARRB359CRR',\n",
       " 'NDARDU853XZ6',\n",
       " 'NDARUX340FYC',\n",
       " 'NDARNP423EJQ',\n",
       " 'NDARJG687YYX',\n",
       " 'NDARPV009TYX',\n",
       " 'NDARRM073JKA',\n",
       " 'NDARTG937LDA',\n",
       " 'NDARHJ034LDM',\n",
       " 'NDARUT018UYN',\n",
       " 'NDARYA379LKT',\n",
       " 'NDARVD194JX2',\n",
       " 'NDARVR601FUT',\n",
       " 'NDARUL694GYN']"
      ]
     },
     "execution_count": 1,
     "metadata": {},
     "output_type": "execute_result"
    }
   ],
   "source": [
    "with open('pilots_ru_dm_list.txt', 'r') as f:\n",
    "    subjects = f.readlines()\n",
    "subjects = [line.strip() for line in subjects]\n",
    "\n",
    "\n",
    "#subjects=nat_asd_utils.get_subject_list()\n",
    "subjects"
   ]
  },
  {
   "cell_type": "code",
   "execution_count": 2,
   "id": "d357a541-43a2-4aaf-9acb-4037700374be",
   "metadata": {},
   "outputs": [
    {
     "data": {
      "text/plain": [
       "'NDARHJ830RXD'"
      ]
     },
     "execution_count": 2,
     "metadata": {},
     "output_type": "execute_result"
    }
   ],
   "source": [
    "sub=subjects[4]\n",
    "sub"
   ]
  },
  {
   "cell_type": "code",
   "execution_count": 5,
   "id": "f5214076-4a17-400d-91cf-c68622f176dd",
   "metadata": {},
   "outputs": [
    {
     "name": "stdout",
     "output_type": "stream",
     "text": [
      "loading features 2 PCA components\n",
      "178.98321413993835\n",
      "0.03130079996343237\n"
     ]
    }
   ],
   "source": [
    "import pandas as pd\n",
    "import nibabel as nb\n",
    "import os\n",
    "import numpy as np\n",
    "import glob\n",
    "import h5py\n",
    "import hcp_utils as hcp\n",
    "from sklearn.random_projection import SparseRandomProjection\n",
    "from sklearn.decomposition import PCA\n",
    "\n",
    "import numpy as np\n",
    "from stacking_fmri import stacking_CV_fmri, stacking_fmri\n",
    "from ridge_tools import R2\n",
    "import matplotlib.pyplot as plt\n",
    "import seaborn as sns\n",
    "\n",
    "import time\n",
    "import nat_asd_utils\n",
    "\n",
    "#for repetitions in np.arange(10):\n",
    "#for n_components in [1,2,3,4,5,10,15,20,30,50]:\n",
    "n_components=2\n",
    "delay=6\n",
    "atlas,atlas_data=nat_asd_utils.load_glasser()\n",
    "\n",
    "# parcels=[\n",
    "#     'A1',\n",
    "#     'LBelt',\n",
    "#     'MBelt',\n",
    "#     'PBelt',\n",
    "#     'A4',\n",
    "#     'TA2',\n",
    "#     'A5']\n",
    "# parcels=[\n",
    "    \n",
    "# 'V1',\n",
    "# 'V2',\n",
    "# 'V3',\n",
    "# 'V4',\n",
    "# 'MT']\n",
    "\n",
    "parcels=[\n",
    "    'STSvp',\n",
    "    'STSdp',\n",
    "    'STSva',\n",
    "    'STSda',\n",
    "    'STGa',\n",
    "    'STV',\n",
    "    'TPOJ1',\n",
    "    'TPOJ2',\n",
    "    'TPOJ3',\n",
    "    'A1',\n",
    "    'LBelt',\n",
    "    'MBelt',\n",
    "    'PBelt',\n",
    "    'A4',\n",
    "    'TA2',\n",
    "    'A5']\n",
    "\n",
    "atlas_indices,indices,parcel_names=nat_asd_utils.get_parcel_indices(atlas,parcels)\n",
    "\n",
    "\n",
    "\n",
    "#atlas_indices_indices=np.where( (atlas_data==204) | (atlas_data==24) )[0]\n",
    "atlas_indices_indices = np.where(np.isin(atlas_data, atlas_indices))[0]\n",
    "\n",
    "\n",
    "\n",
    "\n",
    "im_file = f'/nese/mit/group/sig/projects/hbn/hbn_bids/derivatives/xcp_d_0.7.1/sub-{sub}/ses-HBNsiteRU/func/sub-{sub}_ses-HBNsiteRU_task-movieDM_space-fsLR_den-91k_desc-denoisedSmoothed_bold.dtseries.nii'\n",
    "img = nb.load(im_file)\n",
    "img_y = img.get_fdata()\n",
    "Y=img_y[delay:,atlas_indices_indices]\n",
    "\n",
    "all_layers=['input_after_preproc',\n",
    " 'conv1_relu1',\n",
    " 'maxpool1',\n",
    " 'layer1',\n",
    " 'layer2',\n",
    " 'layer3',\n",
    " 'layer4',\n",
    " 'avgpool']\n",
    "\n",
    "# all_layers=['input_after_preproc',\n",
    "#  'conv1_relu1',\n",
    "#  'maxpool1']\n",
    "X=nat_asd_utils.load_audio_features_PCA('DM',delay,all_layers,n_components)\n",
    "# X=nat_asd_utils.load_audio_features_SRP('DM',delay,all_layers,n_components)\n",
    "\n",
    "#X=load_audio_features('DM',delay,all_layers)\n",
    "\n",
    "X = [array[:Y.shape[0], :] for array in X]\n",
    "Y= Y[:X[0].shape[0],:]\n",
    "\n",
    "start_time = time.time()\n",
    "\n",
    "r2s, stacked_r2s, r2s_weighted, _, _, S_average = stacking_CV_fmri(Y, X, method = 'cross_val_ridge',n_folds = 5,score_f=R2)\n",
    "print(time.time() - start_time)\n",
    "print(stacked_r2s.mean())\n",
    "#np.savez(f'../data/test_output_{sub}', r2s=r2s, stacked_r2s=stacked_r2s, r2s_weighted=r2s_weighted, S_average=S_average)"
   ]
  },
  {
   "cell_type": "markdown",
   "id": "29ad92db-8f2c-4227-9eaa-22235036ef6f",
   "metadata": {},
   "source": [
    "### How many components do we need to get 95% variance explained?"
   ]
  },
  {
   "cell_type": "code",
   "execution_count": 72,
   "id": "fbc99bfe-d13b-4acd-8072-0388409efa81",
   "metadata": {},
   "outputs": [],
   "source": [
    "def compute_pca_components(arrays, variance_threshold=0.95):\n",
    "    component_counts = []\n",
    "    for array in arrays:\n",
    "        pca = PCA()\n",
    "        pca.fit(array)\n",
    "        explained_variance = np.cumsum(pca.explained_variance_ratio_)\n",
    "        num_components = np.argmax(explained_variance >= variance_threshold) + 1\n",
    "        component_counts.append(num_components)\n",
    "    return component_counts"
   ]
  },
  {
   "cell_type": "code",
   "execution_count": 73,
   "id": "0f6b1d2f-39fe-4300-abd2-c305328eccfd",
   "metadata": {},
   "outputs": [
    {
     "data": {
      "text/plain": [
       "[21, 37, 33, 132, 200, 280, 228, 123]"
      ]
     },
     "execution_count": 73,
     "metadata": {},
     "output_type": "execute_result"
    }
   ],
   "source": [
    "X=nat_asd_utils.load_audio_features_RAW('DM',delay,all_layers)\n",
    "compute_pca_components(X, variance_threshold=0.95)"
   ]
  },
  {
   "cell_type": "code",
   "execution_count": null,
   "id": "c8283ada-7283-499f-b6aa-fc1e48ab90aa",
   "metadata": {},
   "outputs": [],
   "source": []
  },
  {
   "cell_type": "markdown",
   "id": "6e4a2a68-38c5-4eb6-bcc7-a32c05e2c75c",
   "metadata": {},
   "source": [
    "## plot on a brain to sanity check"
   ]
  },
  {
   "cell_type": "code",
   "execution_count": null,
   "id": "d44897db-cd15-4953-8fce-d91b8f4ec815",
   "metadata": {},
   "outputs": [],
   "source": [
    "import nilearn.plotting as plotting\n",
    "\n",
    "plot_brain=np.zeros(atlas_data.shape)\n",
    "for i, ind in enumerate(atlas_indices_indices):\n",
    "    plot_brain[ind]=stacked_r2s[i]\n",
    "\n",
    "plotting.view_surf(hcp.mesh.inflated, hcp.cortex_data(plot_brain), \n",
    "    threshold=0.001,bg_map=hcp.mesh.sulc)"
   ]
  },
  {
   "cell_type": "code",
   "execution_count": null,
   "id": "c922f0bb-1ac0-4c39-8e07-296389c7515b",
   "metadata": {},
   "outputs": [],
   "source": []
  }
 ],
 "metadata": {
  "kernelspec": {
   "display_name": "Python 3 (ipykernel)",
   "language": "python",
   "name": "python3"
  },
  "language_info": {
   "codemirror_mode": {
    "name": "ipython",
    "version": 3
   },
   "file_extension": ".py",
   "mimetype": "text/x-python",
   "name": "python",
   "nbconvert_exporter": "python",
   "pygments_lexer": "ipython3",
   "version": "3.11.9"
  }
 },
 "nbformat": 4,
 "nbformat_minor": 5
}
