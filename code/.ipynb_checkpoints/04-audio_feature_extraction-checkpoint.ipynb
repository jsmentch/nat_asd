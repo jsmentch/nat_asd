{
 "cells": [
  {
   "cell_type": "markdown",
   "id": "b6956a75-48de-48d2-a8e8-3138eefe039d",
   "metadata": {},
   "source": [
    "# extract auditory features from audio clips"
   ]
  },
  {
   "cell_type": "code",
   "execution_count": null,
   "id": "c69b0012-06c1-46d5-8187-1a3f9cb67720",
   "metadata": {},
   "outputs": [],
   "source": [
    "#use conda env cochdnn"
   ]
  },
  {
   "cell_type": "code",
   "execution_count": 1,
   "id": "fcc86538-f0e1-4751-8e86-e4a987dcf5c1",
   "metadata": {},
   "outputs": [],
   "source": [
    "\n",
    "from __future__ import division\n",
    "from scipy.io import wavfile\n",
    "import os\n",
    "import glob\n",
    "\n",
    "# make sure we are using the correct plotting display. \n",
    "import matplotlib \n",
    "matplotlib.use('agg')\n",
    "import matplotlib.pyplot as plt\n",
    "import numpy as np\n",
    "\n",
    "import sys\n",
    "if sys.version_info < (3,):\n",
    "    from StringIO import StringIO as BytesIO\n",
    "else:\n",
    "    from io import BytesIO\n",
    "import base64\n",
    "\n",
    "import scipy\n",
    "import pickle\n",
    "import h5py\n",
    "import argparse\n",
    "\n",
    "import torch\n",
    "from robustness.tools.audio_helpers import load_audio_wav_resample\n",
    "#from analysis_scripts.default_paths import fMRI_DATA_PATH\n",
    "\n",
    "import itertools\n",
    "\n",
    "#import build_network"
   ]
  },
  {
   "cell_type": "code",
   "execution_count": 2,
   "id": "40dbf01f-e962-4e13-9b28-746f739e67fc",
   "metadata": {},
   "outputs": [],
   "source": [
    "def preproc_sound_np(sound):\n",
    "    sound = sound - np.mean(sound)\n",
    "    sound = sound/np.sqrt(np.mean(sound**2))*0.1\n",
    "    sound = np.expand_dims(sound, 0)\n",
    "    sound = torch.from_numpy(sound).float().cuda()\n",
    "    return sound"
   ]
  },
  {
   "cell_type": "code",
   "execution_count": 3,
   "id": "9dfe1f7e-8b1e-4706-b02b-92340729d0d0",
   "metadata": {},
   "outputs": [
    {
     "name": "stdout",
     "output_type": "stream",
     "text": [
      "=> loading checkpoint '/net/vast-storage.ib.cluster/scratch/vast/gablab/jsmentch/cochdnn/model_checkpoints/audio_rep_training_cochleagram_1/standard_training_word_and_audioset_and_speaker_decay_lr/542752d7-9849-49ff-b84a-6758a81585b4/5_checkpoint.pt'\n",
      "=> loaded checkpoint '/net/vast-storage.ib.cluster/scratch/vast/gablab/jsmentch/cochdnn/model_checkpoints/audio_rep_training_cochleagram_1/standard_training_word_and_audioset_and_speaker_decay_lr/542752d7-9849-49ff-b84a-6758a81585b4/5_checkpoint.pt' (epoch 6)\n"
     ]
    }
   ],
   "source": [
    "import importlib\n",
    "\n",
    "# Choose the model that will be loaded\n",
    "model_dir = '/om2/user/jsmentch/cochdnn/model_directories/resnet50_word_speaker_audioset'\n",
    "\n",
    "build_network_spec = importlib.util.spec_from_file_location(\"build_network\",\n",
    "                        os.path.join(model_dir, 'build_network.py'))\n",
    "build_network = importlib.util.module_from_spec(build_network_spec)\n",
    "build_network_spec.loader.exec_module(build_network)\n",
    "\n",
    "model, ds, all_layers = build_network.main(return_metamer_layers=True)"
   ]
  },
  {
   "cell_type": "code",
   "execution_count": 4,
   "id": "09a4d78c-6616-41c6-8ebf-33f0b85eb9ef",
   "metadata": {},
   "outputs": [],
   "source": [
    "##############Begin Define Parameters#################\n",
    "stim='TP'\n",
    "save_features_dir = f'../data/{stim}_clips_cochresnet50/'\n",
    "input_dir = f'../data/{stim}_clips/'\n",
    "\n",
    "\n",
    "if not os.path.isdir(save_features_dir):\n",
    "    os.mkdir(save_features_dir) \n",
    "\n",
    "\n",
    "\n",
    "#############LOAD_AUDIO################\n",
    "# contains the metatdata for the list of presented sounds (should be in the correct order)\n",
    "#sound_list = np.load(os.path.join(fMRI_DATA_PATH, 'neural_stim_meta.npy'))\n",
    "sound_list = glob.glob(f'{input_dir}*.wav')\n",
    "sound_list_n=len(sound_list)\n",
    "#wavs_location = os.path.join(fMRI_DATA_PATH, '165_natural_sounds')\n",
    "\n",
    "SR=20000 # Match with the networks we are building/training\n",
    "MEASURE_DUR=2\n",
    "wav_array = np.empty([sound_list_n, SR*MEASURE_DUR])\n",
    "for wav_idx, wav_data in enumerate(sound_list):\n",
    "    test_audio, SR = load_audio_wav_resample(wav_data, DUR_SECS=MEASURE_DUR, resample_SR=SR)\n",
    "    wav_array[wav_idx,:] = test_audio/np.sqrt(np.mean(test_audio**2))\n",
    "\n",
    "# Measure the activations for each sound for each layer, and put the input in the dictionary array. "
   ]
  },
  {
   "cell_type": "code",
   "execution_count": 5,
   "id": "120d5323-abfa-4fdd-90cf-56bf5a14818f",
   "metadata": {},
   "outputs": [
    {
     "data": {
      "text/plain": [
       "['input_after_preproc',\n",
       " 'conv1',\n",
       " 'bn1',\n",
       " 'conv1_relu1',\n",
       " 'maxpool1',\n",
       " 'layer1',\n",
       " 'layer2',\n",
       " 'layer3',\n",
       " 'layer4',\n",
       " 'avgpool',\n",
       " 'final/signal/word_int',\n",
       " 'final/signal/speaker_int',\n",
       " 'final/noise/labels_binary_via_int']"
      ]
     },
     "execution_count": 5,
     "metadata": {},
     "output_type": "execute_result"
    }
   ],
   "source": [
    "all_layers"
   ]
  },
  {
   "cell_type": "code",
   "execution_count": 6,
   "id": "5db21570-3594-492f-8b36-8b9cfe45aaaa",
   "metadata": {},
   "outputs": [
    {
     "name": "stdout",
     "output_type": "stream",
     "text": [
      "input_after_preproc\n",
      "conv1\n",
      "bn1\n",
      "conv1_relu1\n",
      "maxpool1\n",
      "layer1\n",
      "layer2\n",
      "layer3\n",
      "layer4\n",
      "avgpool\n",
      "final/signal/word_int\n",
      "final/signal/speaker_int\n",
      "final/noise/labels_binary_via_int\n"
     ]
    }
   ],
   "source": [
    "filename = 'cochresnet50_activations'\n",
    "# only use the non-fake layers\n",
    "all_layers = [e.split('_fake')[0] for e in all_layers] # Don't duplicate these since we aren't synthesizing\n",
    "new_all_layers = []\n",
    "for l_unique in all_layers:\n",
    "    if l_unique not in new_all_layers:\n",
    "        new_all_layers.append(l_unique)\n",
    "all_layers = new_all_layers\n",
    "net_layer_dict = {}\n",
    "net_layer_dict_full = {}\n",
    "net_h5py_file = h5py.File(os.path.join(save_features_dir, filename + '.h5'), \"w\")\n",
    "net_h5py_file_full = h5py.File(os.path.join(save_features_dir, filename + '_full.h5'), \"w\")\n",
    "\n",
    "# Save the list of layers to the hdf5\n",
    "net_h5py_file['layer_list'] = np.array([layer.encode(\"utf-8\") for layer in all_layers])\n",
    "net_h5py_file_full['layer_list'] = np.array([layer.encode(\"utf-8\") for layer in all_layers])\n",
    "\n",
    "for sound_idx, sound_info in enumerate(sound_list):\n",
    "    sound = preproc_sound_np(wav_array[sound_idx,:])\n",
    "    with torch.no_grad():\n",
    "        (predictions, rep, layer_returns), orig_image = model(sound, with_latent=True) # Corresponding representation\n",
    "\n",
    "    # Make the array have the correct size\n",
    "    if sound_idx == 0:\n",
    "        for layer in all_layers:\n",
    "            print(layer)\n",
    "            layer_shape_165 = layer_returns[layer].shape\n",
    "            layer_shape_full = np.prod(np.array(layer_shape_165))\n",
    "            if len(layer_shape_165)==4:\n",
    "                layer_shape_unraveled = layer_shape_165[1]*layer_shape_165[2]# don't take the time dimension into account\n",
    "            else:\n",
    "                layer_shape_unraveled = layer_shape_165[1]\n",
    "            net_layer_dict_full[layer] = net_h5py_file_full.create_dataset(layer, (sound_list_n, layer_shape_full), dtype='float32')\n",
    "            net_layer_dict[layer] = net_h5py_file.create_dataset(layer, (sound_list_n, layer_shape_unraveled), dtype='float32')\n",
    "\n",
    "    for layer_idx, layer in enumerate(all_layers):\n",
    "        # time averaged features, so that they can be related to the fMRI activations\n",
    "        if layer_returns[layer].ndim==4: # NCHW (W is time)\n",
    "            net_layer_dict[layer][sound_idx,:] = np.mean(layer_returns[layer].cpu().detach().numpy(),3).ravel()\n",
    "        else: # fully connected layers do not have a temporal component.  \n",
    "            net_layer_dict[layer][sound_idx,:] = layer_returns[layer].cpu().detach().numpy().ravel()\n",
    "        net_layer_dict_full[layer][sound_idx,:] = layer_returns[layer].cpu().detach().numpy().ravel()\n",
    "net_h5py_file.close()\n",
    "net_h5py_file_full.close()"
   ]
  },
  {
   "cell_type": "code",
   "execution_count": null,
   "id": "78b3e890-3f59-47ea-a21d-4be05e00d2d0",
   "metadata": {},
   "outputs": [],
   "source": [
    "'''\n",
    "Ian: Another slight detail. You’ll notice there are two h5 files being made to save the layer embeddings:\n",
    "net_h5py_file_full and net_h5py_file. For different reasons, Jenelle would often work with time-averaged \n",
    "representations but saved the time-averaged and full ones separately just in case (to avoid having to\n",
    "average every time). Full is the full embedding and the other is the time averaged one.  If you’re ever\n",
    "confused in this repo, representations, activations, and embeddings all mean the same thing here\n",
    "'''"
   ]
  },
  {
   "cell_type": "markdown",
   "id": "0c9d568f-7d68-49e3-a7ae-fe6ceebb46ca",
   "metadata": {},
   "source": [
    "## look at the extracted features"
   ]
  },
  {
   "cell_type": "code",
   "execution_count": 7,
   "id": "847c1a3e-2f9c-4cd4-9e21-4eb5a77010d2",
   "metadata": {},
   "outputs": [],
   "source": [
    "all_layers=['input_after_preproc',\n",
    " 'conv1',\n",
    " 'bn1',\n",
    " 'conv1_relu1',\n",
    " 'maxpool1',\n",
    " 'layer1',\n",
    " 'layer2',\n",
    " 'layer3',\n",
    " 'layer4',\n",
    " 'avgpool',\n",
    " 'final/signal/word_int',\n",
    " 'final/signal/speaker_int',\n",
    " 'final/noise/labels_binary_via_int']"
   ]
  },
  {
   "cell_type": "code",
   "execution_count": 15,
   "id": "80ac2b23-f2dd-4c83-98b8-afff79bfc6a0",
   "metadata": {},
   "outputs": [
    {
     "name": "stdout",
     "output_type": "stream",
     "text": [
      "CochResNet50 time-averaged\n",
      "(749, 211) input_after_preproc\n",
      "(749, 6784) conv1\n",
      "(749, 6784) bn1\n",
      "(749, 6784) conv1_relu1\n",
      "(749, 3392) maxpool1\n",
      "(749, 13568) layer1\n",
      "(749, 13824) layer2\n",
      "(749, 14336) layer3\n",
      "(749, 14336) layer4\n",
      "(749, 2048) avgpool\n",
      "(749, 794) final/signal/word_int\n",
      "(749, 433) final/signal/speaker_int\n",
      "(749, 517) final/noise/labels_binary_via_int\n",
      "CochResNet50 full\n",
      "(749, 82290) input_after_preproc\n",
      "(749, 1322880) conv1\n",
      "(749, 1322880) bn1\n",
      "(749, 1322880) conv1_relu1\n",
      "(749, 332416) maxpool1\n",
      "(749, 1329664) layer1\n",
      "(749, 677376) layer2\n",
      "(749, 358400) layer3\n",
      "(749, 186368) layer4\n",
      "(749, 2048) avgpool\n",
      "(749, 794) final/signal/word_int\n",
      "(749, 433) final/signal/speaker_int\n",
      "(749, 517) final/noise/labels_binary_via_int\n"
     ]
    }
   ],
   "source": [
    "import os\n",
    "import numpy as np\n",
    "import glob\n",
    "\n",
    "import h5py\n",
    "\n",
    "\n",
    "stim='DM'\n",
    "save_features_dir = f'../data/{stim}_clips_cochresnet50/'\n",
    "\n",
    "print('CochResNet50 time-averaged')\n",
    "# Open the file 'myfile.h5' in read-only mode\n",
    "file = h5py.File(f'{save_features_dir}cochresnet50_activations.h5', 'r')\n",
    "for layer in all_layers:\n",
    "# # Now you can access datasets within the file\n",
    "    data = file[layer]\n",
    "    print(data.shape, layer)\n",
    "# # Don't forget to close the file when you're done\n",
    "file.close()\n",
    "\n",
    "print('CochResNet50 full')\n",
    "# Open the file 'myfile.h5' in read-only mode\n",
    "file = h5py.File(f'{save_features_dir}cochresnet50_activations_full.h5', 'r')\n",
    "for layer in all_layers:\n",
    "# # Now you can access datasets within the file\n",
    "    data = file[layer]\n",
    "    print(data.shape, layer)\n",
    "# # Don't forget to close the file when you're done\n",
    "file.close()"
   ]
  },
  {
   "cell_type": "code",
   "execution_count": 11,
   "id": "4e78ec9e-839c-436c-861a-98d21e3fca7b",
   "metadata": {},
   "outputs": [
    {
     "data": {
      "text/plain": [
       "(82290,)"
      ]
     },
     "execution_count": 11,
     "metadata": {},
     "output_type": "execute_result"
    }
   ],
   "source": [
    "data[0].shape"
   ]
  },
  {
   "cell_type": "code",
   "execution_count": null,
   "id": "51867061-9400-4468-95b8-05d944bbdf5d",
   "metadata": {},
   "outputs": [],
   "source": [
    "CochResNet50 time-averaged\n",
    "(749, 211) input_after_preproc (cochleagram)\n",
    "(749, 6784) conv1\n",
    "(749, 6784) bn1\n",
    "(749, 6784) conv1_relu1\n",
    "(749, 3392) maxpool1\n",
    "(749, 13568) layer1\n",
    "(749, 13824) layer2\n",
    "(749, 14336) layer3\n",
    "(749, 14336) layer4\n",
    "(749, 2048) avgpool\n",
    "(749, 794) final/signal/word_int\n",
    "(749, 433) final/signal/speaker_int\n",
    "(749, 517) final/noise/labels_binary_via_int"
   ]
  }
 ],
 "metadata": {
  "kernelspec": {
   "display_name": "Python 3",
   "language": "python",
   "name": "python3"
  },
  "language_info": {
   "codemirror_mode": {
    "name": "ipython",
    "version": 3
   },
   "file_extension": ".py",
   "mimetype": "text/x-python",
   "name": "python",
   "nbconvert_exporter": "python",
   "pygments_lexer": "ipython3",
   "version": "3.9.18"
  }
 },
 "nbformat": 4,
 "nbformat_minor": 5
}
