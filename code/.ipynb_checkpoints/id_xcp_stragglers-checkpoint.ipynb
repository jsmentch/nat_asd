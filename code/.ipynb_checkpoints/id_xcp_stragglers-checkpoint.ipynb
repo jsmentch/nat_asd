{
 "cells": [
  {
   "cell_type": "code",
   "execution_count": 3,
   "id": "7445c9b4-9b69-4160-a7c4-4ecc4669f339",
   "metadata": {},
   "outputs": [
    {
     "name": "stdout",
     "output_type": "stream",
     "text": [
      "['sub-NDARAA396TWZ', 'sub-NDARBE091BGD', 'sub-NDARCA578CEB', 'sub-NDARCD453JG4', 'sub-NDARCJ667UPL', 'sub-NDAREF662XZT', 'sub-NDAREG590BNY', 'sub-NDARER054VLK', 'sub-NDAREV617HAP', 'sub-NDARFH674DWX', 'sub-NDARFR095UJK', 'sub-NDARHC453LC1', 'sub-NDARHD059PEQ', 'sub-NDARHG232EWH', 'sub-NDARHE236YLB', 'sub-NDARHF904CWB', 'sub-NDARHK526BY1', 'sub-NDARJB366HYJ', 'sub-NDARJJ413MNH', 'sub-NDARJZ549HU8', 'sub-NDARKE358TFU', 'sub-NDARKN742LEV', 'sub-NDARJJ767FBH', 'sub-NDARKW521EMY', 'sub-NDARLE871HNP', 'sub-NDARLE417FRX', 'sub-NDARLM194CEN', 'sub-NDARMP977RHZ', 'sub-NDARMU791UN7', 'sub-NDARNA354MGW', 'sub-NDARNK064DXY', 'sub-NDARNN989FZ4', 'sub-NDARPC418NZL', 'sub-NDARNK241ZXA', 'sub-NDARRA321UKA', 'sub-NDARRC016UZE', 'sub-NDARPX901GZH', 'sub-NDARRU820CXW', 'sub-NDARTC227AXA', 'sub-NDARTK056HL3', 'sub-NDARTT867NWT', 'sub-NDARUF935UL3', 'sub-NDARUJ744NEU', 'sub-NDARUP067TM8', 'sub-NDARVN370YL8', 'sub-NDARWJ064WYP', 'sub-NDARXH393TMM', 'sub-NDARVX292KKC', 'sub-NDARVZ525AA0', 'sub-NDARYX572VEW', 'sub-NDARAJ689BVN', 'sub-NDARBJ478HW5', 'sub-NDARKL916FDC', 'sub-NDARCV628NRY', 'sub-NDARAV082JHA', 'sub-NDARAU044FP6']\n"
     ]
    }
   ],
   "source": [
    "import os\n",
    "import glob\n",
    "\n",
    "# specify your directories\n",
    "dir1 = '/nese/mit/group/sig/projects/hbn/hbn_bids/derivatives/fmriprep_23.2.0'\n",
    "dir2 = '/nese/mit/group/sig/projects/hbn/hbn_bids/derivatives/xcp_d_0.7.1'\n",
    "\n",
    "# get list of folders in dir1 that match 'sub-*'\n",
    "folders_in_dir1 = [os.path.basename(x) for x in glob.glob(os.path.join(dir1, 'sub-*'))]\n",
    "\n",
    "# get list of all folders in dir2\n",
    "folders_in_dir2 = [os.path.basename(x) for x in glob.glob(os.path.join(dir2, 'sub-*'))]\n",
    "\n",
    "# get folders that are in dir1 but not in dir2\n",
    "unique_folders = [folder for folder in folders_in_dir1 if folder not in folders_in_dir2]\n",
    "\n",
    "#print(unique_folders)\n",
    "\n",
    "# filter out entries that end with '.html'\n",
    "filtered_entries = [entry for entry in unique_folders if not entry.endswith('.html')]\n",
    "\n",
    "print(filtered_entries)\n"
   ]
  },
  {
   "cell_type": "code",
   "execution_count": 4,
   "id": "989b0eaa-2774-4b65-b51d-544e83572b8c",
   "metadata": {},
   "outputs": [],
   "source": [
    "# open the file in write mode\n",
    "with open('xcp_stragglers.txt', 'w') as f:\n",
    "    for item in filtered_entries:\n",
    "        # write each item on a new line\n",
    "        f.write(\"%s\\n\" % item)"
   ]
  },
  {
   "cell_type": "code",
   "execution_count": null,
   "id": "1c79fa47-8961-466f-9fa8-5e896d2d0268",
   "metadata": {},
   "outputs": [],
   "source": []
  }
 ],
 "metadata": {
  "kernelspec": {
   "display_name": "Python 3",
   "language": "python",
   "name": "python3"
  },
  "language_info": {
   "codemirror_mode": {
    "name": "ipython",
    "version": 3
   },
   "file_extension": ".py",
   "mimetype": "text/x-python",
   "name": "python",
   "nbconvert_exporter": "python",
   "pygments_lexer": "ipython3",
   "version": "3.8.2"
  }
 },
 "nbformat": 4,
 "nbformat_minor": 5
}
