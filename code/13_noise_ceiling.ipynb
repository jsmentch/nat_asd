{
 "cells": [
  {
   "cell_type": "markdown",
   "id": "bdc5a487-6d69-4325-8b79-f4ede5ac1a10",
   "metadata": {},
   "source": [
    "# notebook to calculate the noise ceiling for a subject from the pilots"
   ]
  },
  {
   "cell_type": "code",
   "execution_count": 1,
   "id": "42373816-3ee2-4ec5-ab5f-8d208d401fc9",
   "metadata": {},
   "outputs": [
    {
     "name": "stderr",
     "output_type": "stream",
     "text": [
      "pixdim[1,2,3] should be non-zero; setting 0 dims to 1\n"
     ]
    }
   ],
   "source": [
    "import numpy as np\n",
    "from sklearn.metrics import r2_score\n",
    "import pilot\n",
    "import nat_asd_utils\n",
    "import matplotlib.pyplot as plt\n",
    "import itertools\n",
    "from scipy.stats import zscore"
   ]
  },
  {
   "cell_type": "code",
   "execution_count": 2,
   "id": "be9a1659-d2c2-4f8a-bc74-70db9b2eed5d",
   "metadata": {},
   "outputs": [
    {
     "data": {
      "text/plain": [
       "['NDARHJ830RXD',\n",
       " 'NDARVB897AH1',\n",
       " 'NDARFA402LMW',\n",
       " 'NDARUX340FYC',\n",
       " 'NDARJG687YYX',\n",
       " 'NDARVD194JX2',\n",
       " 'NDARVR601FUT',\n",
       " 'NDARUL694GYN']"
      ]
     },
     "execution_count": 2,
     "metadata": {},
     "output_type": "execute_result"
    }
   ],
   "source": [
    "with open('good_pilots_ru_dm_list.txt', 'r') as file:\n",
    "    sub_list = file.readlines()\n",
    "good_subjects_list = [line.strip() for line in sub_list]\n",
    "\n",
    "good_subjects_list"
   ]
  },
  {
   "cell_type": "markdown",
   "id": "aa644a02-f55b-4882-b027-c348d0f7c016",
   "metadata": {},
   "source": [
    "## compare one subject to another subject and look at the r2 distribution"
   ]
  },
  {
   "cell_type": "code",
   "execution_count": 3,
   "id": "3f635ad4-a657-47e8-a25c-d68301d4a25f",
   "metadata": {},
   "outputs": [
    {
     "name": "stdout",
     "output_type": "stream",
     "text": [
      "loaded parcels ['A4', 'A5']\n",
      "loaded brain data\n",
      "loaded brain data\n",
      "(746, 728) (746, 728) -1.124192353974565\n"
     ]
    }
   ],
   "source": [
    "Y_sub='NDARHJ830RXD'\n",
    "\n",
    "X_sub='NDARVB897AH1'\n",
    "\n",
    "\n",
    "\n",
    "parcels=pilot.select_parcels('a4a5') # load parcel set\n",
    "atlas_indices_indices=pilot.extract_parcels(parcels) # get indices of parcels\n",
    "Y=pilot.load_sub_brain(Y_sub,0,atlas_indices_indices)\n",
    "X=pilot.load_sub_brain(X_sub,0,atlas_indices_indices)\n",
    "Y= Y[:X.shape[0],:]\n",
    "X= X[:Y.shape[0],:]\n",
    "print(X.shape,Y.shape,r2_score(Y, X))"
   ]
  },
  {
   "cell_type": "code",
   "execution_count": 4,
   "id": "02f34ab7-1de0-40cf-ae87-8d7cfc1154f5",
   "metadata": {},
   "outputs": [
    {
     "data": {
      "text/plain": [
       "(array([  1.,   0.,   0.,   3.,   0.,   0.,   0.,   3.,   1.,   0.,   0.,\n",
       "          0.,   0.,   0.,   1.,   2.,   2.,   1.,   1.,   2.,   3.,   1.,\n",
       "          3.,   4.,   2.,   5.,   3.,   3.,   7.,   6.,  12.,  13.,   2.,\n",
       "         13.,  11.,  13.,  17.,  12.,  18.,  15.,  21.,  26.,  31.,  38.,\n",
       "         41.,  68.,  76.,  87., 101.,  59.]),\n",
       " array([-8.62466857, -8.44816019, -8.27165181, -8.09514343, -7.91863505,\n",
       "        -7.74212667, -7.5656183 , -7.38910992, -7.21260154, -7.03609316,\n",
       "        -6.85958478, -6.6830764 , -6.50656802, -6.33005964, -6.15355126,\n",
       "        -5.97704289, -5.80053451, -5.62402613, -5.44751775, -5.27100937,\n",
       "        -5.09450099, -4.91799261, -4.74148423, -4.56497585, -4.38846748,\n",
       "        -4.2119591 , -4.03545072, -3.85894234, -3.68243396, -3.50592558,\n",
       "        -3.3294172 , -3.15290882, -2.97640044, -2.79989206, -2.62338369,\n",
       "        -2.44687531, -2.27036693, -2.09385855, -1.91735017, -1.74084179,\n",
       "        -1.56433341, -1.38782503, -1.21131665, -1.03480828, -0.8582999 ,\n",
       "        -0.68179152, -0.50528314, -0.32877476, -0.15226638,  0.024242  ,\n",
       "         0.20075038]),\n",
       " <BarContainer object of 50 artists>)"
      ]
     },
     "execution_count": 4,
     "metadata": {},
     "output_type": "execute_result"
    },
    {
     "data": {
      "image/png": "[encoded data removed]",
      "text/plain": [
       "<Figure size 640x480 with 1 Axes>"
      ]
     },
     "metadata": {},
     "output_type": "display_data"
    }
   ],
   "source": [
    "plt.hist(r2_score(Y, X, multioutput='raw_values'),50)"
   ]
  },
  {
   "cell_type": "markdown",
   "id": "3ff02051-b833-4e6b-a555-4ed4dffdcb30",
   "metadata": {},
   "source": [
    "## compare one subject to each other subject and print their R^2"
   ]
  },
  {
   "cell_type": "code",
   "execution_count": 5,
   "id": "ad4d7083-cf30-4c91-ad9f-45c511e24ed6",
   "metadata": {},
   "outputs": [
    {
     "name": "stdout",
     "output_type": "stream",
     "text": [
      "loaded parcels ['A4', 'A5']\n",
      "loaded brain data\n",
      "loaded brain data\n",
      "(746, 728) (746, 728) 1.0\n",
      "loaded parcels ['A4', 'A5']\n",
      "loaded brain data\n",
      "loaded brain data\n",
      "(746, 728) (746, 728) -0.5383128871258391\n",
      "loaded parcels ['A4', 'A5']\n",
      "loaded brain data\n",
      "loaded brain data\n",
      "(746, 728) (746, 728) -0.6605453171634378\n",
      "loaded parcels ['A4', 'A5']\n",
      "loaded brain data\n",
      "loaded brain data\n",
      "(746, 728) (746, 728) -0.6181416297315782\n",
      "loaded parcels ['A4', 'A5']\n",
      "loaded brain data\n",
      "loaded brain data\n",
      "(746, 728) (746, 728) -0.6621568271906778\n",
      "loaded parcels ['A4', 'A5']\n",
      "loaded brain data\n",
      "loaded brain data\n",
      "(746, 728) (746, 728) -0.6088487934862241\n",
      "loaded parcels ['A4', 'A5']\n",
      "loaded brain data\n",
      "loaded brain data\n",
      "(746, 728) (746, 728) -0.4474220567705152\n",
      "loaded parcels ['A4', 'A5']\n",
      "loaded brain data\n",
      "loaded brain data\n",
      "(746, 728) (746, 728) -0.5855915194712296\n"
     ]
    }
   ],
   "source": [
    "Y_sub='NDARHJ830RXD'\n",
    "\n",
    "for x in good_subjects_list:\n",
    "    X_sub=x\n",
    "    \n",
    "    parcels=pilot.select_parcels('a4a5') # load parcel set\n",
    "    atlas_indices_indices=pilot.extract_parcels(parcels) # get indices of parcels\n",
    "    Y=pilot.load_sub_brain(Y_sub,0,atlas_indices_indices)\n",
    "    X=pilot.load_sub_brain(X_sub,0,atlas_indices_indices)\n",
    "    Y= Y[:X.shape[0],:]\n",
    "    X= X[:Y.shape[0],:]\n",
    "    Y=zscore(Y)\n",
    "    X=zscore(X)\n",
    "    print(X.shape,Y.shape,r2_score(Y, X))"
   ]
  },
  {
   "cell_type": "markdown",
   "id": "4a4cb83d-f787-4157-a10e-90734f2d6ecc",
   "metadata": {},
   "source": [
    "so for all subjects the r2 are negative... hmm continue for the other subjects"
   ]
  },
  {
   "cell_type": "markdown",
   "id": "1c7b44e6-f11d-49c1-90b2-1576f3254387",
   "metadata": {},
   "source": [
    "## compare each subject to the means of the other subjects"
   ]
  },
  {
   "cell_type": "code",
   "execution_count": 6,
   "id": "920c4466-3019-445b-8212-50407d2461a0",
   "metadata": {},
   "outputs": [
    {
     "name": "stdout",
     "output_type": "stream",
     "text": [
      "loaded parcels ['A4', 'A5']\n",
      "loaded brain data\n",
      "loaded parcels ['A4', 'A5']\n",
      "loaded brain data\n",
      "loaded parcels ['A4', 'A5']\n",
      "loaded brain data\n",
      "loaded parcels ['A4', 'A5']\n",
      "loaded brain data\n",
      "loaded parcels ['A4', 'A5']\n",
      "loaded brain data\n",
      "loaded parcels ['A4', 'A5']\n",
      "loaded brain data\n",
      "loaded parcels ['A4', 'A5']\n",
      "loaded brain data\n",
      "loaded parcels ['A4', 'A5']\n",
      "loaded brain data\n"
     ]
    }
   ],
   "source": [
    "#get a list of all of the subject data\n",
    "\n",
    "brain_data_list=[]\n",
    "for x in good_subjects_list:\n",
    "    X_sub=x\n",
    "    \n",
    "    parcels=pilot.select_parcels('a4a5') # load parcel set\n",
    "    atlas_indices_indices=pilot.extract_parcels(parcels) # get indices of parcels\n",
    "    #Y=pilot.load_sub_brain(Y_sub,0,atlas_indices_indices)\n",
    "    X=pilot.load_sub_brain(X_sub,0,atlas_indices_indices)\n",
    "    #Y= Y[:X.shape[0],:]\n",
    "    #X= X[:Y.shape[0],:]\n",
    "    brain_data_list.append(X)\n",
    "    #print(X.shape,Y.shape,r2_score(Y, X))\n",
    "min_len=min([b.shape[0] for b in brain_data_list])\n",
    "brain_data_list=[b[:min_len,:] for b in brain_data_list]\n",
    "brain_data_list=[zscore(b) for b in brain_data_list]"
   ]
  },
  {
   "cell_type": "code",
   "execution_count": 7,
   "id": "5cf05b00-b403-4edd-8b20-a427857b71f9",
   "metadata": {},
   "outputs": [
    {
     "name": "stdout",
     "output_type": "stream",
     "text": [
      "0.07229869213227859\n",
      "0.19174225756603375\n",
      "0.08066176808074985\n",
      "0.14054942854279867\n",
      "0.05237060585540822\n",
      "0.06110912348041941\n",
      "0.20437931584121707\n",
      "0.09308665960351627\n"
     ]
    }
   ],
   "source": [
    "for i,b in enumerate(brain_data_list):\n",
    "    brain_data_list_rem = brain_data_list[:i] + brain_data_list[i + 1:]\n",
    "    print(r2_score(b, np.mean(brain_data_list_rem,axis=0) ) )"
   ]
  },
  {
   "cell_type": "markdown",
   "id": "1a993d51-f7a6-4265-9700-d89fb54fdfb4",
   "metadata": {},
   "source": [
    "some are ok but some are a bit low......"
   ]
  },
  {
   "cell_type": "markdown",
   "id": "d213f234-3612-4081-99d1-af5d83848afe",
   "metadata": {},
   "source": [
    "## compare each subject to every combination of other subjects as in the literature... but too large for my huge dataset??"
   ]
  },
  {
   "cell_type": "code",
   "execution_count": 8,
   "id": "a76f6ee8-9564-4d87-9f6b-930bb44958a2",
   "metadata": {},
   "outputs": [],
   "source": [
    "# Get all combinations of all lengths\n",
    "def get_combinations(input_list):\n",
    "    all_combinations = []\n",
    "    for r in range(1, len(input_list) + 1):\n",
    "        combinations_r = itertools.combinations(input_list, r)\n",
    "        all_combinations.extend(combinations_r)\n",
    "    # Convert to a list of lists for better readability\n",
    "    all_combinations = [list(comb) for comb in all_combinations]\n",
    "    #print(len(all_combinations), 'combinations')\n",
    "    return(all_combinations)"
   ]
  },
  {
   "cell_type": "code",
   "execution_count": 9,
   "id": "ecbc75d8-3dd2-4eeb-9a5d-17057defe012",
   "metadata": {},
   "outputs": [
    {
     "name": "stdout",
     "output_type": "stream",
     "text": [
      "0.07229869213227859\n",
      "0.19174225756603375\n",
      "0.08066176808074985\n",
      "0.14054942854279867\n",
      "0.05237060585540822\n",
      "0.06110912348041941\n",
      "0.20437931584121707\n",
      "0.09308665960351627\n"
     ]
    }
   ],
   "source": [
    "for i,b in enumerate(brain_data_list):\n",
    "    brain_data_list_rem = brain_data_list[:i] + brain_data_list[i + 1:]\n",
    "    all_combinations=get_combinations(brain_data_list_rem)\n",
    "    r2_list=[]\n",
    "    for a in all_combinations:\n",
    "        r2_list.append(r2_score(b, np.mean(a,axis=0) ))\n",
    "    print(max(r2_list))"
   ]
  },
  {
   "cell_type": "markdown",
   "id": "523f63b3-ac73-441b-a9b8-04c32a2b6ec4",
   "metadata": {},
   "source": [
    "this is roughly the same as the mean. so the mean is just about as good..."
   ]
  },
  {
   "cell_type": "markdown",
   "id": "f3daed0b-d8c2-44f9-a81a-a0e75288a5b7",
   "metadata": {},
   "source": [
    "## load all of the pilots"
   ]
  },
  {
   "cell_type": "code",
   "execution_count": 10,
   "id": "46211609-1738-4a4b-9cf9-5f97d2e98ac9",
   "metadata": {},
   "outputs": [],
   "source": [
    "with open('pilots_ru_dm_list.txt', 'r') as file:\n",
    "    sub_list = file.readlines()\n",
    "good_subjects_list = [line.strip() for line in sub_list]"
   ]
  },
  {
   "cell_type": "code",
   "execution_count": 11,
   "id": "910084ab-7826-478e-a7fe-ff85abcfeae5",
   "metadata": {},
   "outputs": [
    {
     "name": "stdout",
     "output_type": "stream",
     "text": [
      "loaded parcels ['A4', 'A5']\n",
      "loaded brain data\n",
      "loaded parcels ['A4', 'A5']\n",
      "loaded brain data\n",
      "loaded parcels ['A4', 'A5']\n",
      "loaded brain data\n",
      "loaded parcels ['A4', 'A5']\n",
      "loaded brain data\n",
      "loaded parcels ['A4', 'A5']\n",
      "loaded brain data\n",
      "loaded parcels ['A4', 'A5']\n",
      "loaded brain data\n",
      "loaded parcels ['A4', 'A5']\n",
      "loaded brain data\n",
      "loaded parcels ['A4', 'A5']\n",
      "loaded brain data\n",
      "loaded parcels ['A4', 'A5']\n",
      "loaded brain data\n",
      "loaded parcels ['A4', 'A5']\n",
      "loaded brain data\n",
      "loaded parcels ['A4', 'A5']\n",
      "loaded brain data\n",
      "loaded parcels ['A4', 'A5']\n",
      "loaded brain data\n",
      "loaded parcels ['A4', 'A5']\n",
      "loaded brain data\n",
      "loaded parcels ['A4', 'A5']\n",
      "loaded brain data\n",
      "loaded parcels ['A4', 'A5']\n",
      "loaded brain data\n",
      "loaded parcels ['A4', 'A5']\n",
      "loaded brain data\n",
      "loaded parcels ['A4', 'A5']\n",
      "loaded brain data\n",
      "loaded parcels ['A4', 'A5']\n",
      "loaded brain data\n",
      "loaded parcels ['A4', 'A5']\n",
      "loaded brain data\n",
      "loaded parcels ['A4', 'A5']\n",
      "loaded brain data\n",
      "loaded parcels ['A4', 'A5']\n",
      "loaded brain data\n",
      "loaded parcels ['A4', 'A5']\n",
      "loaded brain data\n",
      "loaded parcels ['A4', 'A5']\n",
      "loaded brain data\n",
      "loaded parcels ['A4', 'A5']\n",
      "loaded brain data\n",
      "loaded parcels ['A4', 'A5']\n",
      "loaded brain data\n",
      "loaded parcels ['A4', 'A5']\n",
      "loaded brain data\n"
     ]
    }
   ],
   "source": [
    "#get a list of all of the subject data\n",
    "\n",
    "brain_data_list=[]\n",
    "for x in good_subjects_list:\n",
    "    X_sub=x\n",
    "    \n",
    "    parcels=pilot.select_parcels('a4a5') # load parcel set\n",
    "    atlas_indices_indices=pilot.extract_parcels(parcels) # get indices of parcels\n",
    "    #Y=pilot.load_sub_brain(Y_sub,0,atlas_indices_indices)\n",
    "    X=pilot.load_sub_brain(X_sub,0,atlas_indices_indices)\n",
    "    #Y= Y[:X.shape[0],:]\n",
    "    #X= X[:Y.shape[0],:]\n",
    "    brain_data_list.append(X)\n",
    "    #print(X.shape,Y.shape,r2_score(Y, X))\n",
    "min_len=min([b.shape[0] for b in brain_data_list])\n",
    "brain_data_list=[b[:min_len,:] for b in brain_data_list]\n",
    "brain_data_list=[zscore(b) for b in brain_data_list]"
   ]
  },
  {
   "cell_type": "markdown",
   "id": "5c4c3097-e88f-4a33-a63b-42d1b59589f4",
   "metadata": {},
   "source": [
    "## get the mean of all others to the withheld"
   ]
  },
  {
   "cell_type": "code",
   "execution_count": 12,
   "id": "8a6b9045-bba9-4975-a632-8bd365ed3415",
   "metadata": {},
   "outputs": [
    {
     "name": "stdout",
     "output_type": "stream",
     "text": [
      "0.12658046210297774\n",
      "0.05123117523843122\n",
      "0.0078045269991691875\n",
      "0.12931198710427796\n",
      "0.16644742645646526\n",
      "-0.08095453974708126\n",
      "-0.025088722546299118\n",
      "0.17742440875689508\n",
      "-0.0116868039654732\n",
      "0.06345523536738108\n",
      "-0.04940796347937941\n",
      "0.12594353279437048\n",
      "0.11908407714314907\n",
      "-0.08964204123038573\n",
      "0.15747861015303305\n",
      "-0.11831733776935038\n",
      "0.10672798643852839\n",
      "0.11773492157563632\n",
      "0.06551801257800755\n",
      "-0.0448435979423053\n",
      "0.026527317591144947\n",
      "0.038366458647542914\n",
      "-0.10577143882391492\n",
      "0.10960457461812242\n",
      "0.2048050911966211\n",
      "0.11721071752151808\n"
     ]
    }
   ],
   "source": [
    "for i,b in enumerate(brain_data_list):\n",
    "    brain_data_list_rem = brain_data_list[:i] + brain_data_list[i + 1:]\n",
    "    print(r2_score(b, np.mean(brain_data_list_rem,axis=0) ) )"
   ]
  },
  {
   "cell_type": "markdown",
   "id": "9516096e-406d-403c-bc1c-36144f3becc0",
   "metadata": {},
   "source": [
    " don't run combinations because it is 33 million combinations :]"
   ]
  },
  {
   "cell_type": "markdown",
   "id": "246980ed-223f-4d07-ad39-6e26dafbe5b0",
   "metadata": {},
   "source": [
    "## compare each subject to each other looping through list"
   ]
  },
  {
   "cell_type": "code",
   "execution_count": 13,
   "id": "80fce7e6-a9fd-411f-b07a-6b10ed88f190",
   "metadata": {},
   "outputs": [
    {
     "name": "stdout",
     "output_type": "stream",
     "text": [
      "-0.7501244049017566 -0.5471533216531052\n",
      "-0.8225756422715128 -0.6701276105820779\n",
      "-0.8643320348092648 -0.7227990744781615\n",
      "-0.7474979385543523 -0.5509763123325\n",
      "-0.7117907853310954 -0.43382791925331754\n",
      "-0.9496772912960441 -0.8372436961424505\n",
      "-0.895960159372215 -0.808028502951978\n",
      "-0.7012359946576052 -0.3007443515833901\n",
      "-0.8830736991983439 -0.7494824350856452\n",
      "-0.8108217383013688 -0.6230083170598758\n",
      "-0.9193440448847922 -0.8061318379801649\n",
      "-0.7507368369292636 -0.534214769279781\n",
      "-0.7573324673631302 -0.4993451255967904\n",
      "-0.9580306581069138 -0.8494353522021368\n",
      "-0.7204146471613186 -0.4100207468127243\n",
      "-0.985603058625149 -0.8713472137616243\n",
      "-0.7692133238098809 -0.5745410589548721\n",
      "-0.7586297323318925 -0.5824910228844479\n",
      "-0.8088382986757662 -0.6527658605400821\n",
      "-0.9149552318683749 -0.6973481848640032\n",
      "-0.8463293515477496 -0.6914015640489211\n",
      "-0.8349455620704438 -0.6072805529656916\n",
      "-0.973539694254538 -0.6973481848640032\n",
      "-0.7664473736371943 -0.5623211513468291\n",
      "-0.6749084153886379 -0.3007443515833901\n",
      "-0.7591337746916216 -0.4315242389248522\n"
     ]
    }
   ],
   "source": [
    "for i,b in enumerate(brain_data_list):\n",
    "    r2_list=[]\n",
    "    brain_data_list_rem = brain_data_list[:i] + brain_data_list[i + 1:]\n",
    "    for a in brain_data_list_rem:\n",
    "        \n",
    "        r2_list.append(r2_score(b, a ) )\n",
    "    print(np.mean(r2_list),max(r2_list))\n"
   ]
  },
  {
   "cell_type": "markdown",
   "id": "21a9d7ba-7f89-4a84-995e-98f0c5ff36f9",
   "metadata": {},
   "source": [
    "for all of the subjects, the mean and max of the pairwise r2 scores is negative! Not great. This was Brian's proposed method"
   ]
  },
  {
   "cell_type": "markdown",
   "id": "9c4ddbe6-341c-4403-abb0-c0b5064e98f2",
   "metadata": {},
   "source": [
    "## What about a split-half?"
   ]
  },
  {
   "cell_type": "code",
   "execution_count": 20,
   "id": "a25aa958-d10e-45dd-be0a-e50100ec5d3e",
   "metadata": {},
   "outputs": [
    {
     "name": "stdout",
     "output_type": "stream",
     "text": [
      "0.09897124799624309\n"
     ]
    }
   ],
   "source": [
    "brain_data_list1 = brain_data_list[:13]\n",
    "brain_data_list2= brain_data_list[13:]\n",
    "print(r2_score(np.mean(brain_data_list1,axis=0), np.mean(brain_data_list2,axis=0) ) )\n"
   ]
  },
  {
   "cell_type": "code",
   "execution_count": 21,
   "id": "b21981c1-8847-4013-87e4-ef5a3c54139f",
   "metadata": {},
   "outputs": [],
   "source": [
    "def spearman_brown(r,n):\n",
    "    return(r*n)/(1+(n-1)*r)"
   ]
  },
  {
   "cell_type": "code",
   "execution_count": 22,
   "id": "dd0db3a5-1f8e-4d20-a638-b7dbc537a240",
   "metadata": {},
   "outputs": [
    {
     "data": {
      "text/plain": [
       "0.18011617351536285"
      ]
     },
     "execution_count": 22,
     "metadata": {},
     "output_type": "execute_result"
    }
   ],
   "source": [
    "spearman_brown(0.09897124799624309,2)"
   ]
  },
  {
   "cell_type": "markdown",
   "id": "19bc0714-d049-42b7-8249-09a9c37b768a",
   "metadata": {},
   "source": [
    "## take a look at the friends data"
   ]
  },
  {
   "cell_type": "code",
   "execution_count": null,
   "id": "b28f3a47-cafc-43eb-94bb-a837f2eaa9bd",
   "metadata": {},
   "outputs": [],
   "source": [
    "#X=pilot.load_sub_brain_friends(X_sub,'DM',0,atlas_indices_indices)"
   ]
  },
  {
   "cell_type": "code",
   "execution_count": 23,
   "id": "92d4d6b6-ec7b-4a8a-825e-edcbb3aeef38",
   "metadata": {},
   "outputs": [
    {
     "name": "stdout",
     "output_type": "stream",
     "text": [
      "loaded parcels ['A4', 'A5']\n",
      "loaded brain data\n",
      "loaded parcels ['A4', 'A5']\n",
      "loaded brain data\n",
      "loaded parcels ['A4', 'A5']\n",
      "loaded brain data\n",
      "loaded parcels ['A4', 'A5']\n",
      "loaded brain data\n",
      "loaded parcels ['A4', 'A5']\n",
      "loaded brain data\n",
      "loaded parcels ['A4', 'A5']\n",
      "loaded brain data\n"
     ]
    }
   ],
   "source": [
    "#get a list of all of the subject data\n",
    "\n",
    "brain_data_list=[]\n",
    "for x in ['01','02','03','04','05','06']:\n",
    "    X_sub=x\n",
    "    \n",
    "    parcels=pilot.select_parcels('a4a5') # load parcel set\n",
    "    atlas_indices_indices=pilot.extract_parcels(parcels) # get indices of parcels\n",
    "    #Y=pilot.load_sub_brain(Y_sub,0,atlas_indices_indices)\n",
    "    X=pilot.load_sub_brain_friends(X_sub,'s01e02a',0,atlas_indices_indices)\n",
    "    #Y= Y[:X.shape[0],:]\n",
    "    #X= X[:Y.shape[0],:]\n",
    "    brain_data_list.append(X)\n",
    "    #print(X.shape,Y.shape,r2_score(Y, X))\n",
    "min_len=min([b.shape[0] for b in brain_data_list])\n",
    "brain_data_list=[b[:min_len,:] for b in brain_data_list]\n",
    "brain_data_list=[zscore(b) for b in brain_data_list]"
   ]
  },
  {
   "cell_type": "code",
   "execution_count": 37,
   "id": "4e63fa0c-2173-433f-a6d4-b24a8425e733",
   "metadata": {},
   "outputs": [
    {
     "name": "stdout",
     "output_type": "stream",
     "text": [
      "0.163786819100499\n",
      "0.07069571166192419\n",
      "0.28039589100299195\n",
      "0.17605787162963235\n",
      "0.0177177610969053\n",
      "0.04196203206067468\n"
     ]
    }
   ],
   "source": [
    "for i,b in enumerate(brain_data_list):\n",
    "    brain_data_list_rem = brain_data_list[:i] + brain_data_list[i+1:]\n",
    "    print(r2_score(b, np.mean(brain_data_list_rem,axis=0) ) )"
   ]
  },
  {
   "cell_type": "markdown",
   "id": "81b65c44-9e9c-4b16-8a5e-aa0c75771c81",
   "metadata": {},
   "source": [
    "## split half (friends)"
   ]
  },
  {
   "cell_type": "code",
   "execution_count": 36,
   "id": "9f69b212-99bf-458a-9247-aacf6ab87efc",
   "metadata": {},
   "outputs": [
    {
     "name": "stdout",
     "output_type": "stream",
     "text": [
      "0.05308096384145746\n"
     ]
    }
   ],
   "source": [
    "brain_data_list1 = brain_data_list[:3]\n",
    "brain_data_list2= brain_data_list[3:]\n",
    "print(r2_score(np.mean(brain_data_list1,axis=0), np.mean(brain_data_list2,axis=0) ) )"
   ]
  },
  {
   "cell_type": "code",
   "execution_count": 39,
   "id": "3977f23a-01c7-4114-9c85-ba4c797187af",
   "metadata": {},
   "outputs": [
    {
     "data": {
      "text/plain": [
       "0.10081079359335729"
      ]
     },
     "execution_count": 39,
     "metadata": {},
     "output_type": "execute_result"
    }
   ],
   "source": [
    "spearman_brown(0.05308096384145746,2)"
   ]
  },
  {
   "cell_type": "code",
   "execution_count": 11,
   "id": "62d5dcea-9f8a-44b6-96ee-c5e8f2fc39c8",
   "metadata": {},
   "outputs": [],
   "source": [
    "# do subjects with low noise ceilings have low R^2 encoding model performance?"
   ]
  },
  {
   "cell_type": "code",
   "execution_count": null,
   "id": "7d7af905-aa0a-45b3-956a-db6dc4f21377",
   "metadata": {},
   "outputs": [],
   "source": [
    "# plot noise-ceiling normalized R^2"
   ]
  },
  {
   "cell_type": "code",
   "execution_count": null,
   "id": "f4cf42ac-d936-401d-911f-7185e3f47875",
   "metadata": {},
   "outputs": [],
   "source": [
    "look at blank 2014 pnas methods"
   ]
  },
  {
   "cell_type": "code",
   "execution_count": 2,
   "id": "ee675970-70c5-4c00-ab34-3a7c616100cc",
   "metadata": {},
   "outputs": [],
   "source": [
    "# compare the good pilots to all other pilots?"
   ]
  },
  {
   "cell_type": "code",
   "execution_count": null,
   "id": "09af6098-1231-404c-aef4-54ee6064343c",
   "metadata": {},
   "outputs": [],
   "source": [
    "# compare to friends"
   ]
  },
  {
   "cell_type": "code",
   "execution_count": null,
   "id": "b46207c0-0d12-448f-a9e9-b44d1cb42c0f",
   "metadata": {},
   "outputs": [],
   "source": [
    "# compare averaging all the other subjects"
   ]
  },
  {
   "cell_type": "code",
   "execution_count": null,
   "id": "f634971e-d8d0-42c9-8948-750cb31e1a27",
   "metadata": {},
   "outputs": [],
   "source": [
    "# check: am i using the right preprocessed files?"
   ]
  }
 ],
 "metadata": {
  "kernelspec": {
   "display_name": "Python 3 (ipykernel)",
   "language": "python",
   "name": "python3"
  },
  "language_info": {
   "codemirror_mode": {
    "name": "ipython",
    "version": 3
   },
   "file_extension": ".py",
   "mimetype": "text/x-python",
   "name": "python",
   "nbconvert_exporter": "python",
   "pygments_lexer": "ipython3",
   "version": "3.11.9"
  }
 },
 "nbformat": 4,
 "nbformat_minor": 5
}
