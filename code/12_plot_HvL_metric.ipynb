{
 "cells": [
  {
   "cell_type": "markdown",
   "id": "20a8462e-187e-4744-a07c-5d292d8eb624",
   "metadata": {},
   "source": [
    "# notebook to plot the weights at different regions to get my high vs low metric"
   ]
  },
  {
   "cell_type": "markdown",
   "id": "9b49f308-31ed-4d8e-b5be-38d2567e0e6d",
   "metadata": {},
   "source": [
    "## start with just a4/a5"
   ]
  },
  {
   "cell_type": "code",
   "execution_count": 5,
   "id": "8094d214-f9ab-45ea-99d6-104b813dd766",
   "metadata": {},
   "outputs": [],
   "source": [
    "#load the data for: friends a4a5 srp\n",
    "\n",
    "#for now skip getting a4 vs a5? but need to do that sometime\n",
    "\n",
    "\n",
    "# calculate noise ceiling for a ROI / subject\n",
    "# run encoding model on ROI\n",
    "# plot weights for ROI"
   ]
  },
  {
   "cell_type": "code",
   "execution_count": null,
   "id": "12a91226-3f0e-42dc-9053-8bfd7fd376ba",
   "metadata": {},
   "outputs": [],
   "source": [
    "#are the results consistent across halfs of an episode...\n",
    "#I somehow  dont think they will be :["
   ]
  },
  {
   "cell_type": "code",
   "execution_count": null,
   "id": "9584729e-6511-41e1-b52f-8b421776f21d",
   "metadata": {},
   "outputs": [],
   "source": []
  },
  {
   "cell_type": "code",
   "execution_count": null,
   "id": "5424f0d2-22f5-425d-a2e0-29b85dcff77e",
   "metadata": {},
   "outputs": [],
   "source": []
  },
  {
   "cell_type": "code",
   "execution_count": null,
   "id": "bf7d58fc-ee67-4906-95c5-f4db03cca0b9",
   "metadata": {},
   "outputs": [],
   "source": [
    "#todo run the srp friends auditory regions"
   ]
  }
 ],
 "metadata": {
  "kernelspec": {
   "display_name": "Python 3 (ipykernel)",
   "language": "python",
   "name": "python3"
  },
  "language_info": {
   "codemirror_mode": {
    "name": "ipython",
    "version": 3
   },
   "file_extension": ".py",
   "mimetype": "text/x-python",
   "name": "python",
   "nbconvert_exporter": "python",
   "pygments_lexer": "ipython3",
   "version": "3.8.5"
  }
 },
 "nbformat": 4,
 "nbformat_minor": 5
}
